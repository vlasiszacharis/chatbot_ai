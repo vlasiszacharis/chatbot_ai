{
 "cells": [
  {
   "cell_type": "code",
   "execution_count": 3,
   "metadata": {
    "_cell_guid": "b1076dfc-b9ad-4769-8c92-a6c4dae69d19",
    "_uuid": "8f2839f25d086af736a60e9eeb907d3b93b6e0e5",
    "execution": {
     "iopub.execute_input": "2025-06-01T13:35:31.191283Z",
     "iopub.status.busy": "2025-06-01T13:35:31.190554Z",
     "iopub.status.idle": "2025-06-01T13:35:34.339050Z",
     "shell.execute_reply": "2025-06-01T13:35:34.338080Z",
     "shell.execute_reply.started": "2025-06-01T13:35:31.191217Z"
    },
    "trusted": true
   },
   "outputs": [
    {
     "name": "stdout",
     "output_type": "stream",
     "text": [
      "Requirement already satisfied: langchain in /Library/Frameworks/Python.framework/Versions/3.13/lib/python3.13/site-packages (0.3.23)\n",
      "Requirement already satisfied: langchain-core in /Library/Frameworks/Python.framework/Versions/3.13/lib/python3.13/site-packages (0.3.51)\n",
      "Requirement already satisfied: langchain-google-genai in /Library/Frameworks/Python.framework/Versions/3.13/lib/python3.13/site-packages (2.1.2)\n",
      "Requirement already satisfied: pydantic in /Library/Frameworks/Python.framework/Versions/3.13/lib/python3.13/site-packages (2.11.2)\n",
      "Requirement already satisfied: flask in /Library/Frameworks/Python.framework/Versions/3.13/lib/python3.13/site-packages (3.1.1)\n",
      "Requirement already satisfied: pyngrok in /Library/Frameworks/Python.framework/Versions/3.13/lib/python3.13/site-packages (7.2.9)\n",
      "Requirement already satisfied: flask-cors in /Library/Frameworks/Python.framework/Versions/3.13/lib/python3.13/site-packages (6.0.0)\n",
      "Requirement already satisfied: langchain-text-splitters<1.0.0,>=0.3.8 in /Library/Frameworks/Python.framework/Versions/3.13/lib/python3.13/site-packages (from langchain) (0.3.8)\n",
      "Requirement already satisfied: langsmith<0.4,>=0.1.17 in /Library/Frameworks/Python.framework/Versions/3.13/lib/python3.13/site-packages (from langchain) (0.3.24)\n",
      "Requirement already satisfied: SQLAlchemy<3,>=1.4 in /Library/Frameworks/Python.framework/Versions/3.13/lib/python3.13/site-packages (from langchain) (2.0.40)\n",
      "Requirement already satisfied: requests<3,>=2 in /Library/Frameworks/Python.framework/Versions/3.13/lib/python3.13/site-packages (from langchain) (2.32.3)\n",
      "Requirement already satisfied: PyYAML>=5.3 in /Library/Frameworks/Python.framework/Versions/3.13/lib/python3.13/site-packages (from langchain) (6.0.2)\n",
      "Requirement already satisfied: tenacity!=8.4.0,<10.0.0,>=8.1.0 in /Library/Frameworks/Python.framework/Versions/3.13/lib/python3.13/site-packages (from langchain-core) (9.1.2)\n",
      "Requirement already satisfied: jsonpatch<2.0,>=1.33 in /Library/Frameworks/Python.framework/Versions/3.13/lib/python3.13/site-packages (from langchain-core) (1.33)\n",
      "Requirement already satisfied: packaging<25,>=23.2 in /Users/haristaratsas/Library/Python/3.13/lib/python/site-packages (from langchain-core) (24.2)\n",
      "Requirement already satisfied: typing-extensions>=4.7 in /Library/Frameworks/Python.framework/Versions/3.13/lib/python3.13/site-packages (from langchain-core) (4.12.2)\n",
      "Requirement already satisfied: annotated-types>=0.6.0 in /Library/Frameworks/Python.framework/Versions/3.13/lib/python3.13/site-packages (from pydantic) (0.7.0)\n",
      "Requirement already satisfied: pydantic-core==2.33.1 in /Library/Frameworks/Python.framework/Versions/3.13/lib/python3.13/site-packages (from pydantic) (2.33.1)\n",
      "Requirement already satisfied: typing-inspection>=0.4.0 in /Library/Frameworks/Python.framework/Versions/3.13/lib/python3.13/site-packages (from pydantic) (0.4.0)\n",
      "Requirement already satisfied: jsonpointer>=1.9 in /Library/Frameworks/Python.framework/Versions/3.13/lib/python3.13/site-packages (from jsonpatch<2.0,>=1.33->langchain-core) (3.0.0)\n",
      "Requirement already satisfied: httpx<1,>=0.23.0 in /Library/Frameworks/Python.framework/Versions/3.13/lib/python3.13/site-packages (from langsmith<0.4,>=0.1.17->langchain) (0.28.1)\n",
      "Requirement already satisfied: orjson<4.0.0,>=3.9.14 in /Library/Frameworks/Python.framework/Versions/3.13/lib/python3.13/site-packages (from langsmith<0.4,>=0.1.17->langchain) (3.10.16)\n",
      "Requirement already satisfied: requests-toolbelt<2.0.0,>=1.0.0 in /Library/Frameworks/Python.framework/Versions/3.13/lib/python3.13/site-packages (from langsmith<0.4,>=0.1.17->langchain) (1.0.0)\n",
      "Requirement already satisfied: zstandard<0.24.0,>=0.23.0 in /Library/Frameworks/Python.framework/Versions/3.13/lib/python3.13/site-packages (from langsmith<0.4,>=0.1.17->langchain) (0.23.0)\n",
      "Requirement already satisfied: anyio in /Library/Frameworks/Python.framework/Versions/3.13/lib/python3.13/site-packages (from httpx<1,>=0.23.0->langsmith<0.4,>=0.1.17->langchain) (4.9.0)\n",
      "Requirement already satisfied: certifi in /Library/Frameworks/Python.framework/Versions/3.13/lib/python3.13/site-packages (from httpx<1,>=0.23.0->langsmith<0.4,>=0.1.17->langchain) (2025.1.31)\n",
      "Requirement already satisfied: httpcore==1.* in /Library/Frameworks/Python.framework/Versions/3.13/lib/python3.13/site-packages (from httpx<1,>=0.23.0->langsmith<0.4,>=0.1.17->langchain) (1.0.7)\n",
      "Requirement already satisfied: idna in /Library/Frameworks/Python.framework/Versions/3.13/lib/python3.13/site-packages (from httpx<1,>=0.23.0->langsmith<0.4,>=0.1.17->langchain) (3.10)\n",
      "Requirement already satisfied: h11<0.15,>=0.13 in /Library/Frameworks/Python.framework/Versions/3.13/lib/python3.13/site-packages (from httpcore==1.*->httpx<1,>=0.23.0->langsmith<0.4,>=0.1.17->langchain) (0.14.0)\n",
      "Requirement already satisfied: charset-normalizer<4,>=2 in /Library/Frameworks/Python.framework/Versions/3.13/lib/python3.13/site-packages (from requests<3,>=2->langchain) (3.4.1)\n",
      "Requirement already satisfied: urllib3<3,>=1.21.1 in /Library/Frameworks/Python.framework/Versions/3.13/lib/python3.13/site-packages (from requests<3,>=2->langchain) (2.3.0)\n",
      "Requirement already satisfied: filetype<2.0.0,>=1.2.0 in /Library/Frameworks/Python.framework/Versions/3.13/lib/python3.13/site-packages (from langchain-google-genai) (1.2.0)\n",
      "Requirement already satisfied: google-ai-generativelanguage<0.7.0,>=0.6.16 in /Library/Frameworks/Python.framework/Versions/3.13/lib/python3.13/site-packages (from langchain-google-genai) (0.6.17)\n",
      "Requirement already satisfied: google-api-core!=2.0.*,!=2.1.*,!=2.10.*,!=2.2.*,!=2.3.*,!=2.4.*,!=2.5.*,!=2.6.*,!=2.7.*,!=2.8.*,!=2.9.*,<3.0.0,>=1.34.1 in /Library/Frameworks/Python.framework/Versions/3.13/lib/python3.13/site-packages (from google-api-core[grpc]!=2.0.*,!=2.1.*,!=2.10.*,!=2.2.*,!=2.3.*,!=2.4.*,!=2.5.*,!=2.6.*,!=2.7.*,!=2.8.*,!=2.9.*,<3.0.0,>=1.34.1->google-ai-generativelanguage<0.7.0,>=0.6.16->langchain-google-genai) (2.24.2)\n",
      "Requirement already satisfied: google-auth!=2.24.0,!=2.25.0,<3.0.0,>=2.14.1 in /Library/Frameworks/Python.framework/Versions/3.13/lib/python3.13/site-packages (from google-ai-generativelanguage<0.7.0,>=0.6.16->langchain-google-genai) (2.38.0)\n",
      "Requirement already satisfied: proto-plus<2.0.0,>=1.22.3 in /Library/Frameworks/Python.framework/Versions/3.13/lib/python3.13/site-packages (from google-ai-generativelanguage<0.7.0,>=0.6.16->langchain-google-genai) (1.26.1)\n",
      "Requirement already satisfied: protobuf!=4.21.0,!=4.21.1,!=4.21.2,!=4.21.3,!=4.21.4,!=4.21.5,<7.0.0,>=3.20.2 in /Library/Frameworks/Python.framework/Versions/3.13/lib/python3.13/site-packages (from google-ai-generativelanguage<0.7.0,>=0.6.16->langchain-google-genai) (5.29.4)\n",
      "Requirement already satisfied: googleapis-common-protos<2.0.0,>=1.56.2 in /Library/Frameworks/Python.framework/Versions/3.13/lib/python3.13/site-packages (from google-api-core!=2.0.*,!=2.1.*,!=2.10.*,!=2.2.*,!=2.3.*,!=2.4.*,!=2.5.*,!=2.6.*,!=2.7.*,!=2.8.*,!=2.9.*,<3.0.0,>=1.34.1->google-api-core[grpc]!=2.0.*,!=2.1.*,!=2.10.*,!=2.2.*,!=2.3.*,!=2.4.*,!=2.5.*,!=2.6.*,!=2.7.*,!=2.8.*,!=2.9.*,<3.0.0,>=1.34.1->google-ai-generativelanguage<0.7.0,>=0.6.16->langchain-google-genai) (1.69.2)\n",
      "Requirement already satisfied: grpcio<2.0dev,>=1.33.2 in /Library/Frameworks/Python.framework/Versions/3.13/lib/python3.13/site-packages (from google-api-core[grpc]!=2.0.*,!=2.1.*,!=2.10.*,!=2.2.*,!=2.3.*,!=2.4.*,!=2.5.*,!=2.6.*,!=2.7.*,!=2.8.*,!=2.9.*,<3.0.0,>=1.34.1->google-ai-generativelanguage<0.7.0,>=0.6.16->langchain-google-genai) (1.71.0)\n",
      "Requirement already satisfied: grpcio-status<2.0.dev0,>=1.33.2 in /Library/Frameworks/Python.framework/Versions/3.13/lib/python3.13/site-packages (from google-api-core[grpc]!=2.0.*,!=2.1.*,!=2.10.*,!=2.2.*,!=2.3.*,!=2.4.*,!=2.5.*,!=2.6.*,!=2.7.*,!=2.8.*,!=2.9.*,<3.0.0,>=1.34.1->google-ai-generativelanguage<0.7.0,>=0.6.16->langchain-google-genai) (1.71.0)\n",
      "Requirement already satisfied: cachetools<6.0,>=2.0.0 in /Library/Frameworks/Python.framework/Versions/3.13/lib/python3.13/site-packages (from google-auth!=2.24.0,!=2.25.0,<3.0.0,>=2.14.1->google-ai-generativelanguage<0.7.0,>=0.6.16->langchain-google-genai) (5.5.2)\n",
      "Requirement already satisfied: pyasn1-modules>=0.2.1 in /Library/Frameworks/Python.framework/Versions/3.13/lib/python3.13/site-packages (from google-auth!=2.24.0,!=2.25.0,<3.0.0,>=2.14.1->google-ai-generativelanguage<0.7.0,>=0.6.16->langchain-google-genai) (0.4.2)\n",
      "Requirement already satisfied: rsa<5,>=3.1.4 in /Library/Frameworks/Python.framework/Versions/3.13/lib/python3.13/site-packages (from google-auth!=2.24.0,!=2.25.0,<3.0.0,>=2.14.1->google-ai-generativelanguage<0.7.0,>=0.6.16->langchain-google-genai) (4.9)\n",
      "Requirement already satisfied: pyasn1>=0.1.3 in /Library/Frameworks/Python.framework/Versions/3.13/lib/python3.13/site-packages (from rsa<5,>=3.1.4->google-auth!=2.24.0,!=2.25.0,<3.0.0,>=2.14.1->google-ai-generativelanguage<0.7.0,>=0.6.16->langchain-google-genai) (0.6.1)\n",
      "Requirement already satisfied: blinker>=1.9.0 in /Library/Frameworks/Python.framework/Versions/3.13/lib/python3.13/site-packages (from flask) (1.9.0)\n",
      "Requirement already satisfied: click>=8.1.3 in /Library/Frameworks/Python.framework/Versions/3.13/lib/python3.13/site-packages (from flask) (8.1.8)\n",
      "Requirement already satisfied: itsdangerous>=2.2.0 in /Library/Frameworks/Python.framework/Versions/3.13/lib/python3.13/site-packages (from flask) (2.2.0)\n",
      "Requirement already satisfied: jinja2>=3.1.2 in /Library/Frameworks/Python.framework/Versions/3.13/lib/python3.13/site-packages (from flask) (3.1.6)\n",
      "Requirement already satisfied: markupsafe>=2.1.1 in /Library/Frameworks/Python.framework/Versions/3.13/lib/python3.13/site-packages (from flask) (3.0.2)\n",
      "Requirement already satisfied: werkzeug>=3.1.0 in /Library/Frameworks/Python.framework/Versions/3.13/lib/python3.13/site-packages (from flask) (3.1.3)\n",
      "Requirement already satisfied: sniffio>=1.1 in /Library/Frameworks/Python.framework/Versions/3.13/lib/python3.13/site-packages (from anyio->httpx<1,>=0.23.0->langsmith<0.4,>=0.1.17->langchain) (1.3.1)\n"
     ]
    }
   ],
   "source": [
    "!pip install langchain langchain-core langchain-google-genai pydantic flask pyngrok flask-cors\n"
   ]
  },
  {
   "cell_type": "code",
   "execution_count": 4,
   "metadata": {
    "execution": {
     "iopub.execute_input": "2025-06-01T13:35:35.751518Z",
     "iopub.status.busy": "2025-06-01T13:35:35.750777Z",
     "iopub.status.idle": "2025-06-01T13:35:38.391910Z",
     "shell.execute_reply": "2025-06-01T13:35:38.391147Z",
     "shell.execute_reply.started": "2025-06-01T13:35:35.751486Z"
    },
    "trusted": true
   },
   "outputs": [
    {
     "ename": "ModuleNotFoundError",
     "evalue": "No module named 'langchain_google_genai'",
     "output_type": "error",
     "traceback": [
      "\u001b[31m---------------------------------------------------------------------------\u001b[39m",
      "\u001b[31mModuleNotFoundError\u001b[39m                       Traceback (most recent call last)",
      "\u001b[36mCell\u001b[39m\u001b[36m \u001b[39m\u001b[32mIn[4]\u001b[39m\u001b[32m, line 7\u001b[39m\n\u001b[32m      4\u001b[39m \u001b[38;5;28;01mimport\u001b[39;00m\u001b[38;5;250m \u001b[39m\u001b[34;01mtraceback\u001b[39;00m\n\u001b[32m      6\u001b[39m \u001b[38;5;66;03m# Imports από LangChain και Pydantic\u001b[39;00m\n\u001b[32m----> \u001b[39m\u001b[32m7\u001b[39m \u001b[38;5;28;01mfrom\u001b[39;00m\u001b[38;5;250m \u001b[39m\u001b[34;01mlangchain_google_genai\u001b[39;00m\u001b[38;5;250m \u001b[39m\u001b[38;5;28;01mimport\u001b[39;00m ChatGoogleGenerativeAI\n\u001b[32m      8\u001b[39m \u001b[38;5;28;01mfrom\u001b[39;00m\u001b[38;5;250m \u001b[39m\u001b[34;01mlangchain\u001b[39;00m\u001b[34;01m.\u001b[39;00m\u001b[34;01mprompts\u001b[39;00m\u001b[38;5;250m \u001b[39m\u001b[38;5;28;01mimport\u001b[39;00m ChatPromptTemplate\n\u001b[32m      9\u001b[39m \u001b[38;5;28;01mfrom\u001b[39;00m\u001b[38;5;250m \u001b[39m\u001b[34;01mpydantic\u001b[39;00m\u001b[38;5;250m \u001b[39m\u001b[38;5;28;01mimport\u001b[39;00m BaseModel, Field\n",
      "\u001b[31mModuleNotFoundError\u001b[39m: No module named 'langchain_google_genai'"
     ]
    }
   ],
   "source": [
    "import os\n",
    "import json\n",
    "from typing import Optional, List, Dict, Any\n",
    "import traceback\n",
    "\n",
    "# Imports από LangChain και Pydantic\n",
    "from langchain_google_genai import ChatGoogleGenerativeAI\n",
    "from langchain.prompts import ChatPromptTemplate\n",
    "from pydantic import BaseModel, Field\n",
    "from langchain_core.messages import HumanMessage, AIMessage\n",
    "from langchain_core.runnables.base import RunnableBinding\n",
    "\n",
    "# Για τα Kaggle Secrets\n",
    "from kaggle_secrets import UserSecretsClient\n",
    "\n",
    "# Για Flask και ngrok\n",
    "from flask import Flask, request, jsonify\n",
    "from pyngrok import ngrok, conf\n",
    "import threading # Για να τρέχει το ngrok και το Flask ταυτόχρονα\n",
    "\n",
    "print(\"Οι βιβλιοθήκες φορτώθηκαν επιτυχώς.\")"
   ]
  },
  {
   "cell_type": "code",
   "execution_count": 4,
   "metadata": {
    "execution": {
     "iopub.execute_input": "2025-06-01T13:35:39.710743Z",
     "iopub.status.busy": "2025-06-01T13:35:39.710039Z",
     "iopub.status.idle": "2025-06-01T13:35:39.929024Z",
     "shell.execute_reply": "2025-06-01T13:35:39.928299Z",
     "shell.execute_reply.started": "2025-06-01T13:35:39.710716Z"
    },
    "trusted": true
   },
   "outputs": [
    {
     "name": "stdout",
     "output_type": "stream",
     "text": [
      "Το Google API Key φορτώθηκε επιτυχώς από τα Kaggle Secrets.\n",
      "Το Ngrok Authtoken φορτώθηκε επιτυχώς από τα Kaggle Secrets.\n"
     ]
    }
   ],
   "source": [
    "google_api_key = None\n",
    "ngrok_authtoken = None\n",
    "\n",
    "try:\n",
    "    user_secrets = UserSecretsClient()\n",
    "    google_api_key = user_secrets.get_secret(\"GOOGLE_API_KEY\")\n",
    "    print(\"Το Google API Key φορτώθηκε επιτυχώς από τα Kaggle Secrets.\")\n",
    "\n",
    "    ngrok_authtoken = user_secrets.get_secret(\"NGROK_AUTHTOKEN\")\n",
    "    print(\"Το Ngrok Authtoken φορτώθηκε επιτυχώς από τα Kaggle Secrets.\")\n",
    "\n",
    "except Exception as e:\n",
    "    print(f\"Σφάλμα κατά τη φόρτωση secrets: {e}\")\n",
    "    if not google_api_key:\n",
    "        print(\"ΚΡΙΣΙΜΟ ΣΦΑΛΜΑ: Βεβαιωθείτε ότι έχετε προσθέσει το GOOGLE_API_KEY στα secrets.\")\n",
    "    if not ngrok_authtoken:\n",
    "        print(\"ΚΡΙΣΙΜΟ ΣΦΑΛΜΑ: Βεβαιωθείτε ότι έχετε προσθέσει το NGROK_AUTHTOKEN στα secrets.\")\n",
    "\n",
    "# Ρύθμιση του ngrok authtoken\n",
    "if ngrok_authtoken:\n",
    "    conf.get_default().auth_token = ngrok_authtoken\n",
    "    conf.get_default().monitor_thread = False # Απενεργοποίηση του monitor thread για απλότητα στο Kaggle"
   ]
  },
  {
   "cell_type": "code",
   "execution_count": 7,
   "metadata": {
    "execution": {
     "iopub.execute_input": "2025-06-01T13:36:35.870994Z",
     "iopub.status.busy": "2025-06-01T13:36:35.870714Z",
     "iopub.status.idle": "2025-06-01T13:36:35.880292Z",
     "shell.execute_reply": "2025-06-01T13:36:35.879603Z",
     "shell.execute_reply.started": "2025-06-01T13:36:35.870972Z"
    },
    "trusted": true
   },
   "outputs": [
    {
     "name": "stdout",
     "output_type": "stream",
     "text": [
      "Το αρχείο 'database.json' δημιουργήθηκε επιτυχώς.\n"
     ]
    }
   ],
   "source": [
    "database_content = {\n",
    "  \"theater_general_info\": {\n",
    "    \"name\": \"Θέατρο 'Η Αυλαία'\",\n",
    "    \"address\": \"Πλατεία Συντάγματος 1, 10563 Αθήνα\",\n",
    "    \"phone\": \"210-3201234\",\n",
    "    \"email\": \"info@ayleatheater.gr\",\n",
    "    \"website\": \"www.ayleatheater.gr\",\n",
    "    \"opening_hours_box_office\": \"Δευτέρα - Παρασκευή: 10:00 - 14:00 & 17:00 - 20:00, Σάββατο: 10:00 - 15:00. Τις ημέρες παραστάσεων, το ταμείο είναι ανοιχτό και μία ώρα πριν την έναρξη.\",\n",
    "    \"parking\": {\n",
    "      \"available\": True,\n",
    "      \"details\": \"Διατίθεται περιορισμένος αριθμός δωρεάν θέσεων στάθμευσης στον υπόγειο χώρο του θεάτρου. Εναλλακτικά, υπάρχουν ιδιωτικοί χώροι στάθμευσης περιμετρικά της πλατείας Συντάγματος.\"\n",
    "    },\n",
    "    \"accessibility\": {\n",
    "      \"wheelchair_ramps\": True,\n",
    "      \"accessible_seating\": \"Διαθέσιμες ειδικά διαμορφωμένες θέσεις για χρήστες αμαξιδίων. Παρακαλούμε ενημερώστε κατά την κράτηση.\",\n",
    "      \"accessible_restrooms\": True,\n",
    "      \"hearing_assistance\": \"Διατίθενται συστήματα ενίσχυσης ακοής κατόπιν αιτήματος.\",\n",
    "      \"service_animals\": \"Τα ζώα υπηρεσίας είναι ευπρόσδεκτα στο θέατρο μας.\"\n",
    "    },\n",
    "    \"location_notes\": \"Εύκολη πρόσβαση με Μετρό (Σταθμός Σύνταγμα) και όλα τα μέσα μαζικής μεταφοράς που εξυπηρετούν το κέντρο της Αθήνας.\"\n",
    "  },\n",
    "  \"shows\": [\n",
    "    {\n",
    "      \"id\": \"show1\",\n",
    "      \"title\": \"Άμλετ\",\n",
    "       \"subtitle\": \"Κυρίως Παράσταση\",\n",
    "        \"synopsis\": \"Το κλασικό δράμα του Σαίξπηρ για το διάσημο πρίγκιπα της Δανίας.\",\n",
    "        \"duration\": 120,\n",
    "        \"schedule\": [\n",
    "        {\"date\": \"2025-11-15\", \"time\": \"18:00\", \"availability\": 50, \"price_eur\": 15, \"day_of_week\": \"Σάββατο\"},\n",
    "        {\"date\": \"2025-11-16\", \"time\": \"18:00\", \"availability\": 30, \"price_eur\": 15, \"day_of_week\": \"Κυριακή\"},\n",
    "        {\"date\": \"2025-11-22\", \"time\": \"18:00\", \"availability\": 40, \"price_eur\": 15, \"day_of_week\": \"Σάββατο\"}\n",
    "      ],\n",
    "        \"reviews\": [\"Εξαιρετική παράσταση! Τα παιδιά μας τη λάτρεψαν.\", \"Μια μαγευτική εμπειρία για μικρούς και μεγάλους.\"]\n",
    "    },\n",
    "    {\n",
    "      \"id\": \"show2\",\n",
    "     \"title\": \"Ρωμαίος και Ιουλιέτα\",\n",
    "    \"subtitle\": \"Κυρίως Παράσταση\",\n",
    "    \"duration\": 120,\n",
    "    \"description\": \"Η τραγική ιστορία των δύο νέων εραστών από τον Σαίξπηρ, ένα έργο γεμάτο πάθος, αντιπαραθέσεις οικογενειών και το κλασικό δίλημμα του έρωτα ενάντια στον καθιερωμένο νόμο.\",\n",
    "      \"schedule\": [\n",
    "        {\"date\": \"2025-11-14\", \"time\": \"21:00\", \"availability\": 20, \"price_eur\": 20, \"day_of_week\": \"Παρασκευή\"},\n",
    "        {\"date\": \"2025-11-15\", \"time\": \"21:00\", \"availability\": 10, \"price_eur\": 25, \"day_of_week\": \"Σάββατο\"},\n",
    "        {\"date\": \"2025-11-21\", \"time\": \"21:00\", \"availability\": 15, \"price_eur\": 20, \"day_of_week\": \"Παρασκευή\"}\n",
    "      ],\n",
    "      \"reviews\": [\"Απίστευτο γέλιο! Μια πολύ έξυπνη διασκευή που δεν πρέπει να χάσετε.\", \"Σύγχρονη και εύστοχη, μια από τις καλύτερες κωμωδίες της χρονιάς.\"]\n",
    "    }\n",
    "  ]\n",
    "}\n",
    "\n",
    "try:\n",
    "    with open(\"database.json\", 'w', encoding='utf-8') as f:\n",
    "        json.dump(database_content, f, ensure_ascii=False, indent=2)\n",
    "    print(\"Το αρχείο 'database.json' δημιουργήθηκε επιτυχώς.\")\n",
    "except Exception as e:\n",
    "    print(f\"Σφάλμα κατά τη δημιουργία του 'database.json': {e}\")"
   ]
  },
  {
   "cell_type": "code",
   "execution_count": 8,
   "metadata": {
    "execution": {
     "iopub.execute_input": "2025-06-01T13:36:39.377151Z",
     "iopub.status.busy": "2025-06-01T13:36:39.376877Z",
     "iopub.status.idle": "2025-06-01T13:36:39.401010Z",
     "shell.execute_reply": "2025-06-01T13:36:39.400440Z",
     "shell.execute_reply.started": "2025-06-01T13:36:39.377130Z"
    },
    "trusted": true
   },
   "outputs": [
    {
     "name": "stdout",
     "output_type": "stream",
     "text": [
      "Pydantic models, λίστα εργαλείων και συναρτήσεις μορφοποίησης απαντήσεων ορίστηκαν.\n"
     ]
    }
   ],
   "source": [
    "# Συνάρτηση φόρτωσης δεδομένων\n",
    "def load_theater_data(filepath=\"database.json\") -> Dict[str, Any]:\n",
    "    try:\n",
    "        with open(filepath, 'r', encoding='utf-8') as f:\n",
    "            data = json.load(f)\n",
    "        return data\n",
    "    except FileNotFoundError:\n",
    "        print(f\"ΣΦΑΛΜΑ NOTEBOOK: Το αρχείο δεδομένων '{filepath}' δεν βρέθηκε.\")\n",
    "        return {\"theater_general_info\": {}, \"shows\": []}\n",
    "    except json.JSONDecodeError:\n",
    "        print(f\"ΣΦΑΛΜΑ NOTEBOOK: Το αρχείο '{filepath}' δεν είναι έγκυρο JSON.\")\n",
    "        return {\"theater_general_info\": {}, \"shows\": []}\n",
    "    except Exception as e:\n",
    "        print(f\"ΣΦΑΛΜΑ NOTEBOOK κατά τη φόρτωση των δεδομένων του θεάτρου: {e}\")\n",
    "        return {\"theater_general_info\": {}, \"shows\": []}\n",
    "\n",
    "# Pydantic Models (Εργαλεία) με Ελληνικές Περιγραφές\n",
    "class GetShowInfoParameters(BaseModel):\n",
    "    \"\"\"Χρησιμοποίησε αυτό το εργαλείο όταν ο χρήστης ζητά πληροφορίες για μια συγκεκριμένη παράσταση ή για τις διαθέσιμες παραστάσεις γενικά.\"\"\"\n",
    "    show_name: Optional[str] = Field(None, description=\"Ο τίτλος της παράστασης για την οποία ρωτά ο χρήστης. Αν ο χρήστης ρωτά γενικά για 'παραστάσεις', 'τι παίζει', ή 'πρόγραμμα', αυτό μπορεί να είναι κενό.\")\n",
    "    date_query: Optional[str] = Field(None, description=\"Οποιαδήποτε ημερομηνία ή ημέρα αναφέρει ο χρήστης (π.χ., 'σήμερα', 'αύριο', 'Σάββατο', 'επόμενη εβδομάδα', '15/11/2025').\")\n",
    "    genre_query: Optional[str] = Field(None, description=\"Οποιοδήποτε είδος (genre) αναφέρει ο χρήστης (π.χ., 'κωμωδία', 'παιδική παράσταση').\")\n",
    "\n",
    "class BookTicketParameters(BaseModel):\n",
    "    \"\"\"Χρησιμοποίησε αυτό το εργαλείο όταν ο χρήστης δηλώνει ρητά ότι θέλει να ΚΛΕΙΣΕΙ εισιτήρια για μια συγκεκριμένη παράσταση.\"\"\"\n",
    "    first_name: Optional[str] = Field(None, description=\"Το όνομα του ατόμου που κάνει την κράτηση.\")\n",
    "    last_name: Optional[str] = Field(None, description=\"Το επώνυμο του ατόμου που κάνει την κράτηση.\")\n",
    "    show_name: str = Field(..., description=\"Ο ακριβής τίτλος της παράστασης για την οποία θα γίνει η κράτηση. Πρέπει να αντιστοιχεί σε έναν από τους τίτλους στα 'Διαθέσιμα Δεδομένα Παραστάσεων'.\")\n",
    "    num_tickets: int = Field(..., description=\"Ο αριθμός των εισιτηρίων που θέλει να κλείσει ο χρήστης.\")\n",
    "    date: str = Field(..., description=\"Η συγκεκριμένη ημερομηνία για την κράτηση (π.χ., '15/11/2025'). Πρέπει να είναι έγκυρη ημερομηνία από το πρόγραμμα της παράστασης.\")\n",
    "    time: Optional[str] = Field(None, description=\"Η συγκεκριμένη ώρα για την κράτηση (π.χ., '18:00', '21:00'). Πρέπει να είναι έγκυρη ώρα για την επιλεγμένη ημερομηνία από το πρόγραμμα της παράστασης.\")\n",
    "\n",
    "class GetTheaterInfoParameters(BaseModel):\n",
    "    \"\"\"Χρησιμοποίησε αυτό το εργαλείο όταν ο χρήστης ζητά γενικές πληροφορίες ΓΙΑ ΤΟ ΙΔΙΟ ΤΟ ΘΕΑΤΡΟ (π.χ. διεύθυνση, τηλέφωνο, πάρκινγκ, ιστοσελίδα, ώρες λειτουργίας, προσβασιμότητα).\"\"\"\n",
    "    info_type: str = Field(..., description=\"Το συγκεκριμένο είδος πληροφορίας που ζητείται για το θέατρο (π.χ., 'διεύθυνση', 'τηλέφωνο', 'πάρκινγκ', 'προσβασιμότητα', 'τοποθεσία', 'επικοινωνία', 'γενικές_πληροφορίες').\")\n",
    "\n",
    "tools = [\n",
    "    GetShowInfoParameters,\n",
    "    BookTicketParameters,\n",
    "    GetTheaterInfoParameters\n",
    "]\n",
    "\n",
    "def format_show_info_response(extracted_params: Dict[str, Any], all_shows_data: List[Dict[str, Any]]) -> str:\n",
    "    query_show_name = extracted_params.get(\"show_name\")\n",
    "    query_date = extracted_params.get(\"date_query\")\n",
    "    query_genre = extracted_params.get(\"genre_query\")\n",
    "    relevant_shows = []\n",
    "    if not all_shows_data: return \"Συγγνώμη, δεν έχω διαθέσιμες πληροφορίες για παραστάσεις αυτή τη στιγμή.\"\n",
    "    if query_show_name:\n",
    "        for show in all_shows_data:\n",
    "            if query_show_name.lower() in show.get(\"title\", \"\").lower(): relevant_shows.append(show)\n",
    "        if not relevant_shows: return f\"Δεν βρέθηκε παράσταση με το όνομα '{query_show_name}'.\"\n",
    "    else: relevant_shows = all_shows_data\n",
    "    if query_date:\n",
    "        temp_shows = []\n",
    "        for show in relevant_shows:\n",
    "            for schedule_item in show.get(\"schedule\", []):\n",
    "                if query_date.lower() in schedule_item.get(\"date\", \"\").lower() or query_date.lower() in schedule_item.get(\"day_of_week\", \"\").lower():\n",
    "                    if show not in temp_shows: temp_shows.append(show)\n",
    "                    break\n",
    "        relevant_shows = temp_shows\n",
    "        if not relevant_shows: return f\"Δεν βρέθηκαν παραστάσεις για την ημερομηνία/μέρα '{query_date}'.\"\n",
    "    if query_genre:\n",
    "        relevant_shows = [show for show in relevant_shows if query_genre.lower() in show.get(\"genre\", \"\").lower()]\n",
    "        if not relevant_shows: return f\"Δεν βρέθηκαν παραστάσεις του είδους '{query_genre}'.\"\n",
    "    if not relevant_shows: return \"Δεν βρέθηκαν παραστάσεις που να ταιριάζουν με τα κριτήριά σας.\"\n",
    "    response_parts = []\n",
    "    if len(relevant_shows) == 1 and query_show_name:\n",
    "        show = relevant_shows[0]\n",
    "        response_parts.append(f\"Να οι πληροφορίες για την παράσταση '{show.get('title')}':\")\n",
    "        response_parts.append(f\"  Περιγραφή: {show.get('description', 'Δεν υπάρχει διαθέσιμη περιγραφή.')}\")\n",
    "        response_parts.append(f\"  Είδος: {show.get('genre', 'Άγνωστο')}\")\n",
    "        response_parts.append(f\"  Διάρκεια: {show.get('duration_minutes', ' Άγνωστη')} λεπτά.\")\n",
    "        if show.get(\"actors\"): response_parts.append(f\"  Πρωταγωνιστούν: {', '.join(show.get('actors'))}\")\n",
    "        if show.get(\"schedule\"):\n",
    "            response_parts.append(\"  Πρόγραμμα:\")\n",
    "            for s in show.get(\"schedule\"): response_parts.append(f\"    - {s.get('day_of_week')} {s.get('date')} στις {s.get('time')}, Τιμή: {s.get('price_eur')}€ (Διαθέσιμα: {s.get('availability')})\")\n",
    "        if show.get(\"reviews\"): response_parts.append(f\"  Κριτικές: {' | '.join(show.get('reviews'))}\")\n",
    "    else:\n",
    "        if query_show_name or query_date or query_genre: response_parts.append(\"Βρέθηκαν οι παρακάτω παραστάσεις που ταιριάζουν με τα κριτήριά σας:\")\n",
    "        else: response_parts.append(\"Αυτή τη στιγμή παίζονται οι εξής παραστάσεις:\")\n",
    "        for i, show in enumerate(relevant_shows):\n",
    "            response_parts.append(f\"\\n{i+1}. {show.get('title')} ({show.get('genre', 'Άγνωστο')})\")\n",
    "            if not query_show_name:\n",
    "                response_parts.append(\"   Σύντομο Πρόγραμμα:\")\n",
    "                for s_idx, s_item in enumerate(show.get(\"schedule\", [])):\n",
    "                    if s_idx < 2: response_parts.append(f\"     - {s_item.get('day_of_week')} {s_item.get('date')} στις {s_item.get('time')} ({s_item.get('price_eur')}€)\")\n",
    "                    else:\n",
    "                        response_parts.append(\"     ...και άλλες ημερομηνίες.\")\n",
    "                        break\n",
    "                response_parts.append(f\"   Για περισσότερες λεπτομέρειες, ρωτήστε με για την παράσταση '{show.get('title')}'.\")\n",
    "            elif len(relevant_shows) > 1 :\n",
    "                response_parts.append(f\"   Περιγραφή: {show.get('description', '')[:100]}...\")\n",
    "                response_parts.append(f\"   Για πλήρεις λεπτομέρειες, διευκρινίστε τον ακριβή τίτλο.\")\n",
    "    return \"\\n\".join(response_parts)\n",
    "\n",
    "def format_theater_info_response(extracted_params: Dict[str, Any], theater_general_data: Dict[str, Any]) -> str:\n",
    "    info_type = extracted_params.get(\"info_type\", \"\").lower()\n",
    "    if not theater_general_data: return \"Δεν έχω διαθέσιμες γενικές πληροφορίες για το θέατρο αυτή τη στιγμή.\"\n",
    "    if \"διεύθυνση\" in info_type or \"τοποθεσία\" in info_type or \"πού είναι\" in info_type:\n",
    "        return f\"Η διεύθυνση του θεάτρου '{theater_general_data.get('name', '')}' είναι: {theater_general_data.get('address', 'Δεν έχει καταχωρηθεί.')}. {theater_general_data.get('location_notes', '')}\"\n",
    "    elif \"τηλέφωνο\" in info_type or \"επικοινωνία\" in info_type:\n",
    "        return f\"Μπορείτε να επικοινωνήσετε με το θέατρο στο τηλέφωνο: {theater_general_data.get('phone', 'Δεν έχει καταχωρηθεί.')} ή στο email: {theater_general_data.get('email', 'Δεν έχει καταχωρηθεί.')}.\"\n",
    "    elif \"πάρκινγκ\" in info_type:\n",
    "        parking_info = theater_general_data.get('parking', {})\n",
    "        if parking_info.get('available'): return f\"Για το πάρκινγκ: {parking_info.get('details', 'Διατίθεται πάρκινγκ.')}\"\n",
    "        else: return \"Δυστυχώς, δεν φαίνεται να διατίθεται ειδικός χώρος πάρκινγκ από το θέατρο.\"\n",
    "    elif \"προσβασιμότητα\" in info_type or \"αμεα\" in info_type:\n",
    "        acc_info = theater_general_data.get('accessibility', {})\n",
    "        response = [\"Πληροφορίες προσβασιμότητας:\"]\n",
    "        if acc_info.get('wheelchair_ramps'): response.append(\"- Υπάρχουν ράμπες για αμαξίδια.\")\n",
    "        if acc_info.get('accessible_seating'): response.append(f\"- {acc_info.get('accessible_seating')}\")\n",
    "        if acc_info.get('accessible_restrooms'): response.append(\"- Διατίθενται προσβάσιμες τουαλέτες.\")\n",
    "        if acc_info.get('hearing_assistance'): response.append(f\"- {acc_info.get('hearing_assistance')}\")\n",
    "        if acc_info.get('service_animals'): response.append(f\"- {acc_info.get('service_animals')}\")\n",
    "        if len(response) == 1: return \"Δεν έχω συγκεκριμένες πληροφορίες προσβασιμότητας.\"\n",
    "        return \"\\n\".join(response)\n",
    "    elif \"ώρες\" in info_type or \"ωράριο\" in info_type:\n",
    "        return f\"Οι ώρες λειτουργίας του ταμείου είναι: {theater_general_data.get('opening_hours_box_office', 'Δεν έχουν καταχωρηθεί.')}\"\n",
    "    elif \"ιστοσελίδα\" in info_type or \"website\" in info_type:\n",
    "        return f\"Η ιστοσελίδα του θεάτρου είναι: {theater_general_data.get('website', 'Δεν έχει καταχωρηθεί.')}\"\n",
    "    else: return f\"Καλώς ήρθατε στο θέατρο '{theater_general_data.get('name', '')}'. {theater_general_data.get('location_notes', '')} Μπορείτε να με ρωτήσετε για τις παραστάσεις, τη διεύθυνση, το πάρκινγκ κ.λπ.\"\n",
    "\n",
    "print(\"Pydantic models, λίστα εργαλείων και συναρτήσεις μορφοποίησης απαντήσεων ορίστηκαν.\")"
   ]
  },
  {
   "cell_type": "code",
   "execution_count": null,
   "metadata": {
    "execution": {
     "iopub.execute_input": "2025-06-01T13:36:51.196592Z",
     "iopub.status.busy": "2025-06-01T13:36:51.196323Z"
    },
    "trusted": true
   },
   "outputs": [
    {
     "name": "stdout",
     "output_type": "stream",
     "text": [
      "Αρχικοποίηση ChatGoogleGenerativeAI με μοντέλο gemini-2.0-flash...\n",
      "Το ChatGoogleGenerativeAI (gemini-2.0-flash) αρχικοποιήθηκε επιτυχώς.\n",
      "Σύνδεση εργαλείων με το μοντέλο ChatGoogleGenerativeAI (gemini-2.0-flash)...\n",
      "Η σύνδεση των εργαλείων ολοκληρώθηκε.\n",
      "Η αλυσίδα (chain) με ChatGoogleGenerativeAI (gemini-2.0-flash) δημιουργήθηκε.\n",
      "Προσπάθεια εκκίνησης ngrok...\n",
      "Το Ngrok tunnel είναι ενεργό! Public URL: https://0573-34-44-99-255.ngrok-free.app                  \n",
      "Το Flask app θα ξεκινήσει σε λίγο στην πόρτα 4000. Το API endpoint θα είναι: https://0573-34-44-99-255.ngrok-free.app/chat\n",
      "Εκκίνηση Flask app στην πόρτα 4000...\n",
      " * Serving Flask app '__main__'\n",
      " * Debug mode: off\n",
      "Εισερχόμενο για session my_test_session_123: ddssd\n",
      "Τρέχον ιστορικό για session my_test_session_123 (πριν την κλήση): []\n"
     ]
    },
    {
     "name": "stderr",
     "output_type": "stream",
     "text": [
      "/usr/local/lib/python3.11/dist-packages/langchain_google_genai/chat_models.py:424: UserWarning: Convert_system_message_to_human will be deprecated!\n",
      "  warnings.warn(\"Convert_system_message_to_human will be deprecated!\")\n"
     ]
    },
    {
     "name": "stdout",
     "output_type": "stream",
     "text": [
      "Εισερχόμενο για session my_test_session_123: Ρωμαιος και ιουλιετα\n",
      "Τρέχον ιστορικό για session my_test_session_123 (πριν την κλήση): [HumanMessage(content='ddssd', additional_kwargs={}, response_metadata={}), AIMessage(content=\"Γεια σας! Σε τι μπορώ να σας βοηθήσω σήμερα σχετικά με το Θέατρο 'Η Αυλαία';\", additional_kwargs={}, response_metadata={'prompt_feedback': {'block_reason': 0, 'safety_ratings': []}, 'finish_reason': 'STOP', 'model_name': 'gemini-2.0-flash', 'safety_ratings': []}, id='run--28e2ff4d-9e69-403c-8acc-088cd9b2958e-0', usage_metadata={'input_tokens': 2596, 'output_tokens': 29, 'total_tokens': 2625, 'input_token_details': {'cache_read': 0}})]\n"
     ]
    },
    {
     "name": "stderr",
     "output_type": "stream",
     "text": [
      "/usr/local/lib/python3.11/dist-packages/langchain_google_genai/chat_models.py:424: UserWarning: Convert_system_message_to_human will be deprecated!\n",
      "  warnings.warn(\"Convert_system_message_to_human will be deprecated!\")\n"
     ]
    },
    {
     "name": "stdout",
     "output_type": "stream",
     "text": [
      "  LLM Response (gemini-2.0-flash): Εντοπίστηκε κλήση εργαλείου\n",
      "    -> Πρόθεση: GetShowInfoParameters, Παράμετροι: {'show_name': 'Ρωμαίος και Ιουλιέτα'}\n",
      "Εισερχόμενο για session my_test_session_123: 15-11\n",
      "Τρέχον ιστορικό για session my_test_session_123 (πριν την κλήση): [HumanMessage(content='ddssd', additional_kwargs={}, response_metadata={}), AIMessage(content=\"Γεια σας! Σε τι μπορώ να σας βοηθήσω σήμερα σχετικά με το Θέατρο 'Η Αυλαία';\", additional_kwargs={}, response_metadata={'prompt_feedback': {'block_reason': 0, 'safety_ratings': []}, 'finish_reason': 'STOP', 'model_name': 'gemini-2.0-flash', 'safety_ratings': []}, id='run--28e2ff4d-9e69-403c-8acc-088cd9b2958e-0', usage_metadata={'input_tokens': 2596, 'output_tokens': 29, 'total_tokens': 2625, 'input_token_details': {'cache_read': 0}}), HumanMessage(content='Ρωμαιος και ιουλιετα', additional_kwargs={}, response_metadata={}), AIMessage(content='', additional_kwargs={'function_call': {'name': 'GetShowInfoParameters', 'arguments': '{\"show_name\": \"\\\\u03a1\\\\u03c9\\\\u03bc\\\\u03b1\\\\u03af\\\\u03bf\\\\u03c2 \\\\u03ba\\\\u03b1\\\\u03b9 \\\\u0399\\\\u03bf\\\\u03c5\\\\u03bb\\\\u03b9\\\\u03ad\\\\u03c4\\\\u03b1\"}'}}, response_metadata={'prompt_feedback': {'block_reason': 0, 'safety_ratings': []}, 'finish_reason': 'STOP', 'model_name': 'gemini-2.0-flash', 'safety_ratings': []}, id='run--21e1a423-1253-41cd-9a19-e5d0234699d4-0', tool_calls=[{'name': 'GetShowInfoParameters', 'args': {'show_name': 'Ρωμαίος και Ιουλιέτα'}, 'id': '92d29c15-e2b7-4116-903a-ac8a46b57449', 'type': 'tool_call'}], usage_metadata={'input_tokens': 2800, 'output_tokens': 16, 'total_tokens': 2816, 'input_token_details': {'cache_read': 0}})]\n"
     ]
    },
    {
     "name": "stderr",
     "output_type": "stream",
     "text": [
      "/usr/local/lib/python3.11/dist-packages/langchain_google_genai/chat_models.py:424: UserWarning: Convert_system_message_to_human will be deprecated!\n",
      "  warnings.warn(\"Convert_system_message_to_human will be deprecated!\")\n"
     ]
    },
    {
     "name": "stdout",
     "output_type": "stream",
     "text": [
      "  LLM Response (gemini-2.0-flash): Εντοπίστηκε κλήση εργαλείου\n",
      "    -> Πρόθεση: GetShowInfoParameters, Παράμετροι: {'date_query': '15-11', 'show_name': 'Ρωμαίος και Ιουλιέτα'}\n",
      "Εισερχόμενο για session my_test_session_123: Σαββατο 2025-11-15\n",
      "Τρέχον ιστορικό για session my_test_session_123 (πριν την κλήση): [HumanMessage(content='ddssd', additional_kwargs={}, response_metadata={}), AIMessage(content=\"Γεια σας! Σε τι μπορώ να σας βοηθήσω σήμερα σχετικά με το Θέατρο 'Η Αυλαία';\", additional_kwargs={}, response_metadata={'prompt_feedback': {'block_reason': 0, 'safety_ratings': []}, 'finish_reason': 'STOP', 'model_name': 'gemini-2.0-flash', 'safety_ratings': []}, id='run--28e2ff4d-9e69-403c-8acc-088cd9b2958e-0', usage_metadata={'input_tokens': 2596, 'output_tokens': 29, 'total_tokens': 2625, 'input_token_details': {'cache_read': 0}}), HumanMessage(content='Ρωμαιος και ιουλιετα', additional_kwargs={}, response_metadata={}), AIMessage(content='', additional_kwargs={'function_call': {'name': 'GetShowInfoParameters', 'arguments': '{\"show_name\": \"\\\\u03a1\\\\u03c9\\\\u03bc\\\\u03b1\\\\u03af\\\\u03bf\\\\u03c2 \\\\u03ba\\\\u03b1\\\\u03b9 \\\\u0399\\\\u03bf\\\\u03c5\\\\u03bb\\\\u03b9\\\\u03ad\\\\u03c4\\\\u03b1\"}'}}, response_metadata={'prompt_feedback': {'block_reason': 0, 'safety_ratings': []}, 'finish_reason': 'STOP', 'model_name': 'gemini-2.0-flash', 'safety_ratings': []}, id='run--21e1a423-1253-41cd-9a19-e5d0234699d4-0', tool_calls=[{'name': 'GetShowInfoParameters', 'args': {'show_name': 'Ρωμαίος και Ιουλιέτα'}, 'id': '92d29c15-e2b7-4116-903a-ac8a46b57449', 'type': 'tool_call'}], usage_metadata={'input_tokens': 2800, 'output_tokens': 16, 'total_tokens': 2816, 'input_token_details': {'cache_read': 0}}), HumanMessage(content='15-11', additional_kwargs={}, response_metadata={}), AIMessage(content='', additional_kwargs={'function_call': {'name': 'GetShowInfoParameters', 'arguments': '{\"date_query\": \"15-11\", \"show_name\": \"\\\\u03a1\\\\u03c9\\\\u03bc\\\\u03b1\\\\u03af\\\\u03bf\\\\u03c2 \\\\u03ba\\\\u03b1\\\\u03b9 \\\\u0399\\\\u03bf\\\\u03c5\\\\u03bb\\\\u03b9\\\\u03ad\\\\u03c4\\\\u03b1\"}'}}, response_metadata={'prompt_feedback': {'block_reason': 0, 'safety_ratings': []}, 'finish_reason': 'STOP', 'model_name': 'gemini-2.0-flash', 'safety_ratings': []}, id='run--cc63122d-23ae-4442-8dd7-ff545e274d92-0', tool_calls=[{'name': 'GetShowInfoParameters', 'args': {'date_query': '15-11', 'show_name': 'Ρωμαίος και Ιουλιέτα'}, 'id': '30d0e09d-83b1-4ea9-8df6-f04547ec243a', 'type': 'tool_call'}], usage_metadata={'input_tokens': 3180, 'output_tokens': 24, 'total_tokens': 3204, 'input_token_details': {'cache_read': 0}})]\n"
     ]
    },
    {
     "name": "stderr",
     "output_type": "stream",
     "text": [
      "/usr/local/lib/python3.11/dist-packages/langchain_google_genai/chat_models.py:424: UserWarning: Convert_system_message_to_human will be deprecated!\n",
      "  warnings.warn(\"Convert_system_message_to_human will be deprecated!\")\n"
     ]
    },
    {
     "name": "stdout",
     "output_type": "stream",
     "text": [
      "  LLM Response (gemini-2.0-flash): Εντοπίστηκε κλήση εργαλείου\n",
      "    -> Πρόθεση: GetShowInfoParameters, Παράμετροι: {'show_name': 'Ρωμαίος και Ιουλιέτα', 'date_query': 'Σαββατο 2025-11-15'}\n",
      "Εισερχόμενο για session my_test_session_123: Σαββατο\n",
      "Τρέχον ιστορικό για session my_test_session_123 (πριν την κλήση): [HumanMessage(content='ddssd', additional_kwargs={}, response_metadata={}), AIMessage(content=\"Γεια σας! Σε τι μπορώ να σας βοηθήσω σήμερα σχετικά με το Θέατρο 'Η Αυλαία';\", additional_kwargs={}, response_metadata={'prompt_feedback': {'block_reason': 0, 'safety_ratings': []}, 'finish_reason': 'STOP', 'model_name': 'gemini-2.0-flash', 'safety_ratings': []}, id='run--28e2ff4d-9e69-403c-8acc-088cd9b2958e-0', usage_metadata={'input_tokens': 2596, 'output_tokens': 29, 'total_tokens': 2625, 'input_token_details': {'cache_read': 0}}), HumanMessage(content='Ρωμαιος και ιουλιετα', additional_kwargs={}, response_metadata={}), AIMessage(content='', additional_kwargs={'function_call': {'name': 'GetShowInfoParameters', 'arguments': '{\"show_name\": \"\\\\u03a1\\\\u03c9\\\\u03bc\\\\u03b1\\\\u03af\\\\u03bf\\\\u03c2 \\\\u03ba\\\\u03b1\\\\u03b9 \\\\u0399\\\\u03bf\\\\u03c5\\\\u03bb\\\\u03b9\\\\u03ad\\\\u03c4\\\\u03b1\"}'}}, response_metadata={'prompt_feedback': {'block_reason': 0, 'safety_ratings': []}, 'finish_reason': 'STOP', 'model_name': 'gemini-2.0-flash', 'safety_ratings': []}, id='run--21e1a423-1253-41cd-9a19-e5d0234699d4-0', tool_calls=[{'name': 'GetShowInfoParameters', 'args': {'show_name': 'Ρωμαίος και Ιουλιέτα'}, 'id': '92d29c15-e2b7-4116-903a-ac8a46b57449', 'type': 'tool_call'}], usage_metadata={'input_tokens': 2800, 'output_tokens': 16, 'total_tokens': 2816, 'input_token_details': {'cache_read': 0}}), HumanMessage(content='15-11', additional_kwargs={}, response_metadata={}), AIMessage(content='', additional_kwargs={'function_call': {'name': 'GetShowInfoParameters', 'arguments': '{\"date_query\": \"15-11\", \"show_name\": \"\\\\u03a1\\\\u03c9\\\\u03bc\\\\u03b1\\\\u03af\\\\u03bf\\\\u03c2 \\\\u03ba\\\\u03b1\\\\u03b9 \\\\u0399\\\\u03bf\\\\u03c5\\\\u03bb\\\\u03b9\\\\u03ad\\\\u03c4\\\\u03b1\"}'}}, response_metadata={'prompt_feedback': {'block_reason': 0, 'safety_ratings': []}, 'finish_reason': 'STOP', 'model_name': 'gemini-2.0-flash', 'safety_ratings': []}, id='run--cc63122d-23ae-4442-8dd7-ff545e274d92-0', tool_calls=[{'name': 'GetShowInfoParameters', 'args': {'date_query': '15-11', 'show_name': 'Ρωμαίος και Ιουλιέτα'}, 'id': '30d0e09d-83b1-4ea9-8df6-f04547ec243a', 'type': 'tool_call'}], usage_metadata={'input_tokens': 3180, 'output_tokens': 24, 'total_tokens': 3204, 'input_token_details': {'cache_read': 0}}), HumanMessage(content='Σαββατο 2025-11-15', additional_kwargs={}, response_metadata={}), AIMessage(content='', additional_kwargs={'function_call': {'name': 'GetShowInfoParameters', 'arguments': '{\"show_name\": \"\\\\u03a1\\\\u03c9\\\\u03bc\\\\u03b1\\\\u03af\\\\u03bf\\\\u03c2 \\\\u03ba\\\\u03b1\\\\u03b9 \\\\u0399\\\\u03bf\\\\u03c5\\\\u03bb\\\\u03b9\\\\u03ad\\\\u03c4\\\\u03b1\", \"date_query\": \"\\\\u03a3\\\\u03b1\\\\u03b2\\\\u03b2\\\\u03b1\\\\u03c4\\\\u03bf 2025-11-15\"}'}}, response_metadata={'prompt_feedback': {'block_reason': 0, 'safety_ratings': []}, 'finish_reason': 'STOP', 'model_name': 'gemini-2.0-flash', 'safety_ratings': []}, id='run--9697080d-559c-49cb-8f56-19432ee3e190-0', tool_calls=[{'name': 'GetShowInfoParameters', 'args': {'show_name': 'Ρωμαίος και Ιουλιέτα', 'date_query': 'Σαββατο 2025-11-15'}, 'id': '5cfcaa47-308c-467f-a657-1a72e9957da1', 'type': 'tool_call'}], usage_metadata={'input_tokens': 3590, 'output_tokens': 35, 'total_tokens': 3625, 'input_token_details': {'cache_read': 0}})]\n"
     ]
    },
    {
     "name": "stderr",
     "output_type": "stream",
     "text": [
      "/usr/local/lib/python3.11/dist-packages/langchain_google_genai/chat_models.py:424: UserWarning: Convert_system_message_to_human will be deprecated!\n",
      "  warnings.warn(\"Convert_system_message_to_human will be deprecated!\")\n"
     ]
    },
    {
     "name": "stdout",
     "output_type": "stream",
     "text": [
      "  LLM Response (gemini-2.0-flash): Εντοπίστηκε κλήση εργαλείου\n",
      "    -> Πρόθεση: GetShowInfoParameters, Παράμετροι: {'date_query': 'Σαββατο 2025-11-15', 'show_name': 'Ρωμαίος και Ιουλιέτα'}\n",
      "Εισερχόμενο για session my_test_session_123: 21:00\n",
      "Τρέχον ιστορικό για session my_test_session_123 (πριν την κλήση): [HumanMessage(content='ddssd', additional_kwargs={}, response_metadata={}), AIMessage(content=\"Γεια σας! Σε τι μπορώ να σας βοηθήσω σήμερα σχετικά με το Θέατρο 'Η Αυλαία';\", additional_kwargs={}, response_metadata={'prompt_feedback': {'block_reason': 0, 'safety_ratings': []}, 'finish_reason': 'STOP', 'model_name': 'gemini-2.0-flash', 'safety_ratings': []}, id='run--28e2ff4d-9e69-403c-8acc-088cd9b2958e-0', usage_metadata={'input_tokens': 2596, 'output_tokens': 29, 'total_tokens': 2625, 'input_token_details': {'cache_read': 0}}), HumanMessage(content='Ρωμαιος και ιουλιετα', additional_kwargs={}, response_metadata={}), AIMessage(content='', additional_kwargs={'function_call': {'name': 'GetShowInfoParameters', 'arguments': '{\"show_name\": \"\\\\u03a1\\\\u03c9\\\\u03bc\\\\u03b1\\\\u03af\\\\u03bf\\\\u03c2 \\\\u03ba\\\\u03b1\\\\u03b9 \\\\u0399\\\\u03bf\\\\u03c5\\\\u03bb\\\\u03b9\\\\u03ad\\\\u03c4\\\\u03b1\"}'}}, response_metadata={'prompt_feedback': {'block_reason': 0, 'safety_ratings': []}, 'finish_reason': 'STOP', 'model_name': 'gemini-2.0-flash', 'safety_ratings': []}, id='run--21e1a423-1253-41cd-9a19-e5d0234699d4-0', tool_calls=[{'name': 'GetShowInfoParameters', 'args': {'show_name': 'Ρωμαίος και Ιουλιέτα'}, 'id': '92d29c15-e2b7-4116-903a-ac8a46b57449', 'type': 'tool_call'}], usage_metadata={'input_tokens': 2800, 'output_tokens': 16, 'total_tokens': 2816, 'input_token_details': {'cache_read': 0}}), HumanMessage(content='15-11', additional_kwargs={}, response_metadata={}), AIMessage(content='', additional_kwargs={'function_call': {'name': 'GetShowInfoParameters', 'arguments': '{\"date_query\": \"15-11\", \"show_name\": \"\\\\u03a1\\\\u03c9\\\\u03bc\\\\u03b1\\\\u03af\\\\u03bf\\\\u03c2 \\\\u03ba\\\\u03b1\\\\u03b9 \\\\u0399\\\\u03bf\\\\u03c5\\\\u03bb\\\\u03b9\\\\u03ad\\\\u03c4\\\\u03b1\"}'}}, response_metadata={'prompt_feedback': {'block_reason': 0, 'safety_ratings': []}, 'finish_reason': 'STOP', 'model_name': 'gemini-2.0-flash', 'safety_ratings': []}, id='run--cc63122d-23ae-4442-8dd7-ff545e274d92-0', tool_calls=[{'name': 'GetShowInfoParameters', 'args': {'date_query': '15-11', 'show_name': 'Ρωμαίος και Ιουλιέτα'}, 'id': '30d0e09d-83b1-4ea9-8df6-f04547ec243a', 'type': 'tool_call'}], usage_metadata={'input_tokens': 3180, 'output_tokens': 24, 'total_tokens': 3204, 'input_token_details': {'cache_read': 0}}), HumanMessage(content='Σαββατο 2025-11-15', additional_kwargs={}, response_metadata={}), AIMessage(content='', additional_kwargs={'function_call': {'name': 'GetShowInfoParameters', 'arguments': '{\"show_name\": \"\\\\u03a1\\\\u03c9\\\\u03bc\\\\u03b1\\\\u03af\\\\u03bf\\\\u03c2 \\\\u03ba\\\\u03b1\\\\u03b9 \\\\u0399\\\\u03bf\\\\u03c5\\\\u03bb\\\\u03b9\\\\u03ad\\\\u03c4\\\\u03b1\", \"date_query\": \"\\\\u03a3\\\\u03b1\\\\u03b2\\\\u03b2\\\\u03b1\\\\u03c4\\\\u03bf 2025-11-15\"}'}}, response_metadata={'prompt_feedback': {'block_reason': 0, 'safety_ratings': []}, 'finish_reason': 'STOP', 'model_name': 'gemini-2.0-flash', 'safety_ratings': []}, id='run--9697080d-559c-49cb-8f56-19432ee3e190-0', tool_calls=[{'name': 'GetShowInfoParameters', 'args': {'show_name': 'Ρωμαίος και Ιουλιέτα', 'date_query': 'Σαββατο 2025-11-15'}, 'id': '5cfcaa47-308c-467f-a657-1a72e9957da1', 'type': 'tool_call'}], usage_metadata={'input_tokens': 3590, 'output_tokens': 35, 'total_tokens': 3625, 'input_token_details': {'cache_read': 0}}), HumanMessage(content='Σαββατο', additional_kwargs={}, response_metadata={}), AIMessage(content='', additional_kwargs={'function_call': {'name': 'GetShowInfoParameters', 'arguments': '{\"date_query\": \"\\\\u03a3\\\\u03b1\\\\u03b2\\\\u03b2\\\\u03b1\\\\u03c4\\\\u03bf 2025-11-15\", \"show_name\": \"\\\\u03a1\\\\u03c9\\\\u03bc\\\\u03b1\\\\u03af\\\\u03bf\\\\u03c2 \\\\u03ba\\\\u03b1\\\\u03b9 \\\\u0399\\\\u03bf\\\\u03c5\\\\u03bb\\\\u03b9\\\\u03ad\\\\u03c4\\\\u03b1\"}'}}, response_metadata={'prompt_feedback': {'block_reason': 0, 'safety_ratings': []}, 'finish_reason': 'STOP', 'model_name': 'gemini-2.0-flash', 'safety_ratings': []}, id='run--6b70fef2-583b-4c3f-a48a-9ac1dd5b6012-0', tool_calls=[{'name': 'GetShowInfoParameters', 'args': {'date_query': 'Σαββατο 2025-11-15', 'show_name': 'Ρωμαίος και Ιουλιέτα'}, 'id': '295ceed3-48f1-4b12-af0d-92e4822d02c2', 'type': 'tool_call'}], usage_metadata={'input_tokens': 4047, 'output_tokens': 35, 'total_tokens': 4082, 'input_token_details': {'cache_read': 0}})]\n"
     ]
    },
    {
     "name": "stderr",
     "output_type": "stream",
     "text": [
      "/usr/local/lib/python3.11/dist-packages/langchain_google_genai/chat_models.py:424: UserWarning: Convert_system_message_to_human will be deprecated!\n",
      "  warnings.warn(\"Convert_system_message_to_human will be deprecated!\")\n"
     ]
    },
    {
     "name": "stdout",
     "output_type": "stream",
     "text": [
      "  LLM Response (gemini-2.0-flash): Εντοπίστηκε κλήση εργαλείου\n",
      "    -> Πρόθεση: GetShowInfoParameters, Παράμετροι: {'date_query': 'Σαββατο 2025-11-15', 'show_name': 'Ρωμαίος και Ιουλιέτα'}\n",
      "Εισερχόμενο για session my_test_session_123: Ρωμαιος και ιουλιετα\n",
      "Τρέχον ιστορικό για session my_test_session_123 (πριν την κλήση): [HumanMessage(content='ddssd', additional_kwargs={}, response_metadata={}), AIMessage(content=\"Γεια σας! Σε τι μπορώ να σας βοηθήσω σήμερα σχετικά με το Θέατρο 'Η Αυλαία';\", additional_kwargs={}, response_metadata={'prompt_feedback': {'block_reason': 0, 'safety_ratings': []}, 'finish_reason': 'STOP', 'model_name': 'gemini-2.0-flash', 'safety_ratings': []}, id='run--28e2ff4d-9e69-403c-8acc-088cd9b2958e-0', usage_metadata={'input_tokens': 2596, 'output_tokens': 29, 'total_tokens': 2625, 'input_token_details': {'cache_read': 0}}), HumanMessage(content='Ρωμαιος και ιουλιετα', additional_kwargs={}, response_metadata={}), AIMessage(content='', additional_kwargs={'function_call': {'name': 'GetShowInfoParameters', 'arguments': '{\"show_name\": \"\\\\u03a1\\\\u03c9\\\\u03bc\\\\u03b1\\\\u03af\\\\u03bf\\\\u03c2 \\\\u03ba\\\\u03b1\\\\u03b9 \\\\u0399\\\\u03bf\\\\u03c5\\\\u03bb\\\\u03b9\\\\u03ad\\\\u03c4\\\\u03b1\"}'}}, response_metadata={'prompt_feedback': {'block_reason': 0, 'safety_ratings': []}, 'finish_reason': 'STOP', 'model_name': 'gemini-2.0-flash', 'safety_ratings': []}, id='run--21e1a423-1253-41cd-9a19-e5d0234699d4-0', tool_calls=[{'name': 'GetShowInfoParameters', 'args': {'show_name': 'Ρωμαίος και Ιουλιέτα'}, 'id': '92d29c15-e2b7-4116-903a-ac8a46b57449', 'type': 'tool_call'}], usage_metadata={'input_tokens': 2800, 'output_tokens': 16, 'total_tokens': 2816, 'input_token_details': {'cache_read': 0}}), HumanMessage(content='15-11', additional_kwargs={}, response_metadata={}), AIMessage(content='', additional_kwargs={'function_call': {'name': 'GetShowInfoParameters', 'arguments': '{\"date_query\": \"15-11\", \"show_name\": \"\\\\u03a1\\\\u03c9\\\\u03bc\\\\u03b1\\\\u03af\\\\u03bf\\\\u03c2 \\\\u03ba\\\\u03b1\\\\u03b9 \\\\u0399\\\\u03bf\\\\u03c5\\\\u03bb\\\\u03b9\\\\u03ad\\\\u03c4\\\\u03b1\"}'}}, response_metadata={'prompt_feedback': {'block_reason': 0, 'safety_ratings': []}, 'finish_reason': 'STOP', 'model_name': 'gemini-2.0-flash', 'safety_ratings': []}, id='run--cc63122d-23ae-4442-8dd7-ff545e274d92-0', tool_calls=[{'name': 'GetShowInfoParameters', 'args': {'date_query': '15-11', 'show_name': 'Ρωμαίος και Ιουλιέτα'}, 'id': '30d0e09d-83b1-4ea9-8df6-f04547ec243a', 'type': 'tool_call'}], usage_metadata={'input_tokens': 3180, 'output_tokens': 24, 'total_tokens': 3204, 'input_token_details': {'cache_read': 0}}), HumanMessage(content='Σαββατο 2025-11-15', additional_kwargs={}, response_metadata={}), AIMessage(content='', additional_kwargs={'function_call': {'name': 'GetShowInfoParameters', 'arguments': '{\"show_name\": \"\\\\u03a1\\\\u03c9\\\\u03bc\\\\u03b1\\\\u03af\\\\u03bf\\\\u03c2 \\\\u03ba\\\\u03b1\\\\u03b9 \\\\u0399\\\\u03bf\\\\u03c5\\\\u03bb\\\\u03b9\\\\u03ad\\\\u03c4\\\\u03b1\", \"date_query\": \"\\\\u03a3\\\\u03b1\\\\u03b2\\\\u03b2\\\\u03b1\\\\u03c4\\\\u03bf 2025-11-15\"}'}}, response_metadata={'prompt_feedback': {'block_reason': 0, 'safety_ratings': []}, 'finish_reason': 'STOP', 'model_name': 'gemini-2.0-flash', 'safety_ratings': []}, id='run--9697080d-559c-49cb-8f56-19432ee3e190-0', tool_calls=[{'name': 'GetShowInfoParameters', 'args': {'show_name': 'Ρωμαίος και Ιουλιέτα', 'date_query': 'Σαββατο 2025-11-15'}, 'id': '5cfcaa47-308c-467f-a657-1a72e9957da1', 'type': 'tool_call'}], usage_metadata={'input_tokens': 3590, 'output_tokens': 35, 'total_tokens': 3625, 'input_token_details': {'cache_read': 0}}), HumanMessage(content='Σαββατο', additional_kwargs={}, response_metadata={}), AIMessage(content='', additional_kwargs={'function_call': {'name': 'GetShowInfoParameters', 'arguments': '{\"date_query\": \"\\\\u03a3\\\\u03b1\\\\u03b2\\\\u03b2\\\\u03b1\\\\u03c4\\\\u03bf 2025-11-15\", \"show_name\": \"\\\\u03a1\\\\u03c9\\\\u03bc\\\\u03b1\\\\u03af\\\\u03bf\\\\u03c2 \\\\u03ba\\\\u03b1\\\\u03b9 \\\\u0399\\\\u03bf\\\\u03c5\\\\u03bb\\\\u03b9\\\\u03ad\\\\u03c4\\\\u03b1\"}'}}, response_metadata={'prompt_feedback': {'block_reason': 0, 'safety_ratings': []}, 'finish_reason': 'STOP', 'model_name': 'gemini-2.0-flash', 'safety_ratings': []}, id='run--6b70fef2-583b-4c3f-a48a-9ac1dd5b6012-0', tool_calls=[{'name': 'GetShowInfoParameters', 'args': {'date_query': 'Σαββατο 2025-11-15', 'show_name': 'Ρωμαίος και Ιουλιέτα'}, 'id': '295ceed3-48f1-4b12-af0d-92e4822d02c2', 'type': 'tool_call'}], usage_metadata={'input_tokens': 4047, 'output_tokens': 35, 'total_tokens': 4082, 'input_token_details': {'cache_read': 0}}), HumanMessage(content='21:00', additional_kwargs={}, response_metadata={}), AIMessage(content='', additional_kwargs={'function_call': {'name': 'GetShowInfoParameters', 'arguments': '{\"date_query\": \"\\\\u03a3\\\\u03b1\\\\u03b2\\\\u03b2\\\\u03b1\\\\u03c4\\\\u03bf 2025-11-15\", \"show_name\": \"\\\\u03a1\\\\u03c9\\\\u03bc\\\\u03b1\\\\u03af\\\\u03bf\\\\u03c2 \\\\u03ba\\\\u03b1\\\\u03b9 \\\\u0399\\\\u03bf\\\\u03c5\\\\u03bb\\\\u03b9\\\\u03ad\\\\u03c4\\\\u03b1\"}'}}, response_metadata={'prompt_feedback': {'block_reason': 0, 'safety_ratings': []}, 'finish_reason': 'STOP', 'model_name': 'gemini-2.0-flash', 'safety_ratings': []}, id='run--f938e682-68f5-4744-961f-507b88e3a983-0', tool_calls=[{'name': 'GetShowInfoParameters', 'args': {'date_query': 'Σαββατο 2025-11-15', 'show_name': 'Ρωμαίος και Ιουλιέτα'}, 'id': '13ac0ddc-591b-49f0-a031-b430bfe2d1d7', 'type': 'tool_call'}], usage_metadata={'input_tokens': 4502, 'output_tokens': 35, 'total_tokens': 4537, 'input_token_details': {'cache_read': 0}})]\n"
     ]
    },
    {
     "name": "stderr",
     "output_type": "stream",
     "text": [
      "/usr/local/lib/python3.11/dist-packages/langchain_google_genai/chat_models.py:424: UserWarning: Convert_system_message_to_human will be deprecated!\n",
      "  warnings.warn(\"Convert_system_message_to_human will be deprecated!\")\n"
     ]
    },
    {
     "name": "stdout",
     "output_type": "stream",
     "text": [
      "  LLM Response (gemini-2.0-flash): Εντοπίστηκε κλήση εργαλείου\n",
      "    -> Πρόθεση: GetShowInfoParameters, Παράμετροι: {'show_name': 'Ρωμαίος και Ιουλιέτα'}\n",
      "Εισερχόμενο για session my_test_session_123: Σάββατο 2025-11-15 στις 21:00\n",
      "Τρέχον ιστορικό για session my_test_session_123 (πριν την κλήση): [HumanMessage(content='ddssd', additional_kwargs={}, response_metadata={}), AIMessage(content=\"Γεια σας! Σε τι μπορώ να σας βοηθήσω σήμερα σχετικά με το Θέατρο 'Η Αυλαία';\", additional_kwargs={}, response_metadata={'prompt_feedback': {'block_reason': 0, 'safety_ratings': []}, 'finish_reason': 'STOP', 'model_name': 'gemini-2.0-flash', 'safety_ratings': []}, id='run--28e2ff4d-9e69-403c-8acc-088cd9b2958e-0', usage_metadata={'input_tokens': 2596, 'output_tokens': 29, 'total_tokens': 2625, 'input_token_details': {'cache_read': 0}}), HumanMessage(content='Ρωμαιος και ιουλιετα', additional_kwargs={}, response_metadata={}), AIMessage(content='', additional_kwargs={'function_call': {'name': 'GetShowInfoParameters', 'arguments': '{\"show_name\": \"\\\\u03a1\\\\u03c9\\\\u03bc\\\\u03b1\\\\u03af\\\\u03bf\\\\u03c2 \\\\u03ba\\\\u03b1\\\\u03b9 \\\\u0399\\\\u03bf\\\\u03c5\\\\u03bb\\\\u03b9\\\\u03ad\\\\u03c4\\\\u03b1\"}'}}, response_metadata={'prompt_feedback': {'block_reason': 0, 'safety_ratings': []}, 'finish_reason': 'STOP', 'model_name': 'gemini-2.0-flash', 'safety_ratings': []}, id='run--21e1a423-1253-41cd-9a19-e5d0234699d4-0', tool_calls=[{'name': 'GetShowInfoParameters', 'args': {'show_name': 'Ρωμαίος και Ιουλιέτα'}, 'id': '92d29c15-e2b7-4116-903a-ac8a46b57449', 'type': 'tool_call'}], usage_metadata={'input_tokens': 2800, 'output_tokens': 16, 'total_tokens': 2816, 'input_token_details': {'cache_read': 0}}), HumanMessage(content='15-11', additional_kwargs={}, response_metadata={}), AIMessage(content='', additional_kwargs={'function_call': {'name': 'GetShowInfoParameters', 'arguments': '{\"date_query\": \"15-11\", \"show_name\": \"\\\\u03a1\\\\u03c9\\\\u03bc\\\\u03b1\\\\u03af\\\\u03bf\\\\u03c2 \\\\u03ba\\\\u03b1\\\\u03b9 \\\\u0399\\\\u03bf\\\\u03c5\\\\u03bb\\\\u03b9\\\\u03ad\\\\u03c4\\\\u03b1\"}'}}, response_metadata={'prompt_feedback': {'block_reason': 0, 'safety_ratings': []}, 'finish_reason': 'STOP', 'model_name': 'gemini-2.0-flash', 'safety_ratings': []}, id='run--cc63122d-23ae-4442-8dd7-ff545e274d92-0', tool_calls=[{'name': 'GetShowInfoParameters', 'args': {'date_query': '15-11', 'show_name': 'Ρωμαίος και Ιουλιέτα'}, 'id': '30d0e09d-83b1-4ea9-8df6-f04547ec243a', 'type': 'tool_call'}], usage_metadata={'input_tokens': 3180, 'output_tokens': 24, 'total_tokens': 3204, 'input_token_details': {'cache_read': 0}}), HumanMessage(content='Σαββατο 2025-11-15', additional_kwargs={}, response_metadata={}), AIMessage(content='', additional_kwargs={'function_call': {'name': 'GetShowInfoParameters', 'arguments': '{\"show_name\": \"\\\\u03a1\\\\u03c9\\\\u03bc\\\\u03b1\\\\u03af\\\\u03bf\\\\u03c2 \\\\u03ba\\\\u03b1\\\\u03b9 \\\\u0399\\\\u03bf\\\\u03c5\\\\u03bb\\\\u03b9\\\\u03ad\\\\u03c4\\\\u03b1\", \"date_query\": \"\\\\u03a3\\\\u03b1\\\\u03b2\\\\u03b2\\\\u03b1\\\\u03c4\\\\u03bf 2025-11-15\"}'}}, response_metadata={'prompt_feedback': {'block_reason': 0, 'safety_ratings': []}, 'finish_reason': 'STOP', 'model_name': 'gemini-2.0-flash', 'safety_ratings': []}, id='run--9697080d-559c-49cb-8f56-19432ee3e190-0', tool_calls=[{'name': 'GetShowInfoParameters', 'args': {'show_name': 'Ρωμαίος και Ιουλιέτα', 'date_query': 'Σαββατο 2025-11-15'}, 'id': '5cfcaa47-308c-467f-a657-1a72e9957da1', 'type': 'tool_call'}], usage_metadata={'input_tokens': 3590, 'output_tokens': 35, 'total_tokens': 3625, 'input_token_details': {'cache_read': 0}}), HumanMessage(content='Σαββατο', additional_kwargs={}, response_metadata={}), AIMessage(content='', additional_kwargs={'function_call': {'name': 'GetShowInfoParameters', 'arguments': '{\"date_query\": \"\\\\u03a3\\\\u03b1\\\\u03b2\\\\u03b2\\\\u03b1\\\\u03c4\\\\u03bf 2025-11-15\", \"show_name\": \"\\\\u03a1\\\\u03c9\\\\u03bc\\\\u03b1\\\\u03af\\\\u03bf\\\\u03c2 \\\\u03ba\\\\u03b1\\\\u03b9 \\\\u0399\\\\u03bf\\\\u03c5\\\\u03bb\\\\u03b9\\\\u03ad\\\\u03c4\\\\u03b1\"}'}}, response_metadata={'prompt_feedback': {'block_reason': 0, 'safety_ratings': []}, 'finish_reason': 'STOP', 'model_name': 'gemini-2.0-flash', 'safety_ratings': []}, id='run--6b70fef2-583b-4c3f-a48a-9ac1dd5b6012-0', tool_calls=[{'name': 'GetShowInfoParameters', 'args': {'date_query': 'Σαββατο 2025-11-15', 'show_name': 'Ρωμαίος και Ιουλιέτα'}, 'id': '295ceed3-48f1-4b12-af0d-92e4822d02c2', 'type': 'tool_call'}], usage_metadata={'input_tokens': 4047, 'output_tokens': 35, 'total_tokens': 4082, 'input_token_details': {'cache_read': 0}}), HumanMessage(content='21:00', additional_kwargs={}, response_metadata={}), AIMessage(content='', additional_kwargs={'function_call': {'name': 'GetShowInfoParameters', 'arguments': '{\"date_query\": \"\\\\u03a3\\\\u03b1\\\\u03b2\\\\u03b2\\\\u03b1\\\\u03c4\\\\u03bf 2025-11-15\", \"show_name\": \"\\\\u03a1\\\\u03c9\\\\u03bc\\\\u03b1\\\\u03af\\\\u03bf\\\\u03c2 \\\\u03ba\\\\u03b1\\\\u03b9 \\\\u0399\\\\u03bf\\\\u03c5\\\\u03bb\\\\u03b9\\\\u03ad\\\\u03c4\\\\u03b1\"}'}}, response_metadata={'prompt_feedback': {'block_reason': 0, 'safety_ratings': []}, 'finish_reason': 'STOP', 'model_name': 'gemini-2.0-flash', 'safety_ratings': []}, id='run--f938e682-68f5-4744-961f-507b88e3a983-0', tool_calls=[{'name': 'GetShowInfoParameters', 'args': {'date_query': 'Σαββατο 2025-11-15', 'show_name': 'Ρωμαίος και Ιουλιέτα'}, 'id': '13ac0ddc-591b-49f0-a031-b430bfe2d1d7', 'type': 'tool_call'}], usage_metadata={'input_tokens': 4502, 'output_tokens': 35, 'total_tokens': 4537, 'input_token_details': {'cache_read': 0}}), HumanMessage(content='Ρωμαιος και ιουλιετα', additional_kwargs={}, response_metadata={}), AIMessage(content='', additional_kwargs={'function_call': {'name': 'GetShowInfoParameters', 'arguments': '{\"show_name\": \"\\\\u03a1\\\\u03c9\\\\u03bc\\\\u03b1\\\\u03af\\\\u03bf\\\\u03c2 \\\\u03ba\\\\u03b1\\\\u03b9 \\\\u0399\\\\u03bf\\\\u03c5\\\\u03bb\\\\u03b9\\\\u03ad\\\\u03c4\\\\u03b1\"}'}}, response_metadata={'prompt_feedback': {'block_reason': 0, 'safety_ratings': []}, 'finish_reason': 'STOP', 'model_name': 'gemini-2.0-flash', 'safety_ratings': []}, id='run--38571488-ad31-4ff2-b39a-fd67e99f98bf-0', tool_calls=[{'name': 'GetShowInfoParameters', 'args': {'show_name': 'Ρωμαίος και Ιουλιέτα'}, 'id': '60bd0766-abd8-45c8-8e01-79875cfcc048', 'type': 'tool_call'}], usage_metadata={'input_tokens': 4967, 'output_tokens': 16, 'total_tokens': 4983, 'input_token_details': {'cache_read': 0}})]\n"
     ]
    },
    {
     "name": "stderr",
     "output_type": "stream",
     "text": [
      "/usr/local/lib/python3.11/dist-packages/langchain_google_genai/chat_models.py:424: UserWarning: Convert_system_message_to_human will be deprecated!\n",
      "  warnings.warn(\"Convert_system_message_to_human will be deprecated!\")\n"
     ]
    },
    {
     "name": "stdout",
     "output_type": "stream",
     "text": [
      "  LLM Response (gemini-2.0-flash): Εντοπίστηκε κλήση εργαλείου\n",
      "    -> Πρόθεση: GetShowInfoParameters, Παράμετροι: {'show_name': 'Ρωμαίος και Ιουλιέτα', 'date_query': 'Σάββατο 2025-11-15'}\n",
      "Εισερχόμενο για session my_test_session_123: 15-11\n",
      "Τρέχον ιστορικό για session my_test_session_123 (πριν την κλήση): [HumanMessage(content='Ρωμαιος και ιουλιετα', additional_kwargs={}, response_metadata={}), AIMessage(content='', additional_kwargs={'function_call': {'name': 'GetShowInfoParameters', 'arguments': '{\"show_name\": \"\\\\u03a1\\\\u03c9\\\\u03bc\\\\u03b1\\\\u03af\\\\u03bf\\\\u03c2 \\\\u03ba\\\\u03b1\\\\u03b9 \\\\u0399\\\\u03bf\\\\u03c5\\\\u03bb\\\\u03b9\\\\u03ad\\\\u03c4\\\\u03b1\"}'}}, response_metadata={'prompt_feedback': {'block_reason': 0, 'safety_ratings': []}, 'finish_reason': 'STOP', 'model_name': 'gemini-2.0-flash', 'safety_ratings': []}, id='run--21e1a423-1253-41cd-9a19-e5d0234699d4-0', tool_calls=[{'name': 'GetShowInfoParameters', 'args': {'show_name': 'Ρωμαίος και Ιουλιέτα'}, 'id': '92d29c15-e2b7-4116-903a-ac8a46b57449', 'type': 'tool_call'}], usage_metadata={'input_tokens': 2800, 'output_tokens': 16, 'total_tokens': 2816, 'input_token_details': {'cache_read': 0}}), HumanMessage(content='15-11', additional_kwargs={}, response_metadata={}), AIMessage(content='', additional_kwargs={'function_call': {'name': 'GetShowInfoParameters', 'arguments': '{\"date_query\": \"15-11\", \"show_name\": \"\\\\u03a1\\\\u03c9\\\\u03bc\\\\u03b1\\\\u03af\\\\u03bf\\\\u03c2 \\\\u03ba\\\\u03b1\\\\u03b9 \\\\u0399\\\\u03bf\\\\u03c5\\\\u03bb\\\\u03b9\\\\u03ad\\\\u03c4\\\\u03b1\"}'}}, response_metadata={'prompt_feedback': {'block_reason': 0, 'safety_ratings': []}, 'finish_reason': 'STOP', 'model_name': 'gemini-2.0-flash', 'safety_ratings': []}, id='run--cc63122d-23ae-4442-8dd7-ff545e274d92-0', tool_calls=[{'name': 'GetShowInfoParameters', 'args': {'date_query': '15-11', 'show_name': 'Ρωμαίος και Ιουλιέτα'}, 'id': '30d0e09d-83b1-4ea9-8df6-f04547ec243a', 'type': 'tool_call'}], usage_metadata={'input_tokens': 3180, 'output_tokens': 24, 'total_tokens': 3204, 'input_token_details': {'cache_read': 0}}), HumanMessage(content='Σαββατο 2025-11-15', additional_kwargs={}, response_metadata={}), AIMessage(content='', additional_kwargs={'function_call': {'name': 'GetShowInfoParameters', 'arguments': '{\"show_name\": \"\\\\u03a1\\\\u03c9\\\\u03bc\\\\u03b1\\\\u03af\\\\u03bf\\\\u03c2 \\\\u03ba\\\\u03b1\\\\u03b9 \\\\u0399\\\\u03bf\\\\u03c5\\\\u03bb\\\\u03b9\\\\u03ad\\\\u03c4\\\\u03b1\", \"date_query\": \"\\\\u03a3\\\\u03b1\\\\u03b2\\\\u03b2\\\\u03b1\\\\u03c4\\\\u03bf 2025-11-15\"}'}}, response_metadata={'prompt_feedback': {'block_reason': 0, 'safety_ratings': []}, 'finish_reason': 'STOP', 'model_name': 'gemini-2.0-flash', 'safety_ratings': []}, id='run--9697080d-559c-49cb-8f56-19432ee3e190-0', tool_calls=[{'name': 'GetShowInfoParameters', 'args': {'show_name': 'Ρωμαίος και Ιουλιέτα', 'date_query': 'Σαββατο 2025-11-15'}, 'id': '5cfcaa47-308c-467f-a657-1a72e9957da1', 'type': 'tool_call'}], usage_metadata={'input_tokens': 3590, 'output_tokens': 35, 'total_tokens': 3625, 'input_token_details': {'cache_read': 0}}), HumanMessage(content='Σαββατο', additional_kwargs={}, response_metadata={}), AIMessage(content='', additional_kwargs={'function_call': {'name': 'GetShowInfoParameters', 'arguments': '{\"date_query\": \"\\\\u03a3\\\\u03b1\\\\u03b2\\\\u03b2\\\\u03b1\\\\u03c4\\\\u03bf 2025-11-15\", \"show_name\": \"\\\\u03a1\\\\u03c9\\\\u03bc\\\\u03b1\\\\u03af\\\\u03bf\\\\u03c2 \\\\u03ba\\\\u03b1\\\\u03b9 \\\\u0399\\\\u03bf\\\\u03c5\\\\u03bb\\\\u03b9\\\\u03ad\\\\u03c4\\\\u03b1\"}'}}, response_metadata={'prompt_feedback': {'block_reason': 0, 'safety_ratings': []}, 'finish_reason': 'STOP', 'model_name': 'gemini-2.0-flash', 'safety_ratings': []}, id='run--6b70fef2-583b-4c3f-a48a-9ac1dd5b6012-0', tool_calls=[{'name': 'GetShowInfoParameters', 'args': {'date_query': 'Σαββατο 2025-11-15', 'show_name': 'Ρωμαίος και Ιουλιέτα'}, 'id': '295ceed3-48f1-4b12-af0d-92e4822d02c2', 'type': 'tool_call'}], usage_metadata={'input_tokens': 4047, 'output_tokens': 35, 'total_tokens': 4082, 'input_token_details': {'cache_read': 0}}), HumanMessage(content='21:00', additional_kwargs={}, response_metadata={}), AIMessage(content='', additional_kwargs={'function_call': {'name': 'GetShowInfoParameters', 'arguments': '{\"date_query\": \"\\\\u03a3\\\\u03b1\\\\u03b2\\\\u03b2\\\\u03b1\\\\u03c4\\\\u03bf 2025-11-15\", \"show_name\": \"\\\\u03a1\\\\u03c9\\\\u03bc\\\\u03b1\\\\u03af\\\\u03bf\\\\u03c2 \\\\u03ba\\\\u03b1\\\\u03b9 \\\\u0399\\\\u03bf\\\\u03c5\\\\u03bb\\\\u03b9\\\\u03ad\\\\u03c4\\\\u03b1\"}'}}, response_metadata={'prompt_feedback': {'block_reason': 0, 'safety_ratings': []}, 'finish_reason': 'STOP', 'model_name': 'gemini-2.0-flash', 'safety_ratings': []}, id='run--f938e682-68f5-4744-961f-507b88e3a983-0', tool_calls=[{'name': 'GetShowInfoParameters', 'args': {'date_query': 'Σαββατο 2025-11-15', 'show_name': 'Ρωμαίος και Ιουλιέτα'}, 'id': '13ac0ddc-591b-49f0-a031-b430bfe2d1d7', 'type': 'tool_call'}], usage_metadata={'input_tokens': 4502, 'output_tokens': 35, 'total_tokens': 4537, 'input_token_details': {'cache_read': 0}}), HumanMessage(content='Ρωμαιος και ιουλιετα', additional_kwargs={}, response_metadata={}), AIMessage(content='', additional_kwargs={'function_call': {'name': 'GetShowInfoParameters', 'arguments': '{\"show_name\": \"\\\\u03a1\\\\u03c9\\\\u03bc\\\\u03b1\\\\u03af\\\\u03bf\\\\u03c2 \\\\u03ba\\\\u03b1\\\\u03b9 \\\\u0399\\\\u03bf\\\\u03c5\\\\u03bb\\\\u03b9\\\\u03ad\\\\u03c4\\\\u03b1\"}'}}, response_metadata={'prompt_feedback': {'block_reason': 0, 'safety_ratings': []}, 'finish_reason': 'STOP', 'model_name': 'gemini-2.0-flash', 'safety_ratings': []}, id='run--38571488-ad31-4ff2-b39a-fd67e99f98bf-0', tool_calls=[{'name': 'GetShowInfoParameters', 'args': {'show_name': 'Ρωμαίος και Ιουλιέτα'}, 'id': '60bd0766-abd8-45c8-8e01-79875cfcc048', 'type': 'tool_call'}], usage_metadata={'input_tokens': 4967, 'output_tokens': 16, 'total_tokens': 4983, 'input_token_details': {'cache_read': 0}}), HumanMessage(content='Σάββατο 2025-11-15 στις 21:00', additional_kwargs={}, response_metadata={}), AIMessage(content='', additional_kwargs={'function_call': {'name': 'GetShowInfoParameters', 'arguments': '{\"show_name\": \"\\\\u03a1\\\\u03c9\\\\u03bc\\\\u03b1\\\\u03af\\\\u03bf\\\\u03c2 \\\\u03ba\\\\u03b1\\\\u03b9 \\\\u0399\\\\u03bf\\\\u03c5\\\\u03bb\\\\u03b9\\\\u03ad\\\\u03c4\\\\u03b1\", \"date_query\": \"\\\\u03a3\\\\u03ac\\\\u03b2\\\\u03b2\\\\u03b1\\\\u03c4\\\\u03bf 2025-11-15\"}'}}, response_metadata={'prompt_feedback': {'block_reason': 0, 'safety_ratings': []}, 'finish_reason': 'STOP', 'model_name': 'gemini-2.0-flash', 'safety_ratings': []}, id='run--ca0f4681-8490-4562-8e85-49e15ab08961-0', tool_calls=[{'name': 'GetShowInfoParameters', 'args': {'show_name': 'Ρωμαίος και Ιουλιέτα', 'date_query': 'Σάββατο 2025-11-15'}, 'id': '983831d0-b720-45a9-927a-c4cafa934af4', 'type': 'tool_call'}], usage_metadata={'input_tokens': 5358, 'output_tokens': 35, 'total_tokens': 5393, 'input_token_details': {'cache_read': 0}})]\n"
     ]
    },
    {
     "name": "stderr",
     "output_type": "stream",
     "text": [
      "/usr/local/lib/python3.11/dist-packages/langchain_google_genai/chat_models.py:424: UserWarning: Convert_system_message_to_human will be deprecated!\n",
      "  warnings.warn(\"Convert_system_message_to_human will be deprecated!\")\n"
     ]
    },
    {
     "name": "stdout",
     "output_type": "stream",
     "text": [
      "  LLM Response (gemini-2.0-flash): Εντοπίστηκε κλήση εργαλείου\n",
      "    -> Πρόθεση: GetShowInfoParameters, Παράμετροι: {'date_query': '15-11', 'show_name': 'Ρωμαίος και Ιουλιέτα'}\n",
      "Εισερχόμενο για session my_test_session_123: Σσσς\n",
      "Τρέχον ιστορικό για session my_test_session_123 (πριν την κλήση): [HumanMessage(content='15-11', additional_kwargs={}, response_metadata={}), AIMessage(content='', additional_kwargs={'function_call': {'name': 'GetShowInfoParameters', 'arguments': '{\"date_query\": \"15-11\", \"show_name\": \"\\\\u03a1\\\\u03c9\\\\u03bc\\\\u03b1\\\\u03af\\\\u03bf\\\\u03c2 \\\\u03ba\\\\u03b1\\\\u03b9 \\\\u0399\\\\u03bf\\\\u03c5\\\\u03bb\\\\u03b9\\\\u03ad\\\\u03c4\\\\u03b1\"}'}}, response_metadata={'prompt_feedback': {'block_reason': 0, 'safety_ratings': []}, 'finish_reason': 'STOP', 'model_name': 'gemini-2.0-flash', 'safety_ratings': []}, id='run--cc63122d-23ae-4442-8dd7-ff545e274d92-0', tool_calls=[{'name': 'GetShowInfoParameters', 'args': {'date_query': '15-11', 'show_name': 'Ρωμαίος και Ιουλιέτα'}, 'id': '30d0e09d-83b1-4ea9-8df6-f04547ec243a', 'type': 'tool_call'}], usage_metadata={'input_tokens': 3180, 'output_tokens': 24, 'total_tokens': 3204, 'input_token_details': {'cache_read': 0}}), HumanMessage(content='Σαββατο 2025-11-15', additional_kwargs={}, response_metadata={}), AIMessage(content='', additional_kwargs={'function_call': {'name': 'GetShowInfoParameters', 'arguments': '{\"show_name\": \"\\\\u03a1\\\\u03c9\\\\u03bc\\\\u03b1\\\\u03af\\\\u03bf\\\\u03c2 \\\\u03ba\\\\u03b1\\\\u03b9 \\\\u0399\\\\u03bf\\\\u03c5\\\\u03bb\\\\u03b9\\\\u03ad\\\\u03c4\\\\u03b1\", \"date_query\": \"\\\\u03a3\\\\u03b1\\\\u03b2\\\\u03b2\\\\u03b1\\\\u03c4\\\\u03bf 2025-11-15\"}'}}, response_metadata={'prompt_feedback': {'block_reason': 0, 'safety_ratings': []}, 'finish_reason': 'STOP', 'model_name': 'gemini-2.0-flash', 'safety_ratings': []}, id='run--9697080d-559c-49cb-8f56-19432ee3e190-0', tool_calls=[{'name': 'GetShowInfoParameters', 'args': {'show_name': 'Ρωμαίος και Ιουλιέτα', 'date_query': 'Σαββατο 2025-11-15'}, 'id': '5cfcaa47-308c-467f-a657-1a72e9957da1', 'type': 'tool_call'}], usage_metadata={'input_tokens': 3590, 'output_tokens': 35, 'total_tokens': 3625, 'input_token_details': {'cache_read': 0}}), HumanMessage(content='Σαββατο', additional_kwargs={}, response_metadata={}), AIMessage(content='', additional_kwargs={'function_call': {'name': 'GetShowInfoParameters', 'arguments': '{\"date_query\": \"\\\\u03a3\\\\u03b1\\\\u03b2\\\\u03b2\\\\u03b1\\\\u03c4\\\\u03bf 2025-11-15\", \"show_name\": \"\\\\u03a1\\\\u03c9\\\\u03bc\\\\u03b1\\\\u03af\\\\u03bf\\\\u03c2 \\\\u03ba\\\\u03b1\\\\u03b9 \\\\u0399\\\\u03bf\\\\u03c5\\\\u03bb\\\\u03b9\\\\u03ad\\\\u03c4\\\\u03b1\"}'}}, response_metadata={'prompt_feedback': {'block_reason': 0, 'safety_ratings': []}, 'finish_reason': 'STOP', 'model_name': 'gemini-2.0-flash', 'safety_ratings': []}, id='run--6b70fef2-583b-4c3f-a48a-9ac1dd5b6012-0', tool_calls=[{'name': 'GetShowInfoParameters', 'args': {'date_query': 'Σαββατο 2025-11-15', 'show_name': 'Ρωμαίος και Ιουλιέτα'}, 'id': '295ceed3-48f1-4b12-af0d-92e4822d02c2', 'type': 'tool_call'}], usage_metadata={'input_tokens': 4047, 'output_tokens': 35, 'total_tokens': 4082, 'input_token_details': {'cache_read': 0}}), HumanMessage(content='21:00', additional_kwargs={}, response_metadata={}), AIMessage(content='', additional_kwargs={'function_call': {'name': 'GetShowInfoParameters', 'arguments': '{\"date_query\": \"\\\\u03a3\\\\u03b1\\\\u03b2\\\\u03b2\\\\u03b1\\\\u03c4\\\\u03bf 2025-11-15\", \"show_name\": \"\\\\u03a1\\\\u03c9\\\\u03bc\\\\u03b1\\\\u03af\\\\u03bf\\\\u03c2 \\\\u03ba\\\\u03b1\\\\u03b9 \\\\u0399\\\\u03bf\\\\u03c5\\\\u03bb\\\\u03b9\\\\u03ad\\\\u03c4\\\\u03b1\"}'}}, response_metadata={'prompt_feedback': {'block_reason': 0, 'safety_ratings': []}, 'finish_reason': 'STOP', 'model_name': 'gemini-2.0-flash', 'safety_ratings': []}, id='run--f938e682-68f5-4744-961f-507b88e3a983-0', tool_calls=[{'name': 'GetShowInfoParameters', 'args': {'date_query': 'Σαββατο 2025-11-15', 'show_name': 'Ρωμαίος και Ιουλιέτα'}, 'id': '13ac0ddc-591b-49f0-a031-b430bfe2d1d7', 'type': 'tool_call'}], usage_metadata={'input_tokens': 4502, 'output_tokens': 35, 'total_tokens': 4537, 'input_token_details': {'cache_read': 0}}), HumanMessage(content='Ρωμαιος και ιουλιετα', additional_kwargs={}, response_metadata={}), AIMessage(content='', additional_kwargs={'function_call': {'name': 'GetShowInfoParameters', 'arguments': '{\"show_name\": \"\\\\u03a1\\\\u03c9\\\\u03bc\\\\u03b1\\\\u03af\\\\u03bf\\\\u03c2 \\\\u03ba\\\\u03b1\\\\u03b9 \\\\u0399\\\\u03bf\\\\u03c5\\\\u03bb\\\\u03b9\\\\u03ad\\\\u03c4\\\\u03b1\"}'}}, response_metadata={'prompt_feedback': {'block_reason': 0, 'safety_ratings': []}, 'finish_reason': 'STOP', 'model_name': 'gemini-2.0-flash', 'safety_ratings': []}, id='run--38571488-ad31-4ff2-b39a-fd67e99f98bf-0', tool_calls=[{'name': 'GetShowInfoParameters', 'args': {'show_name': 'Ρωμαίος και Ιουλιέτα'}, 'id': '60bd0766-abd8-45c8-8e01-79875cfcc048', 'type': 'tool_call'}], usage_metadata={'input_tokens': 4967, 'output_tokens': 16, 'total_tokens': 4983, 'input_token_details': {'cache_read': 0}}), HumanMessage(content='Σάββατο 2025-11-15 στις 21:00', additional_kwargs={}, response_metadata={}), AIMessage(content='', additional_kwargs={'function_call': {'name': 'GetShowInfoParameters', 'arguments': '{\"show_name\": \"\\\\u03a1\\\\u03c9\\\\u03bc\\\\u03b1\\\\u03af\\\\u03bf\\\\u03c2 \\\\u03ba\\\\u03b1\\\\u03b9 \\\\u0399\\\\u03bf\\\\u03c5\\\\u03bb\\\\u03b9\\\\u03ad\\\\u03c4\\\\u03b1\", \"date_query\": \"\\\\u03a3\\\\u03ac\\\\u03b2\\\\u03b2\\\\u03b1\\\\u03c4\\\\u03bf 2025-11-15\"}'}}, response_metadata={'prompt_feedback': {'block_reason': 0, 'safety_ratings': []}, 'finish_reason': 'STOP', 'model_name': 'gemini-2.0-flash', 'safety_ratings': []}, id='run--ca0f4681-8490-4562-8e85-49e15ab08961-0', tool_calls=[{'name': 'GetShowInfoParameters', 'args': {'show_name': 'Ρωμαίος και Ιουλιέτα', 'date_query': 'Σάββατο 2025-11-15'}, 'id': '983831d0-b720-45a9-927a-c4cafa934af4', 'type': 'tool_call'}], usage_metadata={'input_tokens': 5358, 'output_tokens': 35, 'total_tokens': 5393, 'input_token_details': {'cache_read': 0}}), HumanMessage(content='15-11', additional_kwargs={}, response_metadata={}), AIMessage(content='', additional_kwargs={'function_call': {'name': 'GetShowInfoParameters', 'arguments': '{\"date_query\": \"15-11\", \"show_name\": \"\\\\u03a1\\\\u03c9\\\\u03bc\\\\u03b1\\\\u03af\\\\u03bf\\\\u03c2 \\\\u03ba\\\\u03b1\\\\u03b9 \\\\u0399\\\\u03bf\\\\u03c5\\\\u03bb\\\\u03b9\\\\u03ad\\\\u03c4\\\\u03b1\"}'}}, response_metadata={'prompt_feedback': {'block_reason': 0, 'safety_ratings': []}, 'finish_reason': 'STOP', 'model_name': 'gemini-2.0-flash', 'safety_ratings': []}, id='run--c716963c-421a-4fa4-a0c8-c81b81015164-0', tool_calls=[{'name': 'GetShowInfoParameters', 'args': {'date_query': '15-11', 'show_name': 'Ρωμαίος και Ιουλιέτα'}, 'id': '27259780-3b03-4fdb-b950-6ae5e564da4c', 'type': 'tool_call'}], usage_metadata={'input_tokens': 5619, 'output_tokens': 24, 'total_tokens': 5643, 'input_token_details': {'cache_read': 0}})]\n"
     ]
    },
    {
     "name": "stderr",
     "output_type": "stream",
     "text": [
      "/usr/local/lib/python3.11/dist-packages/langchain_google_genai/chat_models.py:424: UserWarning: Convert_system_message_to_human will be deprecated!\n",
      "  warnings.warn(\"Convert_system_message_to_human will be deprecated!\")\n"
     ]
    },
    {
     "name": "stdout",
     "output_type": "stream",
     "text": [
      "Εισερχόμενο για session my_test_session_123: Κράτηση\n",
      "Τρέχον ιστορικό για session my_test_session_123 (πριν την κλήση): [HumanMessage(content='Σαββατο 2025-11-15', additional_kwargs={}, response_metadata={}), AIMessage(content='', additional_kwargs={'function_call': {'name': 'GetShowInfoParameters', 'arguments': '{\"show_name\": \"\\\\u03a1\\\\u03c9\\\\u03bc\\\\u03b1\\\\u03af\\\\u03bf\\\\u03c2 \\\\u03ba\\\\u03b1\\\\u03b9 \\\\u0399\\\\u03bf\\\\u03c5\\\\u03bb\\\\u03b9\\\\u03ad\\\\u03c4\\\\u03b1\", \"date_query\": \"\\\\u03a3\\\\u03b1\\\\u03b2\\\\u03b2\\\\u03b1\\\\u03c4\\\\u03bf 2025-11-15\"}'}}, response_metadata={'prompt_feedback': {'block_reason': 0, 'safety_ratings': []}, 'finish_reason': 'STOP', 'model_name': 'gemini-2.0-flash', 'safety_ratings': []}, id='run--9697080d-559c-49cb-8f56-19432ee3e190-0', tool_calls=[{'name': 'GetShowInfoParameters', 'args': {'show_name': 'Ρωμαίος και Ιουλιέτα', 'date_query': 'Σαββατο 2025-11-15'}, 'id': '5cfcaa47-308c-467f-a657-1a72e9957da1', 'type': 'tool_call'}], usage_metadata={'input_tokens': 3590, 'output_tokens': 35, 'total_tokens': 3625, 'input_token_details': {'cache_read': 0}}), HumanMessage(content='Σαββατο', additional_kwargs={}, response_metadata={}), AIMessage(content='', additional_kwargs={'function_call': {'name': 'GetShowInfoParameters', 'arguments': '{\"date_query\": \"\\\\u03a3\\\\u03b1\\\\u03b2\\\\u03b2\\\\u03b1\\\\u03c4\\\\u03bf 2025-11-15\", \"show_name\": \"\\\\u03a1\\\\u03c9\\\\u03bc\\\\u03b1\\\\u03af\\\\u03bf\\\\u03c2 \\\\u03ba\\\\u03b1\\\\u03b9 \\\\u0399\\\\u03bf\\\\u03c5\\\\u03bb\\\\u03b9\\\\u03ad\\\\u03c4\\\\u03b1\"}'}}, response_metadata={'prompt_feedback': {'block_reason': 0, 'safety_ratings': []}, 'finish_reason': 'STOP', 'model_name': 'gemini-2.0-flash', 'safety_ratings': []}, id='run--6b70fef2-583b-4c3f-a48a-9ac1dd5b6012-0', tool_calls=[{'name': 'GetShowInfoParameters', 'args': {'date_query': 'Σαββατο 2025-11-15', 'show_name': 'Ρωμαίος και Ιουλιέτα'}, 'id': '295ceed3-48f1-4b12-af0d-92e4822d02c2', 'type': 'tool_call'}], usage_metadata={'input_tokens': 4047, 'output_tokens': 35, 'total_tokens': 4082, 'input_token_details': {'cache_read': 0}}), HumanMessage(content='21:00', additional_kwargs={}, response_metadata={}), AIMessage(content='', additional_kwargs={'function_call': {'name': 'GetShowInfoParameters', 'arguments': '{\"date_query\": \"\\\\u03a3\\\\u03b1\\\\u03b2\\\\u03b2\\\\u03b1\\\\u03c4\\\\u03bf 2025-11-15\", \"show_name\": \"\\\\u03a1\\\\u03c9\\\\u03bc\\\\u03b1\\\\u03af\\\\u03bf\\\\u03c2 \\\\u03ba\\\\u03b1\\\\u03b9 \\\\u0399\\\\u03bf\\\\u03c5\\\\u03bb\\\\u03b9\\\\u03ad\\\\u03c4\\\\u03b1\"}'}}, response_metadata={'prompt_feedback': {'block_reason': 0, 'safety_ratings': []}, 'finish_reason': 'STOP', 'model_name': 'gemini-2.0-flash', 'safety_ratings': []}, id='run--f938e682-68f5-4744-961f-507b88e3a983-0', tool_calls=[{'name': 'GetShowInfoParameters', 'args': {'date_query': 'Σαββατο 2025-11-15', 'show_name': 'Ρωμαίος και Ιουλιέτα'}, 'id': '13ac0ddc-591b-49f0-a031-b430bfe2d1d7', 'type': 'tool_call'}], usage_metadata={'input_tokens': 4502, 'output_tokens': 35, 'total_tokens': 4537, 'input_token_details': {'cache_read': 0}}), HumanMessage(content='Ρωμαιος και ιουλιετα', additional_kwargs={}, response_metadata={}), AIMessage(content='', additional_kwargs={'function_call': {'name': 'GetShowInfoParameters', 'arguments': '{\"show_name\": \"\\\\u03a1\\\\u03c9\\\\u03bc\\\\u03b1\\\\u03af\\\\u03bf\\\\u03c2 \\\\u03ba\\\\u03b1\\\\u03b9 \\\\u0399\\\\u03bf\\\\u03c5\\\\u03bb\\\\u03b9\\\\u03ad\\\\u03c4\\\\u03b1\"}'}}, response_metadata={'prompt_feedback': {'block_reason': 0, 'safety_ratings': []}, 'finish_reason': 'STOP', 'model_name': 'gemini-2.0-flash', 'safety_ratings': []}, id='run--38571488-ad31-4ff2-b39a-fd67e99f98bf-0', tool_calls=[{'name': 'GetShowInfoParameters', 'args': {'show_name': 'Ρωμαίος και Ιουλιέτα'}, 'id': '60bd0766-abd8-45c8-8e01-79875cfcc048', 'type': 'tool_call'}], usage_metadata={'input_tokens': 4967, 'output_tokens': 16, 'total_tokens': 4983, 'input_token_details': {'cache_read': 0}}), HumanMessage(content='Σάββατο 2025-11-15 στις 21:00', additional_kwargs={}, response_metadata={}), AIMessage(content='', additional_kwargs={'function_call': {'name': 'GetShowInfoParameters', 'arguments': '{\"show_name\": \"\\\\u03a1\\\\u03c9\\\\u03bc\\\\u03b1\\\\u03af\\\\u03bf\\\\u03c2 \\\\u03ba\\\\u03b1\\\\u03b9 \\\\u0399\\\\u03bf\\\\u03c5\\\\u03bb\\\\u03b9\\\\u03ad\\\\u03c4\\\\u03b1\", \"date_query\": \"\\\\u03a3\\\\u03ac\\\\u03b2\\\\u03b2\\\\u03b1\\\\u03c4\\\\u03bf 2025-11-15\"}'}}, response_metadata={'prompt_feedback': {'block_reason': 0, 'safety_ratings': []}, 'finish_reason': 'STOP', 'model_name': 'gemini-2.0-flash', 'safety_ratings': []}, id='run--ca0f4681-8490-4562-8e85-49e15ab08961-0', tool_calls=[{'name': 'GetShowInfoParameters', 'args': {'show_name': 'Ρωμαίος και Ιουλιέτα', 'date_query': 'Σάββατο 2025-11-15'}, 'id': '983831d0-b720-45a9-927a-c4cafa934af4', 'type': 'tool_call'}], usage_metadata={'input_tokens': 5358, 'output_tokens': 35, 'total_tokens': 5393, 'input_token_details': {'cache_read': 0}}), HumanMessage(content='15-11', additional_kwargs={}, response_metadata={}), AIMessage(content='', additional_kwargs={'function_call': {'name': 'GetShowInfoParameters', 'arguments': '{\"date_query\": \"15-11\", \"show_name\": \"\\\\u03a1\\\\u03c9\\\\u03bc\\\\u03b1\\\\u03af\\\\u03bf\\\\u03c2 \\\\u03ba\\\\u03b1\\\\u03b9 \\\\u0399\\\\u03bf\\\\u03c5\\\\u03bb\\\\u03b9\\\\u03ad\\\\u03c4\\\\u03b1\"}'}}, response_metadata={'prompt_feedback': {'block_reason': 0, 'safety_ratings': []}, 'finish_reason': 'STOP', 'model_name': 'gemini-2.0-flash', 'safety_ratings': []}, id='run--c716963c-421a-4fa4-a0c8-c81b81015164-0', tool_calls=[{'name': 'GetShowInfoParameters', 'args': {'date_query': '15-11', 'show_name': 'Ρωμαίος και Ιουλιέτα'}, 'id': '27259780-3b03-4fdb-b950-6ae5e564da4c', 'type': 'tool_call'}], usage_metadata={'input_tokens': 5619, 'output_tokens': 24, 'total_tokens': 5643, 'input_token_details': {'cache_read': 0}}), HumanMessage(content='Σσσς', additional_kwargs={}, response_metadata={}), AIMessage(content='Μπορώ να σας βοηθήσω σε κάτι;', additional_kwargs={}, response_metadata={'prompt_feedback': {'block_reason': 0, 'safety_ratings': []}, 'finish_reason': 'STOP', 'model_name': 'gemini-2.0-flash', 'safety_ratings': []}, id='run--8fc3aea1-94ef-484d-b2b9-a9d6b73ee571-0', usage_metadata={'input_tokens': 5633, 'output_tokens': 13, 'total_tokens': 5646, 'input_token_details': {'cache_read': 0}})]\n"
     ]
    },
    {
     "name": "stderr",
     "output_type": "stream",
     "text": [
      "/usr/local/lib/python3.11/dist-packages/langchain_google_genai/chat_models.py:424: UserWarning: Convert_system_message_to_human will be deprecated!\n",
      "  warnings.warn(\"Convert_system_message_to_human will be deprecated!\")\n"
     ]
    },
    {
     "name": "stdout",
     "output_type": "stream",
     "text": [
      "Εισερχόμενο για session my_test_session_123: Ρωμαίος\n",
      "Τρέχον ιστορικό για session my_test_session_123 (πριν την κλήση): [HumanMessage(content='Σαββατο', additional_kwargs={}, response_metadata={}), AIMessage(content='', additional_kwargs={'function_call': {'name': 'GetShowInfoParameters', 'arguments': '{\"date_query\": \"\\\\u03a3\\\\u03b1\\\\u03b2\\\\u03b2\\\\u03b1\\\\u03c4\\\\u03bf 2025-11-15\", \"show_name\": \"\\\\u03a1\\\\u03c9\\\\u03bc\\\\u03b1\\\\u03af\\\\u03bf\\\\u03c2 \\\\u03ba\\\\u03b1\\\\u03b9 \\\\u0399\\\\u03bf\\\\u03c5\\\\u03bb\\\\u03b9\\\\u03ad\\\\u03c4\\\\u03b1\"}'}}, response_metadata={'prompt_feedback': {'block_reason': 0, 'safety_ratings': []}, 'finish_reason': 'STOP', 'model_name': 'gemini-2.0-flash', 'safety_ratings': []}, id='run--6b70fef2-583b-4c3f-a48a-9ac1dd5b6012-0', tool_calls=[{'name': 'GetShowInfoParameters', 'args': {'date_query': 'Σαββατο 2025-11-15', 'show_name': 'Ρωμαίος και Ιουλιέτα'}, 'id': '295ceed3-48f1-4b12-af0d-92e4822d02c2', 'type': 'tool_call'}], usage_metadata={'input_tokens': 4047, 'output_tokens': 35, 'total_tokens': 4082, 'input_token_details': {'cache_read': 0}}), HumanMessage(content='21:00', additional_kwargs={}, response_metadata={}), AIMessage(content='', additional_kwargs={'function_call': {'name': 'GetShowInfoParameters', 'arguments': '{\"date_query\": \"\\\\u03a3\\\\u03b1\\\\u03b2\\\\u03b2\\\\u03b1\\\\u03c4\\\\u03bf 2025-11-15\", \"show_name\": \"\\\\u03a1\\\\u03c9\\\\u03bc\\\\u03b1\\\\u03af\\\\u03bf\\\\u03c2 \\\\u03ba\\\\u03b1\\\\u03b9 \\\\u0399\\\\u03bf\\\\u03c5\\\\u03bb\\\\u03b9\\\\u03ad\\\\u03c4\\\\u03b1\"}'}}, response_metadata={'prompt_feedback': {'block_reason': 0, 'safety_ratings': []}, 'finish_reason': 'STOP', 'model_name': 'gemini-2.0-flash', 'safety_ratings': []}, id='run--f938e682-68f5-4744-961f-507b88e3a983-0', tool_calls=[{'name': 'GetShowInfoParameters', 'args': {'date_query': 'Σαββατο 2025-11-15', 'show_name': 'Ρωμαίος και Ιουλιέτα'}, 'id': '13ac0ddc-591b-49f0-a031-b430bfe2d1d7', 'type': 'tool_call'}], usage_metadata={'input_tokens': 4502, 'output_tokens': 35, 'total_tokens': 4537, 'input_token_details': {'cache_read': 0}}), HumanMessage(content='Ρωμαιος και ιουλιετα', additional_kwargs={}, response_metadata={}), AIMessage(content='', additional_kwargs={'function_call': {'name': 'GetShowInfoParameters', 'arguments': '{\"show_name\": \"\\\\u03a1\\\\u03c9\\\\u03bc\\\\u03b1\\\\u03af\\\\u03bf\\\\u03c2 \\\\u03ba\\\\u03b1\\\\u03b9 \\\\u0399\\\\u03bf\\\\u03c5\\\\u03bb\\\\u03b9\\\\u03ad\\\\u03c4\\\\u03b1\"}'}}, response_metadata={'prompt_feedback': {'block_reason': 0, 'safety_ratings': []}, 'finish_reason': 'STOP', 'model_name': 'gemini-2.0-flash', 'safety_ratings': []}, id='run--38571488-ad31-4ff2-b39a-fd67e99f98bf-0', tool_calls=[{'name': 'GetShowInfoParameters', 'args': {'show_name': 'Ρωμαίος και Ιουλιέτα'}, 'id': '60bd0766-abd8-45c8-8e01-79875cfcc048', 'type': 'tool_call'}], usage_metadata={'input_tokens': 4967, 'output_tokens': 16, 'total_tokens': 4983, 'input_token_details': {'cache_read': 0}}), HumanMessage(content='Σάββατο 2025-11-15 στις 21:00', additional_kwargs={}, response_metadata={}), AIMessage(content='', additional_kwargs={'function_call': {'name': 'GetShowInfoParameters', 'arguments': '{\"show_name\": \"\\\\u03a1\\\\u03c9\\\\u03bc\\\\u03b1\\\\u03af\\\\u03bf\\\\u03c2 \\\\u03ba\\\\u03b1\\\\u03b9 \\\\u0399\\\\u03bf\\\\u03c5\\\\u03bb\\\\u03b9\\\\u03ad\\\\u03c4\\\\u03b1\", \"date_query\": \"\\\\u03a3\\\\u03ac\\\\u03b2\\\\u03b2\\\\u03b1\\\\u03c4\\\\u03bf 2025-11-15\"}'}}, response_metadata={'prompt_feedback': {'block_reason': 0, 'safety_ratings': []}, 'finish_reason': 'STOP', 'model_name': 'gemini-2.0-flash', 'safety_ratings': []}, id='run--ca0f4681-8490-4562-8e85-49e15ab08961-0', tool_calls=[{'name': 'GetShowInfoParameters', 'args': {'show_name': 'Ρωμαίος και Ιουλιέτα', 'date_query': 'Σάββατο 2025-11-15'}, 'id': '983831d0-b720-45a9-927a-c4cafa934af4', 'type': 'tool_call'}], usage_metadata={'input_tokens': 5358, 'output_tokens': 35, 'total_tokens': 5393, 'input_token_details': {'cache_read': 0}}), HumanMessage(content='15-11', additional_kwargs={}, response_metadata={}), AIMessage(content='', additional_kwargs={'function_call': {'name': 'GetShowInfoParameters', 'arguments': '{\"date_query\": \"15-11\", \"show_name\": \"\\\\u03a1\\\\u03c9\\\\u03bc\\\\u03b1\\\\u03af\\\\u03bf\\\\u03c2 \\\\u03ba\\\\u03b1\\\\u03b9 \\\\u0399\\\\u03bf\\\\u03c5\\\\u03bb\\\\u03b9\\\\u03ad\\\\u03c4\\\\u03b1\"}'}}, response_metadata={'prompt_feedback': {'block_reason': 0, 'safety_ratings': []}, 'finish_reason': 'STOP', 'model_name': 'gemini-2.0-flash', 'safety_ratings': []}, id='run--c716963c-421a-4fa4-a0c8-c81b81015164-0', tool_calls=[{'name': 'GetShowInfoParameters', 'args': {'date_query': '15-11', 'show_name': 'Ρωμαίος και Ιουλιέτα'}, 'id': '27259780-3b03-4fdb-b950-6ae5e564da4c', 'type': 'tool_call'}], usage_metadata={'input_tokens': 5619, 'output_tokens': 24, 'total_tokens': 5643, 'input_token_details': {'cache_read': 0}}), HumanMessage(content='Σσσς', additional_kwargs={}, response_metadata={}), AIMessage(content='Μπορώ να σας βοηθήσω σε κάτι;', additional_kwargs={}, response_metadata={'prompt_feedback': {'block_reason': 0, 'safety_ratings': []}, 'finish_reason': 'STOP', 'model_name': 'gemini-2.0-flash', 'safety_ratings': []}, id='run--8fc3aea1-94ef-484d-b2b9-a9d6b73ee571-0', usage_metadata={'input_tokens': 5633, 'output_tokens': 13, 'total_tokens': 5646, 'input_token_details': {'cache_read': 0}}), HumanMessage(content='Κράτηση', additional_kwargs={}, response_metadata={}), AIMessage(content='Πώς μπορώ να σας βοηθήσω με την κράτησή σας;', additional_kwargs={}, response_metadata={'prompt_feedback': {'block_reason': 0, 'safety_ratings': []}, 'finish_reason': 'STOP', 'model_name': 'gemini-2.0-flash', 'safety_ratings': []}, id='run--f223658e-6089-4884-af7b-6683cd3f2696-0', usage_metadata={'input_tokens': 5415, 'output_tokens': 19, 'total_tokens': 5434, 'input_token_details': {'cache_read': 0}})]\n"
     ]
    },
    {
     "name": "stderr",
     "output_type": "stream",
     "text": [
      "/usr/local/lib/python3.11/dist-packages/langchain_google_genai/chat_models.py:424: UserWarning: Convert_system_message_to_human will be deprecated!\n",
      "  warnings.warn(\"Convert_system_message_to_human will be deprecated!\")\n"
     ]
    },
    {
     "name": "stdout",
     "output_type": "stream",
     "text": [
      "Εισερχόμενο για session my_test_session_123: Ρωμαίος και Ιουλιέτα\n",
      "Τρέχον ιστορικό για session my_test_session_123 (πριν την κλήση): [HumanMessage(content='21:00', additional_kwargs={}, response_metadata={}), AIMessage(content='', additional_kwargs={'function_call': {'name': 'GetShowInfoParameters', 'arguments': '{\"date_query\": \"\\\\u03a3\\\\u03b1\\\\u03b2\\\\u03b2\\\\u03b1\\\\u03c4\\\\u03bf 2025-11-15\", \"show_name\": \"\\\\u03a1\\\\u03c9\\\\u03bc\\\\u03b1\\\\u03af\\\\u03bf\\\\u03c2 \\\\u03ba\\\\u03b1\\\\u03b9 \\\\u0399\\\\u03bf\\\\u03c5\\\\u03bb\\\\u03b9\\\\u03ad\\\\u03c4\\\\u03b1\"}'}}, response_metadata={'prompt_feedback': {'block_reason': 0, 'safety_ratings': []}, 'finish_reason': 'STOP', 'model_name': 'gemini-2.0-flash', 'safety_ratings': []}, id='run--f938e682-68f5-4744-961f-507b88e3a983-0', tool_calls=[{'name': 'GetShowInfoParameters', 'args': {'date_query': 'Σαββατο 2025-11-15', 'show_name': 'Ρωμαίος και Ιουλιέτα'}, 'id': '13ac0ddc-591b-49f0-a031-b430bfe2d1d7', 'type': 'tool_call'}], usage_metadata={'input_tokens': 4502, 'output_tokens': 35, 'total_tokens': 4537, 'input_token_details': {'cache_read': 0}}), HumanMessage(content='Ρωμαιος και ιουλιετα', additional_kwargs={}, response_metadata={}), AIMessage(content='', additional_kwargs={'function_call': {'name': 'GetShowInfoParameters', 'arguments': '{\"show_name\": \"\\\\u03a1\\\\u03c9\\\\u03bc\\\\u03b1\\\\u03af\\\\u03bf\\\\u03c2 \\\\u03ba\\\\u03b1\\\\u03b9 \\\\u0399\\\\u03bf\\\\u03c5\\\\u03bb\\\\u03b9\\\\u03ad\\\\u03c4\\\\u03b1\"}'}}, response_metadata={'prompt_feedback': {'block_reason': 0, 'safety_ratings': []}, 'finish_reason': 'STOP', 'model_name': 'gemini-2.0-flash', 'safety_ratings': []}, id='run--38571488-ad31-4ff2-b39a-fd67e99f98bf-0', tool_calls=[{'name': 'GetShowInfoParameters', 'args': {'show_name': 'Ρωμαίος και Ιουλιέτα'}, 'id': '60bd0766-abd8-45c8-8e01-79875cfcc048', 'type': 'tool_call'}], usage_metadata={'input_tokens': 4967, 'output_tokens': 16, 'total_tokens': 4983, 'input_token_details': {'cache_read': 0}}), HumanMessage(content='Σάββατο 2025-11-15 στις 21:00', additional_kwargs={}, response_metadata={}), AIMessage(content='', additional_kwargs={'function_call': {'name': 'GetShowInfoParameters', 'arguments': '{\"show_name\": \"\\\\u03a1\\\\u03c9\\\\u03bc\\\\u03b1\\\\u03af\\\\u03bf\\\\u03c2 \\\\u03ba\\\\u03b1\\\\u03b9 \\\\u0399\\\\u03bf\\\\u03c5\\\\u03bb\\\\u03b9\\\\u03ad\\\\u03c4\\\\u03b1\", \"date_query\": \"\\\\u03a3\\\\u03ac\\\\u03b2\\\\u03b2\\\\u03b1\\\\u03c4\\\\u03bf 2025-11-15\"}'}}, response_metadata={'prompt_feedback': {'block_reason': 0, 'safety_ratings': []}, 'finish_reason': 'STOP', 'model_name': 'gemini-2.0-flash', 'safety_ratings': []}, id='run--ca0f4681-8490-4562-8e85-49e15ab08961-0', tool_calls=[{'name': 'GetShowInfoParameters', 'args': {'show_name': 'Ρωμαίος και Ιουλιέτα', 'date_query': 'Σάββατο 2025-11-15'}, 'id': '983831d0-b720-45a9-927a-c4cafa934af4', 'type': 'tool_call'}], usage_metadata={'input_tokens': 5358, 'output_tokens': 35, 'total_tokens': 5393, 'input_token_details': {'cache_read': 0}}), HumanMessage(content='15-11', additional_kwargs={}, response_metadata={}), AIMessage(content='', additional_kwargs={'function_call': {'name': 'GetShowInfoParameters', 'arguments': '{\"date_query\": \"15-11\", \"show_name\": \"\\\\u03a1\\\\u03c9\\\\u03bc\\\\u03b1\\\\u03af\\\\u03bf\\\\u03c2 \\\\u03ba\\\\u03b1\\\\u03b9 \\\\u0399\\\\u03bf\\\\u03c5\\\\u03bb\\\\u03b9\\\\u03ad\\\\u03c4\\\\u03b1\"}'}}, response_metadata={'prompt_feedback': {'block_reason': 0, 'safety_ratings': []}, 'finish_reason': 'STOP', 'model_name': 'gemini-2.0-flash', 'safety_ratings': []}, id='run--c716963c-421a-4fa4-a0c8-c81b81015164-0', tool_calls=[{'name': 'GetShowInfoParameters', 'args': {'date_query': '15-11', 'show_name': 'Ρωμαίος και Ιουλιέτα'}, 'id': '27259780-3b03-4fdb-b950-6ae5e564da4c', 'type': 'tool_call'}], usage_metadata={'input_tokens': 5619, 'output_tokens': 24, 'total_tokens': 5643, 'input_token_details': {'cache_read': 0}}), HumanMessage(content='Σσσς', additional_kwargs={}, response_metadata={}), AIMessage(content='Μπορώ να σας βοηθήσω σε κάτι;', additional_kwargs={}, response_metadata={'prompt_feedback': {'block_reason': 0, 'safety_ratings': []}, 'finish_reason': 'STOP', 'model_name': 'gemini-2.0-flash', 'safety_ratings': []}, id='run--8fc3aea1-94ef-484d-b2b9-a9d6b73ee571-0', usage_metadata={'input_tokens': 5633, 'output_tokens': 13, 'total_tokens': 5646, 'input_token_details': {'cache_read': 0}}), HumanMessage(content='Κράτηση', additional_kwargs={}, response_metadata={}), AIMessage(content='Πώς μπορώ να σας βοηθήσω με την κράτησή σας;', additional_kwargs={}, response_metadata={'prompt_feedback': {'block_reason': 0, 'safety_ratings': []}, 'finish_reason': 'STOP', 'model_name': 'gemini-2.0-flash', 'safety_ratings': []}, id='run--f223658e-6089-4884-af7b-6683cd3f2696-0', usage_metadata={'input_tokens': 5415, 'output_tokens': 19, 'total_tokens': 5434, 'input_token_details': {'cache_read': 0}}), HumanMessage(content='Ρωμαίος', additional_kwargs={}, response_metadata={}), AIMessage(content='Για ποια παράσταση θα θέλατε να κάνετε κράτηση;', additional_kwargs={}, response_metadata={'prompt_feedback': {'block_reason': 0, 'safety_ratings': []}, 'finish_reason': 'STOP', 'model_name': 'gemini-2.0-flash', 'safety_ratings': []}, id='run--d2989b7b-2248-46a7-a94f-69e1200e8ffe-0', usage_metadata={'input_tokens': 5136, 'output_tokens': 16, 'total_tokens': 5152, 'input_token_details': {'cache_read': 0}})]\n"
     ]
    },
    {
     "name": "stderr",
     "output_type": "stream",
     "text": [
      "/usr/local/lib/python3.11/dist-packages/langchain_google_genai/chat_models.py:424: UserWarning: Convert_system_message_to_human will be deprecated!\n",
      "  warnings.warn(\"Convert_system_message_to_human will be deprecated!\")\n"
     ]
    },
    {
     "name": "stdout",
     "output_type": "stream",
     "text": [
      "  LLM Response (gemini-2.0-flash): Εντοπίστηκε κλήση εργαλείου\n",
      "    -> Πρόθεση: GetShowInfoParameters, Παράμετροι: {'show_name': 'Ρωμαίος και Ιουλιέτα'}\n",
      "Εισερχόμενο για session my_test_session_123: 15/11\n",
      "Τρέχον ιστορικό για session my_test_session_123 (πριν την κλήση): [HumanMessage(content='Ρωμαιος και ιουλιετα', additional_kwargs={}, response_metadata={}), AIMessage(content='', additional_kwargs={'function_call': {'name': 'GetShowInfoParameters', 'arguments': '{\"show_name\": \"\\\\u03a1\\\\u03c9\\\\u03bc\\\\u03b1\\\\u03af\\\\u03bf\\\\u03c2 \\\\u03ba\\\\u03b1\\\\u03b9 \\\\u0399\\\\u03bf\\\\u03c5\\\\u03bb\\\\u03b9\\\\u03ad\\\\u03c4\\\\u03b1\"}'}}, response_metadata={'prompt_feedback': {'block_reason': 0, 'safety_ratings': []}, 'finish_reason': 'STOP', 'model_name': 'gemini-2.0-flash', 'safety_ratings': []}, id='run--38571488-ad31-4ff2-b39a-fd67e99f98bf-0', tool_calls=[{'name': 'GetShowInfoParameters', 'args': {'show_name': 'Ρωμαίος και Ιουλιέτα'}, 'id': '60bd0766-abd8-45c8-8e01-79875cfcc048', 'type': 'tool_call'}], usage_metadata={'input_tokens': 4967, 'output_tokens': 16, 'total_tokens': 4983, 'input_token_details': {'cache_read': 0}}), HumanMessage(content='Σάββατο 2025-11-15 στις 21:00', additional_kwargs={}, response_metadata={}), AIMessage(content='', additional_kwargs={'function_call': {'name': 'GetShowInfoParameters', 'arguments': '{\"show_name\": \"\\\\u03a1\\\\u03c9\\\\u03bc\\\\u03b1\\\\u03af\\\\u03bf\\\\u03c2 \\\\u03ba\\\\u03b1\\\\u03b9 \\\\u0399\\\\u03bf\\\\u03c5\\\\u03bb\\\\u03b9\\\\u03ad\\\\u03c4\\\\u03b1\", \"date_query\": \"\\\\u03a3\\\\u03ac\\\\u03b2\\\\u03b2\\\\u03b1\\\\u03c4\\\\u03bf 2025-11-15\"}'}}, response_metadata={'prompt_feedback': {'block_reason': 0, 'safety_ratings': []}, 'finish_reason': 'STOP', 'model_name': 'gemini-2.0-flash', 'safety_ratings': []}, id='run--ca0f4681-8490-4562-8e85-49e15ab08961-0', tool_calls=[{'name': 'GetShowInfoParameters', 'args': {'show_name': 'Ρωμαίος και Ιουλιέτα', 'date_query': 'Σάββατο 2025-11-15'}, 'id': '983831d0-b720-45a9-927a-c4cafa934af4', 'type': 'tool_call'}], usage_metadata={'input_tokens': 5358, 'output_tokens': 35, 'total_tokens': 5393, 'input_token_details': {'cache_read': 0}}), HumanMessage(content='15-11', additional_kwargs={}, response_metadata={}), AIMessage(content='', additional_kwargs={'function_call': {'name': 'GetShowInfoParameters', 'arguments': '{\"date_query\": \"15-11\", \"show_name\": \"\\\\u03a1\\\\u03c9\\\\u03bc\\\\u03b1\\\\u03af\\\\u03bf\\\\u03c2 \\\\u03ba\\\\u03b1\\\\u03b9 \\\\u0399\\\\u03bf\\\\u03c5\\\\u03bb\\\\u03b9\\\\u03ad\\\\u03c4\\\\u03b1\"}'}}, response_metadata={'prompt_feedback': {'block_reason': 0, 'safety_ratings': []}, 'finish_reason': 'STOP', 'model_name': 'gemini-2.0-flash', 'safety_ratings': []}, id='run--c716963c-421a-4fa4-a0c8-c81b81015164-0', tool_calls=[{'name': 'GetShowInfoParameters', 'args': {'date_query': '15-11', 'show_name': 'Ρωμαίος και Ιουλιέτα'}, 'id': '27259780-3b03-4fdb-b950-6ae5e564da4c', 'type': 'tool_call'}], usage_metadata={'input_tokens': 5619, 'output_tokens': 24, 'total_tokens': 5643, 'input_token_details': {'cache_read': 0}}), HumanMessage(content='Σσσς', additional_kwargs={}, response_metadata={}), AIMessage(content='Μπορώ να σας βοηθήσω σε κάτι;', additional_kwargs={}, response_metadata={'prompt_feedback': {'block_reason': 0, 'safety_ratings': []}, 'finish_reason': 'STOP', 'model_name': 'gemini-2.0-flash', 'safety_ratings': []}, id='run--8fc3aea1-94ef-484d-b2b9-a9d6b73ee571-0', usage_metadata={'input_tokens': 5633, 'output_tokens': 13, 'total_tokens': 5646, 'input_token_details': {'cache_read': 0}}), HumanMessage(content='Κράτηση', additional_kwargs={}, response_metadata={}), AIMessage(content='Πώς μπορώ να σας βοηθήσω με την κράτησή σας;', additional_kwargs={}, response_metadata={'prompt_feedback': {'block_reason': 0, 'safety_ratings': []}, 'finish_reason': 'STOP', 'model_name': 'gemini-2.0-flash', 'safety_ratings': []}, id='run--f223658e-6089-4884-af7b-6683cd3f2696-0', usage_metadata={'input_tokens': 5415, 'output_tokens': 19, 'total_tokens': 5434, 'input_token_details': {'cache_read': 0}}), HumanMessage(content='Ρωμαίος', additional_kwargs={}, response_metadata={}), AIMessage(content='Για ποια παράσταση θα θέλατε να κάνετε κράτηση;', additional_kwargs={}, response_metadata={'prompt_feedback': {'block_reason': 0, 'safety_ratings': []}, 'finish_reason': 'STOP', 'model_name': 'gemini-2.0-flash', 'safety_ratings': []}, id='run--d2989b7b-2248-46a7-a94f-69e1200e8ffe-0', usage_metadata={'input_tokens': 5136, 'output_tokens': 16, 'total_tokens': 5152, 'input_token_details': {'cache_read': 0}}), HumanMessage(content='Ρωμαίος και Ιουλιέτα', additional_kwargs={}, response_metadata={}), AIMessage(content='', additional_kwargs={'function_call': {'name': 'GetShowInfoParameters', 'arguments': '{\"show_name\": \"\\\\u03a1\\\\u03c9\\\\u03bc\\\\u03b1\\\\u03af\\\\u03bf\\\\u03c2 \\\\u03ba\\\\u03b1\\\\u03b9 \\\\u0399\\\\u03bf\\\\u03c5\\\\u03bb\\\\u03b9\\\\u03ad\\\\u03c4\\\\u03b1\"}'}}, response_metadata={'prompt_feedback': {'block_reason': 0, 'safety_ratings': []}, 'finish_reason': 'STOP', 'model_name': 'gemini-2.0-flash', 'safety_ratings': []}, id='run--baa37e05-7371-4c39-9297-890a2beb8ffe-0', tool_calls=[{'name': 'GetShowInfoParameters', 'args': {'show_name': 'Ρωμαίος και Ιουλιέτα'}, 'id': '3891af90-eee8-42f2-aab4-365d2e4e056c', 'type': 'tool_call'}], usage_metadata={'input_tokens': 4873, 'output_tokens': 16, 'total_tokens': 4889, 'input_token_details': {'cache_read': 0}})]\n"
     ]
    },
    {
     "name": "stderr",
     "output_type": "stream",
     "text": [
      "/usr/local/lib/python3.11/dist-packages/langchain_google_genai/chat_models.py:424: UserWarning: Convert_system_message_to_human will be deprecated!\n",
      "  warnings.warn(\"Convert_system_message_to_human will be deprecated!\")\n"
     ]
    },
    {
     "name": "stdout",
     "output_type": "stream",
     "text": [
      "  LLM Response (gemini-2.0-flash): Εντοπίστηκε κλήση εργαλείου\n",
      "    -> Πρόθεση: GetShowInfoParameters, Παράμετροι: {'show_name': 'Ρωμαίος και Ιουλιέτα', 'date_query': '15/11'}\n",
      "Εισερχόμενο για session my_test_session_123: 11/15\n",
      "Τρέχον ιστορικό για session my_test_session_123 (πριν την κλήση): [HumanMessage(content='Σάββατο 2025-11-15 στις 21:00', additional_kwargs={}, response_metadata={}), AIMessage(content='', additional_kwargs={'function_call': {'name': 'GetShowInfoParameters', 'arguments': '{\"show_name\": \"\\\\u03a1\\\\u03c9\\\\u03bc\\\\u03b1\\\\u03af\\\\u03bf\\\\u03c2 \\\\u03ba\\\\u03b1\\\\u03b9 \\\\u0399\\\\u03bf\\\\u03c5\\\\u03bb\\\\u03b9\\\\u03ad\\\\u03c4\\\\u03b1\", \"date_query\": \"\\\\u03a3\\\\u03ac\\\\u03b2\\\\u03b2\\\\u03b1\\\\u03c4\\\\u03bf 2025-11-15\"}'}}, response_metadata={'prompt_feedback': {'block_reason': 0, 'safety_ratings': []}, 'finish_reason': 'STOP', 'model_name': 'gemini-2.0-flash', 'safety_ratings': []}, id='run--ca0f4681-8490-4562-8e85-49e15ab08961-0', tool_calls=[{'name': 'GetShowInfoParameters', 'args': {'show_name': 'Ρωμαίος και Ιουλιέτα', 'date_query': 'Σάββατο 2025-11-15'}, 'id': '983831d0-b720-45a9-927a-c4cafa934af4', 'type': 'tool_call'}], usage_metadata={'input_tokens': 5358, 'output_tokens': 35, 'total_tokens': 5393, 'input_token_details': {'cache_read': 0}}), HumanMessage(content='15-11', additional_kwargs={}, response_metadata={}), AIMessage(content='', additional_kwargs={'function_call': {'name': 'GetShowInfoParameters', 'arguments': '{\"date_query\": \"15-11\", \"show_name\": \"\\\\u03a1\\\\u03c9\\\\u03bc\\\\u03b1\\\\u03af\\\\u03bf\\\\u03c2 \\\\u03ba\\\\u03b1\\\\u03b9 \\\\u0399\\\\u03bf\\\\u03c5\\\\u03bb\\\\u03b9\\\\u03ad\\\\u03c4\\\\u03b1\"}'}}, response_metadata={'prompt_feedback': {'block_reason': 0, 'safety_ratings': []}, 'finish_reason': 'STOP', 'model_name': 'gemini-2.0-flash', 'safety_ratings': []}, id='run--c716963c-421a-4fa4-a0c8-c81b81015164-0', tool_calls=[{'name': 'GetShowInfoParameters', 'args': {'date_query': '15-11', 'show_name': 'Ρωμαίος και Ιουλιέτα'}, 'id': '27259780-3b03-4fdb-b950-6ae5e564da4c', 'type': 'tool_call'}], usage_metadata={'input_tokens': 5619, 'output_tokens': 24, 'total_tokens': 5643, 'input_token_details': {'cache_read': 0}}), HumanMessage(content='Σσσς', additional_kwargs={}, response_metadata={}), AIMessage(content='Μπορώ να σας βοηθήσω σε κάτι;', additional_kwargs={}, response_metadata={'prompt_feedback': {'block_reason': 0, 'safety_ratings': []}, 'finish_reason': 'STOP', 'model_name': 'gemini-2.0-flash', 'safety_ratings': []}, id='run--8fc3aea1-94ef-484d-b2b9-a9d6b73ee571-0', usage_metadata={'input_tokens': 5633, 'output_tokens': 13, 'total_tokens': 5646, 'input_token_details': {'cache_read': 0}}), HumanMessage(content='Κράτηση', additional_kwargs={}, response_metadata={}), AIMessage(content='Πώς μπορώ να σας βοηθήσω με την κράτησή σας;', additional_kwargs={}, response_metadata={'prompt_feedback': {'block_reason': 0, 'safety_ratings': []}, 'finish_reason': 'STOP', 'model_name': 'gemini-2.0-flash', 'safety_ratings': []}, id='run--f223658e-6089-4884-af7b-6683cd3f2696-0', usage_metadata={'input_tokens': 5415, 'output_tokens': 19, 'total_tokens': 5434, 'input_token_details': {'cache_read': 0}}), HumanMessage(content='Ρωμαίος', additional_kwargs={}, response_metadata={}), AIMessage(content='Για ποια παράσταση θα θέλατε να κάνετε κράτηση;', additional_kwargs={}, response_metadata={'prompt_feedback': {'block_reason': 0, 'safety_ratings': []}, 'finish_reason': 'STOP', 'model_name': 'gemini-2.0-flash', 'safety_ratings': []}, id='run--d2989b7b-2248-46a7-a94f-69e1200e8ffe-0', usage_metadata={'input_tokens': 5136, 'output_tokens': 16, 'total_tokens': 5152, 'input_token_details': {'cache_read': 0}}), HumanMessage(content='Ρωμαίος και Ιουλιέτα', additional_kwargs={}, response_metadata={}), AIMessage(content='', additional_kwargs={'function_call': {'name': 'GetShowInfoParameters', 'arguments': '{\"show_name\": \"\\\\u03a1\\\\u03c9\\\\u03bc\\\\u03b1\\\\u03af\\\\u03bf\\\\u03c2 \\\\u03ba\\\\u03b1\\\\u03b9 \\\\u0399\\\\u03bf\\\\u03c5\\\\u03bb\\\\u03b9\\\\u03ad\\\\u03c4\\\\u03b1\"}'}}, response_metadata={'prompt_feedback': {'block_reason': 0, 'safety_ratings': []}, 'finish_reason': 'STOP', 'model_name': 'gemini-2.0-flash', 'safety_ratings': []}, id='run--baa37e05-7371-4c39-9297-890a2beb8ffe-0', tool_calls=[{'name': 'GetShowInfoParameters', 'args': {'show_name': 'Ρωμαίος και Ιουλιέτα'}, 'id': '3891af90-eee8-42f2-aab4-365d2e4e056c', 'type': 'tool_call'}], usage_metadata={'input_tokens': 4873, 'output_tokens': 16, 'total_tokens': 4889, 'input_token_details': {'cache_read': 0}}), HumanMessage(content='15/11', additional_kwargs={}, response_metadata={}), AIMessage(content='', additional_kwargs={'function_call': {'name': 'GetShowInfoParameters', 'arguments': '{\"show_name\": \"\\\\u03a1\\\\u03c9\\\\u03bc\\\\u03b1\\\\u03af\\\\u03bf\\\\u03c2 \\\\u03ba\\\\u03b1\\\\u03b9 \\\\u0399\\\\u03bf\\\\u03c5\\\\u03bb\\\\u03b9\\\\u03ad\\\\u03c4\\\\u03b1\", \"date_query\": \"15/11\"}'}}, response_metadata={'prompt_feedback': {'block_reason': 0, 'safety_ratings': []}, 'finish_reason': 'STOP', 'model_name': 'gemini-2.0-flash', 'safety_ratings': []}, id='run--bddc5a6b-878e-42de-8c4c-f6b40f7dc409-0', tool_calls=[{'name': 'GetShowInfoParameters', 'args': {'show_name': 'Ρωμαίος και Ιουλιέτα', 'date_query': '15/11'}, 'id': '174c75aa-51d4-4dc5-8458-65cf0ace1555', 'type': 'tool_call'}], usage_metadata={'input_tokens': 4784, 'output_tokens': 24, 'total_tokens': 4808, 'input_token_details': {'cache_read': 0}})]\n"
     ]
    },
    {
     "name": "stderr",
     "output_type": "stream",
     "text": [
      "/usr/local/lib/python3.11/dist-packages/langchain_google_genai/chat_models.py:424: UserWarning: Convert_system_message_to_human will be deprecated!\n",
      "  warnings.warn(\"Convert_system_message_to_human will be deprecated!\")\n"
     ]
    },
    {
     "name": "stdout",
     "output_type": "stream",
     "text": [
      "  LLM Response (gemini-2.0-flash): Εντοπίστηκε κλήση εργαλείου\n",
      "    -> Πρόθεση: GetShowInfoParameters, Παράμετροι: {'show_name': 'Ρωμαίος και Ιουλιέτα', 'date_query': '11/15'}\n",
      "Εισερχόμενο για session my_test_session_123: Θέλω να κάνω μια κράτηση\n",
      "Τρέχον ιστορικό για session my_test_session_123 (πριν την κλήση): [HumanMessage(content='15-11', additional_kwargs={}, response_metadata={}), AIMessage(content='', additional_kwargs={'function_call': {'name': 'GetShowInfoParameters', 'arguments': '{\"date_query\": \"15-11\", \"show_name\": \"\\\\u03a1\\\\u03c9\\\\u03bc\\\\u03b1\\\\u03af\\\\u03bf\\\\u03c2 \\\\u03ba\\\\u03b1\\\\u03b9 \\\\u0399\\\\u03bf\\\\u03c5\\\\u03bb\\\\u03b9\\\\u03ad\\\\u03c4\\\\u03b1\"}'}}, response_metadata={'prompt_feedback': {'block_reason': 0, 'safety_ratings': []}, 'finish_reason': 'STOP', 'model_name': 'gemini-2.0-flash', 'safety_ratings': []}, id='run--c716963c-421a-4fa4-a0c8-c81b81015164-0', tool_calls=[{'name': 'GetShowInfoParameters', 'args': {'date_query': '15-11', 'show_name': 'Ρωμαίος και Ιουλιέτα'}, 'id': '27259780-3b03-4fdb-b950-6ae5e564da4c', 'type': 'tool_call'}], usage_metadata={'input_tokens': 5619, 'output_tokens': 24, 'total_tokens': 5643, 'input_token_details': {'cache_read': 0}}), HumanMessage(content='Σσσς', additional_kwargs={}, response_metadata={}), AIMessage(content='Μπορώ να σας βοηθήσω σε κάτι;', additional_kwargs={}, response_metadata={'prompt_feedback': {'block_reason': 0, 'safety_ratings': []}, 'finish_reason': 'STOP', 'model_name': 'gemini-2.0-flash', 'safety_ratings': []}, id='run--8fc3aea1-94ef-484d-b2b9-a9d6b73ee571-0', usage_metadata={'input_tokens': 5633, 'output_tokens': 13, 'total_tokens': 5646, 'input_token_details': {'cache_read': 0}}), HumanMessage(content='Κράτηση', additional_kwargs={}, response_metadata={}), AIMessage(content='Πώς μπορώ να σας βοηθήσω με την κράτησή σας;', additional_kwargs={}, response_metadata={'prompt_feedback': {'block_reason': 0, 'safety_ratings': []}, 'finish_reason': 'STOP', 'model_name': 'gemini-2.0-flash', 'safety_ratings': []}, id='run--f223658e-6089-4884-af7b-6683cd3f2696-0', usage_metadata={'input_tokens': 5415, 'output_tokens': 19, 'total_tokens': 5434, 'input_token_details': {'cache_read': 0}}), HumanMessage(content='Ρωμαίος', additional_kwargs={}, response_metadata={}), AIMessage(content='Για ποια παράσταση θα θέλατε να κάνετε κράτηση;', additional_kwargs={}, response_metadata={'prompt_feedback': {'block_reason': 0, 'safety_ratings': []}, 'finish_reason': 'STOP', 'model_name': 'gemini-2.0-flash', 'safety_ratings': []}, id='run--d2989b7b-2248-46a7-a94f-69e1200e8ffe-0', usage_metadata={'input_tokens': 5136, 'output_tokens': 16, 'total_tokens': 5152, 'input_token_details': {'cache_read': 0}}), HumanMessage(content='Ρωμαίος και Ιουλιέτα', additional_kwargs={}, response_metadata={}), AIMessage(content='', additional_kwargs={'function_call': {'name': 'GetShowInfoParameters', 'arguments': '{\"show_name\": \"\\\\u03a1\\\\u03c9\\\\u03bc\\\\u03b1\\\\u03af\\\\u03bf\\\\u03c2 \\\\u03ba\\\\u03b1\\\\u03b9 \\\\u0399\\\\u03bf\\\\u03c5\\\\u03bb\\\\u03b9\\\\u03ad\\\\u03c4\\\\u03b1\"}'}}, response_metadata={'prompt_feedback': {'block_reason': 0, 'safety_ratings': []}, 'finish_reason': 'STOP', 'model_name': 'gemini-2.0-flash', 'safety_ratings': []}, id='run--baa37e05-7371-4c39-9297-890a2beb8ffe-0', tool_calls=[{'name': 'GetShowInfoParameters', 'args': {'show_name': 'Ρωμαίος και Ιουλιέτα'}, 'id': '3891af90-eee8-42f2-aab4-365d2e4e056c', 'type': 'tool_call'}], usage_metadata={'input_tokens': 4873, 'output_tokens': 16, 'total_tokens': 4889, 'input_token_details': {'cache_read': 0}}), HumanMessage(content='15/11', additional_kwargs={}, response_metadata={}), AIMessage(content='', additional_kwargs={'function_call': {'name': 'GetShowInfoParameters', 'arguments': '{\"show_name\": \"\\\\u03a1\\\\u03c9\\\\u03bc\\\\u03b1\\\\u03af\\\\u03bf\\\\u03c2 \\\\u03ba\\\\u03b1\\\\u03b9 \\\\u0399\\\\u03bf\\\\u03c5\\\\u03bb\\\\u03b9\\\\u03ad\\\\u03c4\\\\u03b1\", \"date_query\": \"15/11\"}'}}, response_metadata={'prompt_feedback': {'block_reason': 0, 'safety_ratings': []}, 'finish_reason': 'STOP', 'model_name': 'gemini-2.0-flash', 'safety_ratings': []}, id='run--bddc5a6b-878e-42de-8c4c-f6b40f7dc409-0', tool_calls=[{'name': 'GetShowInfoParameters', 'args': {'show_name': 'Ρωμαίος και Ιουλιέτα', 'date_query': '15/11'}, 'id': '174c75aa-51d4-4dc5-8458-65cf0ace1555', 'type': 'tool_call'}], usage_metadata={'input_tokens': 4784, 'output_tokens': 24, 'total_tokens': 4808, 'input_token_details': {'cache_read': 0}}), HumanMessage(content='11/15', additional_kwargs={}, response_metadata={}), AIMessage(content='', additional_kwargs={'function_call': {'name': 'GetShowInfoParameters', 'arguments': '{\"show_name\": \"\\\\u03a1\\\\u03c9\\\\u03bc\\\\u03b1\\\\u03af\\\\u03bf\\\\u03c2 \\\\u03ba\\\\u03b1\\\\u03b9 \\\\u0399\\\\u03bf\\\\u03c5\\\\u03bb\\\\u03b9\\\\u03ad\\\\u03c4\\\\u03b1\", \"date_query\": \"11/15\"}'}}, response_metadata={'prompt_feedback': {'block_reason': 0, 'safety_ratings': []}, 'finish_reason': 'STOP', 'model_name': 'gemini-2.0-flash', 'safety_ratings': []}, id='run--1be3f1ef-b3a2-4b47-8e55-c86f48f37778-0', tool_calls=[{'name': 'GetShowInfoParameters', 'args': {'show_name': 'Ρωμαίος και Ιουλιέτα', 'date_query': '11/15'}, 'id': 'a487f8f4-c5ad-4661-bc15-c5138c8113e8', 'type': 'tool_call'}], usage_metadata={'input_tokens': 4803, 'output_tokens': 24, 'total_tokens': 4827, 'input_token_details': {'cache_read': 0}})]\n"
     ]
    },
    {
     "name": "stderr",
     "output_type": "stream",
     "text": [
      "/usr/local/lib/python3.11/dist-packages/langchain_google_genai/chat_models.py:424: UserWarning: Convert_system_message_to_human will be deprecated!\n",
      "  warnings.warn(\"Convert_system_message_to_human will be deprecated!\")\n"
     ]
    },
    {
     "name": "stdout",
     "output_type": "stream",
     "text": [
      "Εισερχόμενο για session my_test_session_123: Άμλετ\n",
      "Τρέχον ιστορικό για session my_test_session_123 (πριν την κλήση): [HumanMessage(content='Σσσς', additional_kwargs={}, response_metadata={}), AIMessage(content='Μπορώ να σας βοηθήσω σε κάτι;', additional_kwargs={}, response_metadata={'prompt_feedback': {'block_reason': 0, 'safety_ratings': []}, 'finish_reason': 'STOP', 'model_name': 'gemini-2.0-flash', 'safety_ratings': []}, id='run--8fc3aea1-94ef-484d-b2b9-a9d6b73ee571-0', usage_metadata={'input_tokens': 5633, 'output_tokens': 13, 'total_tokens': 5646, 'input_token_details': {'cache_read': 0}}), HumanMessage(content='Κράτηση', additional_kwargs={}, response_metadata={}), AIMessage(content='Πώς μπορώ να σας βοηθήσω με την κράτησή σας;', additional_kwargs={}, response_metadata={'prompt_feedback': {'block_reason': 0, 'safety_ratings': []}, 'finish_reason': 'STOP', 'model_name': 'gemini-2.0-flash', 'safety_ratings': []}, id='run--f223658e-6089-4884-af7b-6683cd3f2696-0', usage_metadata={'input_tokens': 5415, 'output_tokens': 19, 'total_tokens': 5434, 'input_token_details': {'cache_read': 0}}), HumanMessage(content='Ρωμαίος', additional_kwargs={}, response_metadata={}), AIMessage(content='Για ποια παράσταση θα θέλατε να κάνετε κράτηση;', additional_kwargs={}, response_metadata={'prompt_feedback': {'block_reason': 0, 'safety_ratings': []}, 'finish_reason': 'STOP', 'model_name': 'gemini-2.0-flash', 'safety_ratings': []}, id='run--d2989b7b-2248-46a7-a94f-69e1200e8ffe-0', usage_metadata={'input_tokens': 5136, 'output_tokens': 16, 'total_tokens': 5152, 'input_token_details': {'cache_read': 0}}), HumanMessage(content='Ρωμαίος και Ιουλιέτα', additional_kwargs={}, response_metadata={}), AIMessage(content='', additional_kwargs={'function_call': {'name': 'GetShowInfoParameters', 'arguments': '{\"show_name\": \"\\\\u03a1\\\\u03c9\\\\u03bc\\\\u03b1\\\\u03af\\\\u03bf\\\\u03c2 \\\\u03ba\\\\u03b1\\\\u03b9 \\\\u0399\\\\u03bf\\\\u03c5\\\\u03bb\\\\u03b9\\\\u03ad\\\\u03c4\\\\u03b1\"}'}}, response_metadata={'prompt_feedback': {'block_reason': 0, 'safety_ratings': []}, 'finish_reason': 'STOP', 'model_name': 'gemini-2.0-flash', 'safety_ratings': []}, id='run--baa37e05-7371-4c39-9297-890a2beb8ffe-0', tool_calls=[{'name': 'GetShowInfoParameters', 'args': {'show_name': 'Ρωμαίος και Ιουλιέτα'}, 'id': '3891af90-eee8-42f2-aab4-365d2e4e056c', 'type': 'tool_call'}], usage_metadata={'input_tokens': 4873, 'output_tokens': 16, 'total_tokens': 4889, 'input_token_details': {'cache_read': 0}}), HumanMessage(content='15/11', additional_kwargs={}, response_metadata={}), AIMessage(content='', additional_kwargs={'function_call': {'name': 'GetShowInfoParameters', 'arguments': '{\"show_name\": \"\\\\u03a1\\\\u03c9\\\\u03bc\\\\u03b1\\\\u03af\\\\u03bf\\\\u03c2 \\\\u03ba\\\\u03b1\\\\u03b9 \\\\u0399\\\\u03bf\\\\u03c5\\\\u03bb\\\\u03b9\\\\u03ad\\\\u03c4\\\\u03b1\", \"date_query\": \"15/11\"}'}}, response_metadata={'prompt_feedback': {'block_reason': 0, 'safety_ratings': []}, 'finish_reason': 'STOP', 'model_name': 'gemini-2.0-flash', 'safety_ratings': []}, id='run--bddc5a6b-878e-42de-8c4c-f6b40f7dc409-0', tool_calls=[{'name': 'GetShowInfoParameters', 'args': {'show_name': 'Ρωμαίος και Ιουλιέτα', 'date_query': '15/11'}, 'id': '174c75aa-51d4-4dc5-8458-65cf0ace1555', 'type': 'tool_call'}], usage_metadata={'input_tokens': 4784, 'output_tokens': 24, 'total_tokens': 4808, 'input_token_details': {'cache_read': 0}}), HumanMessage(content='11/15', additional_kwargs={}, response_metadata={}), AIMessage(content='', additional_kwargs={'function_call': {'name': 'GetShowInfoParameters', 'arguments': '{\"show_name\": \"\\\\u03a1\\\\u03c9\\\\u03bc\\\\u03b1\\\\u03af\\\\u03bf\\\\u03c2 \\\\u03ba\\\\u03b1\\\\u03b9 \\\\u0399\\\\u03bf\\\\u03c5\\\\u03bb\\\\u03b9\\\\u03ad\\\\u03c4\\\\u03b1\", \"date_query\": \"11/15\"}'}}, response_metadata={'prompt_feedback': {'block_reason': 0, 'safety_ratings': []}, 'finish_reason': 'STOP', 'model_name': 'gemini-2.0-flash', 'safety_ratings': []}, id='run--1be3f1ef-b3a2-4b47-8e55-c86f48f37778-0', tool_calls=[{'name': 'GetShowInfoParameters', 'args': {'show_name': 'Ρωμαίος και Ιουλιέτα', 'date_query': '11/15'}, 'id': 'a487f8f4-c5ad-4661-bc15-c5138c8113e8', 'type': 'tool_call'}], usage_metadata={'input_tokens': 4803, 'output_tokens': 24, 'total_tokens': 4827, 'input_token_details': {'cache_read': 0}}), HumanMessage(content='Θέλω να κάνω μια κράτηση', additional_kwargs={}, response_metadata={}), AIMessage(content='Για ποια παράσταση θα θέλατε να κάνετε κράτηση;', additional_kwargs={}, response_metadata={'prompt_feedback': {'block_reason': 0, 'safety_ratings': []}, 'finish_reason': 'STOP', 'model_name': 'gemini-2.0-flash', 'safety_ratings': []}, id='run--8b4baf19-3fa9-4cd5-808b-aed0c1a42b56-0', usage_metadata={'input_tokens': 4735, 'output_tokens': 17, 'total_tokens': 4752, 'input_token_details': {'cache_read': 0}})]\n"
     ]
    },
    {
     "name": "stderr",
     "output_type": "stream",
     "text": [
      "/usr/local/lib/python3.11/dist-packages/langchain_google_genai/chat_models.py:424: UserWarning: Convert_system_message_to_human will be deprecated!\n",
      "  warnings.warn(\"Convert_system_message_to_human will be deprecated!\")\n"
     ]
    },
    {
     "name": "stdout",
     "output_type": "stream",
     "text": [
      "  LLM Response (gemini-2.0-flash): Εντοπίστηκε κλήση εργαλείου\n",
      "    -> Πρόθεση: GetShowInfoParameters, Παράμετροι: {'show_name': 'Άμλετ'}\n",
      "Εισερχόμενο για session my_test_session_123: Θέλω να κλείσω ένα εισιτήριο\n",
      "Τρέχον ιστορικό για session my_test_session_123 (πριν την κλήση): [HumanMessage(content='Κράτηση', additional_kwargs={}, response_metadata={}), AIMessage(content='Πώς μπορώ να σας βοηθήσω με την κράτησή σας;', additional_kwargs={}, response_metadata={'prompt_feedback': {'block_reason': 0, 'safety_ratings': []}, 'finish_reason': 'STOP', 'model_name': 'gemini-2.0-flash', 'safety_ratings': []}, id='run--f223658e-6089-4884-af7b-6683cd3f2696-0', usage_metadata={'input_tokens': 5415, 'output_tokens': 19, 'total_tokens': 5434, 'input_token_details': {'cache_read': 0}}), HumanMessage(content='Ρωμαίος', additional_kwargs={}, response_metadata={}), AIMessage(content='Για ποια παράσταση θα θέλατε να κάνετε κράτηση;', additional_kwargs={}, response_metadata={'prompt_feedback': {'block_reason': 0, 'safety_ratings': []}, 'finish_reason': 'STOP', 'model_name': 'gemini-2.0-flash', 'safety_ratings': []}, id='run--d2989b7b-2248-46a7-a94f-69e1200e8ffe-0', usage_metadata={'input_tokens': 5136, 'output_tokens': 16, 'total_tokens': 5152, 'input_token_details': {'cache_read': 0}}), HumanMessage(content='Ρωμαίος και Ιουλιέτα', additional_kwargs={}, response_metadata={}), AIMessage(content='', additional_kwargs={'function_call': {'name': 'GetShowInfoParameters', 'arguments': '{\"show_name\": \"\\\\u03a1\\\\u03c9\\\\u03bc\\\\u03b1\\\\u03af\\\\u03bf\\\\u03c2 \\\\u03ba\\\\u03b1\\\\u03b9 \\\\u0399\\\\u03bf\\\\u03c5\\\\u03bb\\\\u03b9\\\\u03ad\\\\u03c4\\\\u03b1\"}'}}, response_metadata={'prompt_feedback': {'block_reason': 0, 'safety_ratings': []}, 'finish_reason': 'STOP', 'model_name': 'gemini-2.0-flash', 'safety_ratings': []}, id='run--baa37e05-7371-4c39-9297-890a2beb8ffe-0', tool_calls=[{'name': 'GetShowInfoParameters', 'args': {'show_name': 'Ρωμαίος και Ιουλιέτα'}, 'id': '3891af90-eee8-42f2-aab4-365d2e4e056c', 'type': 'tool_call'}], usage_metadata={'input_tokens': 4873, 'output_tokens': 16, 'total_tokens': 4889, 'input_token_details': {'cache_read': 0}}), HumanMessage(content='15/11', additional_kwargs={}, response_metadata={}), AIMessage(content='', additional_kwargs={'function_call': {'name': 'GetShowInfoParameters', 'arguments': '{\"show_name\": \"\\\\u03a1\\\\u03c9\\\\u03bc\\\\u03b1\\\\u03af\\\\u03bf\\\\u03c2 \\\\u03ba\\\\u03b1\\\\u03b9 \\\\u0399\\\\u03bf\\\\u03c5\\\\u03bb\\\\u03b9\\\\u03ad\\\\u03c4\\\\u03b1\", \"date_query\": \"15/11\"}'}}, response_metadata={'prompt_feedback': {'block_reason': 0, 'safety_ratings': []}, 'finish_reason': 'STOP', 'model_name': 'gemini-2.0-flash', 'safety_ratings': []}, id='run--bddc5a6b-878e-42de-8c4c-f6b40f7dc409-0', tool_calls=[{'name': 'GetShowInfoParameters', 'args': {'show_name': 'Ρωμαίος και Ιουλιέτα', 'date_query': '15/11'}, 'id': '174c75aa-51d4-4dc5-8458-65cf0ace1555', 'type': 'tool_call'}], usage_metadata={'input_tokens': 4784, 'output_tokens': 24, 'total_tokens': 4808, 'input_token_details': {'cache_read': 0}}), HumanMessage(content='11/15', additional_kwargs={}, response_metadata={}), AIMessage(content='', additional_kwargs={'function_call': {'name': 'GetShowInfoParameters', 'arguments': '{\"show_name\": \"\\\\u03a1\\\\u03c9\\\\u03bc\\\\u03b1\\\\u03af\\\\u03bf\\\\u03c2 \\\\u03ba\\\\u03b1\\\\u03b9 \\\\u0399\\\\u03bf\\\\u03c5\\\\u03bb\\\\u03b9\\\\u03ad\\\\u03c4\\\\u03b1\", \"date_query\": \"11/15\"}'}}, response_metadata={'prompt_feedback': {'block_reason': 0, 'safety_ratings': []}, 'finish_reason': 'STOP', 'model_name': 'gemini-2.0-flash', 'safety_ratings': []}, id='run--1be3f1ef-b3a2-4b47-8e55-c86f48f37778-0', tool_calls=[{'name': 'GetShowInfoParameters', 'args': {'show_name': 'Ρωμαίος και Ιουλιέτα', 'date_query': '11/15'}, 'id': 'a487f8f4-c5ad-4661-bc15-c5138c8113e8', 'type': 'tool_call'}], usage_metadata={'input_tokens': 4803, 'output_tokens': 24, 'total_tokens': 4827, 'input_token_details': {'cache_read': 0}}), HumanMessage(content='Θέλω να κάνω μια κράτηση', additional_kwargs={}, response_metadata={}), AIMessage(content='Για ποια παράσταση θα θέλατε να κάνετε κράτηση;', additional_kwargs={}, response_metadata={'prompt_feedback': {'block_reason': 0, 'safety_ratings': []}, 'finish_reason': 'STOP', 'model_name': 'gemini-2.0-flash', 'safety_ratings': []}, id='run--8b4baf19-3fa9-4cd5-808b-aed0c1a42b56-0', usage_metadata={'input_tokens': 4735, 'output_tokens': 17, 'total_tokens': 4752, 'input_token_details': {'cache_read': 0}}), HumanMessage(content='Άμλετ', additional_kwargs={}, response_metadata={}), AIMessage(content='', additional_kwargs={'function_call': {'name': 'GetShowInfoParameters', 'arguments': '{\"show_name\": \"\\\\u0386\\\\u03bc\\\\u03bb\\\\u03b5\\\\u03c4\"}'}}, response_metadata={'prompt_feedback': {'block_reason': 0, 'safety_ratings': []}, 'finish_reason': 'STOP', 'model_name': 'gemini-2.0-flash', 'safety_ratings': []}, id='run--bd987f30-dbce-45d0-bdd0-2e8b2eb282c7-0', tool_calls=[{'name': 'GetShowInfoParameters', 'args': {'show_name': 'Άμλετ'}, 'id': '1e4f2ef2-3e40-4b02-9b43-10b182e40b18', 'type': 'tool_call'}], usage_metadata={'input_tokens': 4518, 'output_tokens': 11, 'total_tokens': 4529, 'input_token_details': {'cache_read': 0}})]\n"
     ]
    },
    {
     "name": "stderr",
     "output_type": "stream",
     "text": [
      "/usr/local/lib/python3.11/dist-packages/langchain_google_genai/chat_models.py:424: UserWarning: Convert_system_message_to_human will be deprecated!\n",
      "  warnings.warn(\"Convert_system_message_to_human will be deprecated!\")\n"
     ]
    },
    {
     "name": "stdout",
     "output_type": "stream",
     "text": [
      "Εισερχόμενο για session my_test_session_123: Για τον Άμλετ\n",
      "Τρέχον ιστορικό για session my_test_session_123 (πριν την κλήση): [HumanMessage(content='Ρωμαίος', additional_kwargs={}, response_metadata={}), AIMessage(content='Για ποια παράσταση θα θέλατε να κάνετε κράτηση;', additional_kwargs={}, response_metadata={'prompt_feedback': {'block_reason': 0, 'safety_ratings': []}, 'finish_reason': 'STOP', 'model_name': 'gemini-2.0-flash', 'safety_ratings': []}, id='run--d2989b7b-2248-46a7-a94f-69e1200e8ffe-0', usage_metadata={'input_tokens': 5136, 'output_tokens': 16, 'total_tokens': 5152, 'input_token_details': {'cache_read': 0}}), HumanMessage(content='Ρωμαίος και Ιουλιέτα', additional_kwargs={}, response_metadata={}), AIMessage(content='', additional_kwargs={'function_call': {'name': 'GetShowInfoParameters', 'arguments': '{\"show_name\": \"\\\\u03a1\\\\u03c9\\\\u03bc\\\\u03b1\\\\u03af\\\\u03bf\\\\u03c2 \\\\u03ba\\\\u03b1\\\\u03b9 \\\\u0399\\\\u03bf\\\\u03c5\\\\u03bb\\\\u03b9\\\\u03ad\\\\u03c4\\\\u03b1\"}'}}, response_metadata={'prompt_feedback': {'block_reason': 0, 'safety_ratings': []}, 'finish_reason': 'STOP', 'model_name': 'gemini-2.0-flash', 'safety_ratings': []}, id='run--baa37e05-7371-4c39-9297-890a2beb8ffe-0', tool_calls=[{'name': 'GetShowInfoParameters', 'args': {'show_name': 'Ρωμαίος και Ιουλιέτα'}, 'id': '3891af90-eee8-42f2-aab4-365d2e4e056c', 'type': 'tool_call'}], usage_metadata={'input_tokens': 4873, 'output_tokens': 16, 'total_tokens': 4889, 'input_token_details': {'cache_read': 0}}), HumanMessage(content='15/11', additional_kwargs={}, response_metadata={}), AIMessage(content='', additional_kwargs={'function_call': {'name': 'GetShowInfoParameters', 'arguments': '{\"show_name\": \"\\\\u03a1\\\\u03c9\\\\u03bc\\\\u03b1\\\\u03af\\\\u03bf\\\\u03c2 \\\\u03ba\\\\u03b1\\\\u03b9 \\\\u0399\\\\u03bf\\\\u03c5\\\\u03bb\\\\u03b9\\\\u03ad\\\\u03c4\\\\u03b1\", \"date_query\": \"15/11\"}'}}, response_metadata={'prompt_feedback': {'block_reason': 0, 'safety_ratings': []}, 'finish_reason': 'STOP', 'model_name': 'gemini-2.0-flash', 'safety_ratings': []}, id='run--bddc5a6b-878e-42de-8c4c-f6b40f7dc409-0', tool_calls=[{'name': 'GetShowInfoParameters', 'args': {'show_name': 'Ρωμαίος και Ιουλιέτα', 'date_query': '15/11'}, 'id': '174c75aa-51d4-4dc5-8458-65cf0ace1555', 'type': 'tool_call'}], usage_metadata={'input_tokens': 4784, 'output_tokens': 24, 'total_tokens': 4808, 'input_token_details': {'cache_read': 0}}), HumanMessage(content='11/15', additional_kwargs={}, response_metadata={}), AIMessage(content='', additional_kwargs={'function_call': {'name': 'GetShowInfoParameters', 'arguments': '{\"show_name\": \"\\\\u03a1\\\\u03c9\\\\u03bc\\\\u03b1\\\\u03af\\\\u03bf\\\\u03c2 \\\\u03ba\\\\u03b1\\\\u03b9 \\\\u0399\\\\u03bf\\\\u03c5\\\\u03bb\\\\u03b9\\\\u03ad\\\\u03c4\\\\u03b1\", \"date_query\": \"11/15\"}'}}, response_metadata={'prompt_feedback': {'block_reason': 0, 'safety_ratings': []}, 'finish_reason': 'STOP', 'model_name': 'gemini-2.0-flash', 'safety_ratings': []}, id='run--1be3f1ef-b3a2-4b47-8e55-c86f48f37778-0', tool_calls=[{'name': 'GetShowInfoParameters', 'args': {'show_name': 'Ρωμαίος και Ιουλιέτα', 'date_query': '11/15'}, 'id': 'a487f8f4-c5ad-4661-bc15-c5138c8113e8', 'type': 'tool_call'}], usage_metadata={'input_tokens': 4803, 'output_tokens': 24, 'total_tokens': 4827, 'input_token_details': {'cache_read': 0}}), HumanMessage(content='Θέλω να κάνω μια κράτηση', additional_kwargs={}, response_metadata={}), AIMessage(content='Για ποια παράσταση θα θέλατε να κάνετε κράτηση;', additional_kwargs={}, response_metadata={'prompt_feedback': {'block_reason': 0, 'safety_ratings': []}, 'finish_reason': 'STOP', 'model_name': 'gemini-2.0-flash', 'safety_ratings': []}, id='run--8b4baf19-3fa9-4cd5-808b-aed0c1a42b56-0', usage_metadata={'input_tokens': 4735, 'output_tokens': 17, 'total_tokens': 4752, 'input_token_details': {'cache_read': 0}}), HumanMessage(content='Άμλετ', additional_kwargs={}, response_metadata={}), AIMessage(content='', additional_kwargs={'function_call': {'name': 'GetShowInfoParameters', 'arguments': '{\"show_name\": \"\\\\u0386\\\\u03bc\\\\u03bb\\\\u03b5\\\\u03c4\"}'}}, response_metadata={'prompt_feedback': {'block_reason': 0, 'safety_ratings': []}, 'finish_reason': 'STOP', 'model_name': 'gemini-2.0-flash', 'safety_ratings': []}, id='run--bd987f30-dbce-45d0-bdd0-2e8b2eb282c7-0', tool_calls=[{'name': 'GetShowInfoParameters', 'args': {'show_name': 'Άμλετ'}, 'id': '1e4f2ef2-3e40-4b02-9b43-10b182e40b18', 'type': 'tool_call'}], usage_metadata={'input_tokens': 4518, 'output_tokens': 11, 'total_tokens': 4529, 'input_token_details': {'cache_read': 0}}), HumanMessage(content='Θέλω να κλείσω ένα εισιτήριο', additional_kwargs={}, response_metadata={}), AIMessage(content='Για ποια παράσταση θα θέλατε να κλείσετε εισιτήριο;', additional_kwargs={}, response_metadata={'prompt_feedback': {'block_reason': 0, 'safety_ratings': []}, 'finish_reason': 'STOP', 'model_name': 'gemini-2.0-flash', 'safety_ratings': []}, id='run--85fe0360-7343-4bc1-9289-82b9fe6b3cf0-0', usage_metadata={'input_tokens': 4641, 'output_tokens': 18, 'total_tokens': 4659, 'input_token_details': {'cache_read': 0}})]\n"
     ]
    },
    {
     "name": "stderr",
     "output_type": "stream",
     "text": [
      "/usr/local/lib/python3.11/dist-packages/langchain_google_genai/chat_models.py:424: UserWarning: Convert_system_message_to_human will be deprecated!\n",
      "  warnings.warn(\"Convert_system_message_to_human will be deprecated!\")\n"
     ]
    },
    {
     "name": "stdout",
     "output_type": "stream",
     "text": [
      "Εισερχόμενο για session my_test_session_123: Για παρασκευή 15/11\n",
      "Τρέχον ιστορικό για session my_test_session_123 (πριν την κλήση): [HumanMessage(content='Ρωμαίος και Ιουλιέτα', additional_kwargs={}, response_metadata={}), AIMessage(content='', additional_kwargs={'function_call': {'name': 'GetShowInfoParameters', 'arguments': '{\"show_name\": \"\\\\u03a1\\\\u03c9\\\\u03bc\\\\u03b1\\\\u03af\\\\u03bf\\\\u03c2 \\\\u03ba\\\\u03b1\\\\u03b9 \\\\u0399\\\\u03bf\\\\u03c5\\\\u03bb\\\\u03b9\\\\u03ad\\\\u03c4\\\\u03b1\"}'}}, response_metadata={'prompt_feedback': {'block_reason': 0, 'safety_ratings': []}, 'finish_reason': 'STOP', 'model_name': 'gemini-2.0-flash', 'safety_ratings': []}, id='run--baa37e05-7371-4c39-9297-890a2beb8ffe-0', tool_calls=[{'name': 'GetShowInfoParameters', 'args': {'show_name': 'Ρωμαίος και Ιουλιέτα'}, 'id': '3891af90-eee8-42f2-aab4-365d2e4e056c', 'type': 'tool_call'}], usage_metadata={'input_tokens': 4873, 'output_tokens': 16, 'total_tokens': 4889, 'input_token_details': {'cache_read': 0}}), HumanMessage(content='15/11', additional_kwargs={}, response_metadata={}), AIMessage(content='', additional_kwargs={'function_call': {'name': 'GetShowInfoParameters', 'arguments': '{\"show_name\": \"\\\\u03a1\\\\u03c9\\\\u03bc\\\\u03b1\\\\u03af\\\\u03bf\\\\u03c2 \\\\u03ba\\\\u03b1\\\\u03b9 \\\\u0399\\\\u03bf\\\\u03c5\\\\u03bb\\\\u03b9\\\\u03ad\\\\u03c4\\\\u03b1\", \"date_query\": \"15/11\"}'}}, response_metadata={'prompt_feedback': {'block_reason': 0, 'safety_ratings': []}, 'finish_reason': 'STOP', 'model_name': 'gemini-2.0-flash', 'safety_ratings': []}, id='run--bddc5a6b-878e-42de-8c4c-f6b40f7dc409-0', tool_calls=[{'name': 'GetShowInfoParameters', 'args': {'show_name': 'Ρωμαίος και Ιουλιέτα', 'date_query': '15/11'}, 'id': '174c75aa-51d4-4dc5-8458-65cf0ace1555', 'type': 'tool_call'}], usage_metadata={'input_tokens': 4784, 'output_tokens': 24, 'total_tokens': 4808, 'input_token_details': {'cache_read': 0}}), HumanMessage(content='11/15', additional_kwargs={}, response_metadata={}), AIMessage(content='', additional_kwargs={'function_call': {'name': 'GetShowInfoParameters', 'arguments': '{\"show_name\": \"\\\\u03a1\\\\u03c9\\\\u03bc\\\\u03b1\\\\u03af\\\\u03bf\\\\u03c2 \\\\u03ba\\\\u03b1\\\\u03b9 \\\\u0399\\\\u03bf\\\\u03c5\\\\u03bb\\\\u03b9\\\\u03ad\\\\u03c4\\\\u03b1\", \"date_query\": \"11/15\"}'}}, response_metadata={'prompt_feedback': {'block_reason': 0, 'safety_ratings': []}, 'finish_reason': 'STOP', 'model_name': 'gemini-2.0-flash', 'safety_ratings': []}, id='run--1be3f1ef-b3a2-4b47-8e55-c86f48f37778-0', tool_calls=[{'name': 'GetShowInfoParameters', 'args': {'show_name': 'Ρωμαίος και Ιουλιέτα', 'date_query': '11/15'}, 'id': 'a487f8f4-c5ad-4661-bc15-c5138c8113e8', 'type': 'tool_call'}], usage_metadata={'input_tokens': 4803, 'output_tokens': 24, 'total_tokens': 4827, 'input_token_details': {'cache_read': 0}}), HumanMessage(content='Θέλω να κάνω μια κράτηση', additional_kwargs={}, response_metadata={}), AIMessage(content='Για ποια παράσταση θα θέλατε να κάνετε κράτηση;', additional_kwargs={}, response_metadata={'prompt_feedback': {'block_reason': 0, 'safety_ratings': []}, 'finish_reason': 'STOP', 'model_name': 'gemini-2.0-flash', 'safety_ratings': []}, id='run--8b4baf19-3fa9-4cd5-808b-aed0c1a42b56-0', usage_metadata={'input_tokens': 4735, 'output_tokens': 17, 'total_tokens': 4752, 'input_token_details': {'cache_read': 0}}), HumanMessage(content='Άμλετ', additional_kwargs={}, response_metadata={}), AIMessage(content='', additional_kwargs={'function_call': {'name': 'GetShowInfoParameters', 'arguments': '{\"show_name\": \"\\\\u0386\\\\u03bc\\\\u03bb\\\\u03b5\\\\u03c4\"}'}}, response_metadata={'prompt_feedback': {'block_reason': 0, 'safety_ratings': []}, 'finish_reason': 'STOP', 'model_name': 'gemini-2.0-flash', 'safety_ratings': []}, id='run--bd987f30-dbce-45d0-bdd0-2e8b2eb282c7-0', tool_calls=[{'name': 'GetShowInfoParameters', 'args': {'show_name': 'Άμλετ'}, 'id': '1e4f2ef2-3e40-4b02-9b43-10b182e40b18', 'type': 'tool_call'}], usage_metadata={'input_tokens': 4518, 'output_tokens': 11, 'total_tokens': 4529, 'input_token_details': {'cache_read': 0}}), HumanMessage(content='Θέλω να κλείσω ένα εισιτήριο', additional_kwargs={}, response_metadata={}), AIMessage(content='Για ποια παράσταση θα θέλατε να κλείσετε εισιτήριο;', additional_kwargs={}, response_metadata={'prompt_feedback': {'block_reason': 0, 'safety_ratings': []}, 'finish_reason': 'STOP', 'model_name': 'gemini-2.0-flash', 'safety_ratings': []}, id='run--85fe0360-7343-4bc1-9289-82b9fe6b3cf0-0', usage_metadata={'input_tokens': 4641, 'output_tokens': 18, 'total_tokens': 4659, 'input_token_details': {'cache_read': 0}}), HumanMessage(content='Για τον Άμλετ', additional_kwargs={}, response_metadata={}), AIMessage(content='Πότε θα θέλατε να κλείσετε το εισιτήριο για τον Άμλετ;', additional_kwargs={}, response_metadata={'prompt_feedback': {'block_reason': 0, 'safety_ratings': []}, 'finish_reason': 'STOP', 'model_name': 'gemini-2.0-flash', 'safety_ratings': []}, id='run--b274267e-7408-4fa9-8ffb-e809676e623f-0', usage_metadata={'input_tokens': 4641, 'output_tokens': 22, 'total_tokens': 4663, 'input_token_details': {'cache_read': 0}})]\n"
     ]
    },
    {
     "name": "stderr",
     "output_type": "stream",
     "text": [
      "/usr/local/lib/python3.11/dist-packages/langchain_google_genai/chat_models.py:424: UserWarning: Convert_system_message_to_human will be deprecated!\n",
      "  warnings.warn(\"Convert_system_message_to_human will be deprecated!\")\n"
     ]
    },
    {
     "name": "stdout",
     "output_type": "stream",
     "text": [
      "Εισερχόμενο για session my_test_session_123: Ναι\n",
      "Τρέχον ιστορικό για session my_test_session_123 (πριν την κλήση): [HumanMessage(content='15/11', additional_kwargs={}, response_metadata={}), AIMessage(content='', additional_kwargs={'function_call': {'name': 'GetShowInfoParameters', 'arguments': '{\"show_name\": \"\\\\u03a1\\\\u03c9\\\\u03bc\\\\u03b1\\\\u03af\\\\u03bf\\\\u03c2 \\\\u03ba\\\\u03b1\\\\u03b9 \\\\u0399\\\\u03bf\\\\u03c5\\\\u03bb\\\\u03b9\\\\u03ad\\\\u03c4\\\\u03b1\", \"date_query\": \"15/11\"}'}}, response_metadata={'prompt_feedback': {'block_reason': 0, 'safety_ratings': []}, 'finish_reason': 'STOP', 'model_name': 'gemini-2.0-flash', 'safety_ratings': []}, id='run--bddc5a6b-878e-42de-8c4c-f6b40f7dc409-0', tool_calls=[{'name': 'GetShowInfoParameters', 'args': {'show_name': 'Ρωμαίος και Ιουλιέτα', 'date_query': '15/11'}, 'id': '174c75aa-51d4-4dc5-8458-65cf0ace1555', 'type': 'tool_call'}], usage_metadata={'input_tokens': 4784, 'output_tokens': 24, 'total_tokens': 4808, 'input_token_details': {'cache_read': 0}}), HumanMessage(content='11/15', additional_kwargs={}, response_metadata={}), AIMessage(content='', additional_kwargs={'function_call': {'name': 'GetShowInfoParameters', 'arguments': '{\"show_name\": \"\\\\u03a1\\\\u03c9\\\\u03bc\\\\u03b1\\\\u03af\\\\u03bf\\\\u03c2 \\\\u03ba\\\\u03b1\\\\u03b9 \\\\u0399\\\\u03bf\\\\u03c5\\\\u03bb\\\\u03b9\\\\u03ad\\\\u03c4\\\\u03b1\", \"date_query\": \"11/15\"}'}}, response_metadata={'prompt_feedback': {'block_reason': 0, 'safety_ratings': []}, 'finish_reason': 'STOP', 'model_name': 'gemini-2.0-flash', 'safety_ratings': []}, id='run--1be3f1ef-b3a2-4b47-8e55-c86f48f37778-0', tool_calls=[{'name': 'GetShowInfoParameters', 'args': {'show_name': 'Ρωμαίος και Ιουλιέτα', 'date_query': '11/15'}, 'id': 'a487f8f4-c5ad-4661-bc15-c5138c8113e8', 'type': 'tool_call'}], usage_metadata={'input_tokens': 4803, 'output_tokens': 24, 'total_tokens': 4827, 'input_token_details': {'cache_read': 0}}), HumanMessage(content='Θέλω να κάνω μια κράτηση', additional_kwargs={}, response_metadata={}), AIMessage(content='Για ποια παράσταση θα θέλατε να κάνετε κράτηση;', additional_kwargs={}, response_metadata={'prompt_feedback': {'block_reason': 0, 'safety_ratings': []}, 'finish_reason': 'STOP', 'model_name': 'gemini-2.0-flash', 'safety_ratings': []}, id='run--8b4baf19-3fa9-4cd5-808b-aed0c1a42b56-0', usage_metadata={'input_tokens': 4735, 'output_tokens': 17, 'total_tokens': 4752, 'input_token_details': {'cache_read': 0}}), HumanMessage(content='Άμλετ', additional_kwargs={}, response_metadata={}), AIMessage(content='', additional_kwargs={'function_call': {'name': 'GetShowInfoParameters', 'arguments': '{\"show_name\": \"\\\\u0386\\\\u03bc\\\\u03bb\\\\u03b5\\\\u03c4\"}'}}, response_metadata={'prompt_feedback': {'block_reason': 0, 'safety_ratings': []}, 'finish_reason': 'STOP', 'model_name': 'gemini-2.0-flash', 'safety_ratings': []}, id='run--bd987f30-dbce-45d0-bdd0-2e8b2eb282c7-0', tool_calls=[{'name': 'GetShowInfoParameters', 'args': {'show_name': 'Άμλετ'}, 'id': '1e4f2ef2-3e40-4b02-9b43-10b182e40b18', 'type': 'tool_call'}], usage_metadata={'input_tokens': 4518, 'output_tokens': 11, 'total_tokens': 4529, 'input_token_details': {'cache_read': 0}}), HumanMessage(content='Θέλω να κλείσω ένα εισιτήριο', additional_kwargs={}, response_metadata={}), AIMessage(content='Για ποια παράσταση θα θέλατε να κλείσετε εισιτήριο;', additional_kwargs={}, response_metadata={'prompt_feedback': {'block_reason': 0, 'safety_ratings': []}, 'finish_reason': 'STOP', 'model_name': 'gemini-2.0-flash', 'safety_ratings': []}, id='run--85fe0360-7343-4bc1-9289-82b9fe6b3cf0-0', usage_metadata={'input_tokens': 4641, 'output_tokens': 18, 'total_tokens': 4659, 'input_token_details': {'cache_read': 0}}), HumanMessage(content='Για τον Άμλετ', additional_kwargs={}, response_metadata={}), AIMessage(content='Πότε θα θέλατε να κλείσετε το εισιτήριο για τον Άμλετ;', additional_kwargs={}, response_metadata={'prompt_feedback': {'block_reason': 0, 'safety_ratings': []}, 'finish_reason': 'STOP', 'model_name': 'gemini-2.0-flash', 'safety_ratings': []}, id='run--b274267e-7408-4fa9-8ffb-e809676e623f-0', usage_metadata={'input_tokens': 4641, 'output_tokens': 22, 'total_tokens': 4663, 'input_token_details': {'cache_read': 0}}), HumanMessage(content='Για παρασκευή 15/11', additional_kwargs={}, response_metadata={}), AIMessage(content='Δεν υπάρχει Παρασκευή 15/11 για την παράσταση Άμλετ. Υπάρχει Σάββατο 15/11 στις 18:00. Θα θέλατε να κλείσετε για αυτή την ημερομηνία;', additional_kwargs={}, response_metadata={'prompt_feedback': {'block_reason': 0, 'safety_ratings': []}, 'finish_reason': 'STOP', 'model_name': 'gemini-2.0-flash', 'safety_ratings': []}, id='run--27d34f70-5b0b-4f1f-9cfb-7b921623eed8-0', usage_metadata={'input_tokens': 4654, 'output_tokens': 63, 'total_tokens': 4717, 'input_token_details': {'cache_read': 0}})]\n"
     ]
    },
    {
     "name": "stderr",
     "output_type": "stream",
     "text": [
      "/usr/local/lib/python3.11/dist-packages/langchain_google_genai/chat_models.py:424: UserWarning: Convert_system_message_to_human will be deprecated!\n",
      "  warnings.warn(\"Convert_system_message_to_human will be deprecated!\")\n"
     ]
    },
    {
     "name": "stdout",
     "output_type": "stream",
     "text": [
      "Εισερχόμενο για session my_test_session_123: 1\n",
      "Τρέχον ιστορικό για session my_test_session_123 (πριν την κλήση): [HumanMessage(content='11/15', additional_kwargs={}, response_metadata={}), AIMessage(content='', additional_kwargs={'function_call': {'name': 'GetShowInfoParameters', 'arguments': '{\"show_name\": \"\\\\u03a1\\\\u03c9\\\\u03bc\\\\u03b1\\\\u03af\\\\u03bf\\\\u03c2 \\\\u03ba\\\\u03b1\\\\u03b9 \\\\u0399\\\\u03bf\\\\u03c5\\\\u03bb\\\\u03b9\\\\u03ad\\\\u03c4\\\\u03b1\", \"date_query\": \"11/15\"}'}}, response_metadata={'prompt_feedback': {'block_reason': 0, 'safety_ratings': []}, 'finish_reason': 'STOP', 'model_name': 'gemini-2.0-flash', 'safety_ratings': []}, id='run--1be3f1ef-b3a2-4b47-8e55-c86f48f37778-0', tool_calls=[{'name': 'GetShowInfoParameters', 'args': {'show_name': 'Ρωμαίος και Ιουλιέτα', 'date_query': '11/15'}, 'id': 'a487f8f4-c5ad-4661-bc15-c5138c8113e8', 'type': 'tool_call'}], usage_metadata={'input_tokens': 4803, 'output_tokens': 24, 'total_tokens': 4827, 'input_token_details': {'cache_read': 0}}), HumanMessage(content='Θέλω να κάνω μια κράτηση', additional_kwargs={}, response_metadata={}), AIMessage(content='Για ποια παράσταση θα θέλατε να κάνετε κράτηση;', additional_kwargs={}, response_metadata={'prompt_feedback': {'block_reason': 0, 'safety_ratings': []}, 'finish_reason': 'STOP', 'model_name': 'gemini-2.0-flash', 'safety_ratings': []}, id='run--8b4baf19-3fa9-4cd5-808b-aed0c1a42b56-0', usage_metadata={'input_tokens': 4735, 'output_tokens': 17, 'total_tokens': 4752, 'input_token_details': {'cache_read': 0}}), HumanMessage(content='Άμλετ', additional_kwargs={}, response_metadata={}), AIMessage(content='', additional_kwargs={'function_call': {'name': 'GetShowInfoParameters', 'arguments': '{\"show_name\": \"\\\\u0386\\\\u03bc\\\\u03bb\\\\u03b5\\\\u03c4\"}'}}, response_metadata={'prompt_feedback': {'block_reason': 0, 'safety_ratings': []}, 'finish_reason': 'STOP', 'model_name': 'gemini-2.0-flash', 'safety_ratings': []}, id='run--bd987f30-dbce-45d0-bdd0-2e8b2eb282c7-0', tool_calls=[{'name': 'GetShowInfoParameters', 'args': {'show_name': 'Άμλετ'}, 'id': '1e4f2ef2-3e40-4b02-9b43-10b182e40b18', 'type': 'tool_call'}], usage_metadata={'input_tokens': 4518, 'output_tokens': 11, 'total_tokens': 4529, 'input_token_details': {'cache_read': 0}}), HumanMessage(content='Θέλω να κλείσω ένα εισιτήριο', additional_kwargs={}, response_metadata={}), AIMessage(content='Για ποια παράσταση θα θέλατε να κλείσετε εισιτήριο;', additional_kwargs={}, response_metadata={'prompt_feedback': {'block_reason': 0, 'safety_ratings': []}, 'finish_reason': 'STOP', 'model_name': 'gemini-2.0-flash', 'safety_ratings': []}, id='run--85fe0360-7343-4bc1-9289-82b9fe6b3cf0-0', usage_metadata={'input_tokens': 4641, 'output_tokens': 18, 'total_tokens': 4659, 'input_token_details': {'cache_read': 0}}), HumanMessage(content='Για τον Άμλετ', additional_kwargs={}, response_metadata={}), AIMessage(content='Πότε θα θέλατε να κλείσετε το εισιτήριο για τον Άμλετ;', additional_kwargs={}, response_metadata={'prompt_feedback': {'block_reason': 0, 'safety_ratings': []}, 'finish_reason': 'STOP', 'model_name': 'gemini-2.0-flash', 'safety_ratings': []}, id='run--b274267e-7408-4fa9-8ffb-e809676e623f-0', usage_metadata={'input_tokens': 4641, 'output_tokens': 22, 'total_tokens': 4663, 'input_token_details': {'cache_read': 0}}), HumanMessage(content='Για παρασκευή 15/11', additional_kwargs={}, response_metadata={}), AIMessage(content='Δεν υπάρχει Παρασκευή 15/11 για την παράσταση Άμλετ. Υπάρχει Σάββατο 15/11 στις 18:00. Θα θέλατε να κλείσετε για αυτή την ημερομηνία;', additional_kwargs={}, response_metadata={'prompt_feedback': {'block_reason': 0, 'safety_ratings': []}, 'finish_reason': 'STOP', 'model_name': 'gemini-2.0-flash', 'safety_ratings': []}, id='run--27d34f70-5b0b-4f1f-9cfb-7b921623eed8-0', usage_metadata={'input_tokens': 4654, 'output_tokens': 63, 'total_tokens': 4717, 'input_token_details': {'cache_read': 0}}), HumanMessage(content='Ναι', additional_kwargs={}, response_metadata={}), AIMessage(content='Πόσα εισιτήρια θα θέλατε να κλείσετε για το Σάββατο 15/11 στις 18:00;', additional_kwargs={}, response_metadata={'prompt_feedback': {'block_reason': 0, 'safety_ratings': []}, 'finish_reason': 'STOP', 'model_name': 'gemini-2.0-flash', 'safety_ratings': []}, id='run--dbe62a96-ffa0-4700-94f7-cd2182224df8-0', usage_metadata={'input_tokens': 4510, 'output_tokens': 37, 'total_tokens': 4547, 'input_token_details': {'cache_read': 0}})]\n"
     ]
    },
    {
     "name": "stderr",
     "output_type": "stream",
     "text": [
      "/usr/local/lib/python3.11/dist-packages/langchain_google_genai/chat_models.py:424: UserWarning: Convert_system_message_to_human will be deprecated!\n",
      "  warnings.warn(\"Convert_system_message_to_human will be deprecated!\")\n"
     ]
    },
    {
     "name": "stdout",
     "output_type": "stream",
     "text": [
      "Εισερχόμενο για session my_test_session_123: Τι άλλο χρειάζεται;\n",
      "Τρέχον ιστορικό για session my_test_session_123 (πριν την κλήση): [HumanMessage(content='Θέλω να κάνω μια κράτηση', additional_kwargs={}, response_metadata={}), AIMessage(content='Για ποια παράσταση θα θέλατε να κάνετε κράτηση;', additional_kwargs={}, response_metadata={'prompt_feedback': {'block_reason': 0, 'safety_ratings': []}, 'finish_reason': 'STOP', 'model_name': 'gemini-2.0-flash', 'safety_ratings': []}, id='run--8b4baf19-3fa9-4cd5-808b-aed0c1a42b56-0', usage_metadata={'input_tokens': 4735, 'output_tokens': 17, 'total_tokens': 4752, 'input_token_details': {'cache_read': 0}}), HumanMessage(content='Άμλετ', additional_kwargs={}, response_metadata={}), AIMessage(content='', additional_kwargs={'function_call': {'name': 'GetShowInfoParameters', 'arguments': '{\"show_name\": \"\\\\u0386\\\\u03bc\\\\u03bb\\\\u03b5\\\\u03c4\"}'}}, response_metadata={'prompt_feedback': {'block_reason': 0, 'safety_ratings': []}, 'finish_reason': 'STOP', 'model_name': 'gemini-2.0-flash', 'safety_ratings': []}, id='run--bd987f30-dbce-45d0-bdd0-2e8b2eb282c7-0', tool_calls=[{'name': 'GetShowInfoParameters', 'args': {'show_name': 'Άμλετ'}, 'id': '1e4f2ef2-3e40-4b02-9b43-10b182e40b18', 'type': 'tool_call'}], usage_metadata={'input_tokens': 4518, 'output_tokens': 11, 'total_tokens': 4529, 'input_token_details': {'cache_read': 0}}), HumanMessage(content='Θέλω να κλείσω ένα εισιτήριο', additional_kwargs={}, response_metadata={}), AIMessage(content='Για ποια παράσταση θα θέλατε να κλείσετε εισιτήριο;', additional_kwargs={}, response_metadata={'prompt_feedback': {'block_reason': 0, 'safety_ratings': []}, 'finish_reason': 'STOP', 'model_name': 'gemini-2.0-flash', 'safety_ratings': []}, id='run--85fe0360-7343-4bc1-9289-82b9fe6b3cf0-0', usage_metadata={'input_tokens': 4641, 'output_tokens': 18, 'total_tokens': 4659, 'input_token_details': {'cache_read': 0}}), HumanMessage(content='Για τον Άμλετ', additional_kwargs={}, response_metadata={}), AIMessage(content='Πότε θα θέλατε να κλείσετε το εισιτήριο για τον Άμλετ;', additional_kwargs={}, response_metadata={'prompt_feedback': {'block_reason': 0, 'safety_ratings': []}, 'finish_reason': 'STOP', 'model_name': 'gemini-2.0-flash', 'safety_ratings': []}, id='run--b274267e-7408-4fa9-8ffb-e809676e623f-0', usage_metadata={'input_tokens': 4641, 'output_tokens': 22, 'total_tokens': 4663, 'input_token_details': {'cache_read': 0}}), HumanMessage(content='Για παρασκευή 15/11', additional_kwargs={}, response_metadata={}), AIMessage(content='Δεν υπάρχει Παρασκευή 15/11 για την παράσταση Άμλετ. Υπάρχει Σάββατο 15/11 στις 18:00. Θα θέλατε να κλείσετε για αυτή την ημερομηνία;', additional_kwargs={}, response_metadata={'prompt_feedback': {'block_reason': 0, 'safety_ratings': []}, 'finish_reason': 'STOP', 'model_name': 'gemini-2.0-flash', 'safety_ratings': []}, id='run--27d34f70-5b0b-4f1f-9cfb-7b921623eed8-0', usage_metadata={'input_tokens': 4654, 'output_tokens': 63, 'total_tokens': 4717, 'input_token_details': {'cache_read': 0}}), HumanMessage(content='Ναι', additional_kwargs={}, response_metadata={}), AIMessage(content='Πόσα εισιτήρια θα θέλατε να κλείσετε για το Σάββατο 15/11 στις 18:00;', additional_kwargs={}, response_metadata={'prompt_feedback': {'block_reason': 0, 'safety_ratings': []}, 'finish_reason': 'STOP', 'model_name': 'gemini-2.0-flash', 'safety_ratings': []}, id='run--dbe62a96-ffa0-4700-94f7-cd2182224df8-0', usage_metadata={'input_tokens': 4510, 'output_tokens': 37, 'total_tokens': 4547, 'input_token_details': {'cache_read': 0}}), HumanMessage(content='1', additional_kwargs={}, response_metadata={}), AIMessage(content='Ένα.', additional_kwargs={}, response_metadata={'prompt_feedback': {'block_reason': 0, 'safety_ratings': []}, 'finish_reason': 'STOP', 'model_name': 'gemini-2.0-flash', 'safety_ratings': []}, id='run--daa82673-580a-4260-9fd6-94dc3104407f-0', usage_metadata={'input_tokens': 4314, 'output_tokens': 3, 'total_tokens': 4317, 'input_token_details': {'cache_read': 0}})]\n"
     ]
    },
    {
     "name": "stderr",
     "output_type": "stream",
     "text": [
      "/usr/local/lib/python3.11/dist-packages/langchain_google_genai/chat_models.py:424: UserWarning: Convert_system_message_to_human will be deprecated!\n",
      "  warnings.warn(\"Convert_system_message_to_human will be deprecated!\")\n"
     ]
    },
    {
     "name": "stdout",
     "output_type": "stream",
     "text": [
      "Εισερχόμενο για session my_test_session_123: Χάρης Ταράτσας\n",
      "Τρέχον ιστορικό για session my_test_session_123 (πριν την κλήση): [HumanMessage(content='Άμλετ', additional_kwargs={}, response_metadata={}), AIMessage(content='', additional_kwargs={'function_call': {'name': 'GetShowInfoParameters', 'arguments': '{\"show_name\": \"\\\\u0386\\\\u03bc\\\\u03bb\\\\u03b5\\\\u03c4\"}'}}, response_metadata={'prompt_feedback': {'block_reason': 0, 'safety_ratings': []}, 'finish_reason': 'STOP', 'model_name': 'gemini-2.0-flash', 'safety_ratings': []}, id='run--bd987f30-dbce-45d0-bdd0-2e8b2eb282c7-0', tool_calls=[{'name': 'GetShowInfoParameters', 'args': {'show_name': 'Άμλετ'}, 'id': '1e4f2ef2-3e40-4b02-9b43-10b182e40b18', 'type': 'tool_call'}], usage_metadata={'input_tokens': 4518, 'output_tokens': 11, 'total_tokens': 4529, 'input_token_details': {'cache_read': 0}}), HumanMessage(content='Θέλω να κλείσω ένα εισιτήριο', additional_kwargs={}, response_metadata={}), AIMessage(content='Για ποια παράσταση θα θέλατε να κλείσετε εισιτήριο;', additional_kwargs={}, response_metadata={'prompt_feedback': {'block_reason': 0, 'safety_ratings': []}, 'finish_reason': 'STOP', 'model_name': 'gemini-2.0-flash', 'safety_ratings': []}, id='run--85fe0360-7343-4bc1-9289-82b9fe6b3cf0-0', usage_metadata={'input_tokens': 4641, 'output_tokens': 18, 'total_tokens': 4659, 'input_token_details': {'cache_read': 0}}), HumanMessage(content='Για τον Άμλετ', additional_kwargs={}, response_metadata={}), AIMessage(content='Πότε θα θέλατε να κλείσετε το εισιτήριο για τον Άμλετ;', additional_kwargs={}, response_metadata={'prompt_feedback': {'block_reason': 0, 'safety_ratings': []}, 'finish_reason': 'STOP', 'model_name': 'gemini-2.0-flash', 'safety_ratings': []}, id='run--b274267e-7408-4fa9-8ffb-e809676e623f-0', usage_metadata={'input_tokens': 4641, 'output_tokens': 22, 'total_tokens': 4663, 'input_token_details': {'cache_read': 0}}), HumanMessage(content='Για παρασκευή 15/11', additional_kwargs={}, response_metadata={}), AIMessage(content='Δεν υπάρχει Παρασκευή 15/11 για την παράσταση Άμλετ. Υπάρχει Σάββατο 15/11 στις 18:00. Θα θέλατε να κλείσετε για αυτή την ημερομηνία;', additional_kwargs={}, response_metadata={'prompt_feedback': {'block_reason': 0, 'safety_ratings': []}, 'finish_reason': 'STOP', 'model_name': 'gemini-2.0-flash', 'safety_ratings': []}, id='run--27d34f70-5b0b-4f1f-9cfb-7b921623eed8-0', usage_metadata={'input_tokens': 4654, 'output_tokens': 63, 'total_tokens': 4717, 'input_token_details': {'cache_read': 0}}), HumanMessage(content='Ναι', additional_kwargs={}, response_metadata={}), AIMessage(content='Πόσα εισιτήρια θα θέλατε να κλείσετε για το Σάββατο 15/11 στις 18:00;', additional_kwargs={}, response_metadata={'prompt_feedback': {'block_reason': 0, 'safety_ratings': []}, 'finish_reason': 'STOP', 'model_name': 'gemini-2.0-flash', 'safety_ratings': []}, id='run--dbe62a96-ffa0-4700-94f7-cd2182224df8-0', usage_metadata={'input_tokens': 4510, 'output_tokens': 37, 'total_tokens': 4547, 'input_token_details': {'cache_read': 0}}), HumanMessage(content='1', additional_kwargs={}, response_metadata={}), AIMessage(content='Ένα.', additional_kwargs={}, response_metadata={'prompt_feedback': {'block_reason': 0, 'safety_ratings': []}, 'finish_reason': 'STOP', 'model_name': 'gemini-2.0-flash', 'safety_ratings': []}, id='run--daa82673-580a-4260-9fd6-94dc3104407f-0', usage_metadata={'input_tokens': 4314, 'output_tokens': 3, 'total_tokens': 4317, 'input_token_details': {'cache_read': 0}}), HumanMessage(content='Τι άλλο χρειάζεται;', additional_kwargs={}, response_metadata={}), AIMessage(content='Θα χρειαστώ το όνομα και το επώνυμό σας για την κράτηση.', additional_kwargs={}, response_metadata={'prompt_feedback': {'block_reason': 0, 'safety_ratings': []}, 'finish_reason': 'STOP', 'model_name': 'gemini-2.0-flash', 'safety_ratings': []}, id='run--a72e62db-7e94-4624-b531-eca5ecc38177-0', usage_metadata={'input_tokens': 4087, 'output_tokens': 22, 'total_tokens': 4109, 'input_token_details': {'cache_read': 0}})]\n"
     ]
    },
    {
     "name": "stderr",
     "output_type": "stream",
     "text": [
      "/usr/local/lib/python3.11/dist-packages/langchain_google_genai/chat_models.py:424: UserWarning: Convert_system_message_to_human will be deprecated!\n",
      "  warnings.warn(\"Convert_system_message_to_human will be deprecated!\")\n"
     ]
    },
    {
     "name": "stdout",
     "output_type": "stream",
     "text": [
      "  LLM Response (gemini-2.0-flash): Εντοπίστηκε κλήση εργαλείου\n",
      "    -> Πρόθεση: BookTicketParameters, Παράμετροι: {'last_name': 'Ταράτσας', 'first_name': 'Χάρης', 'time': '18:00', 'date': '2025-11-15', 'num_tickets': 1.0, 'show_name': 'Άμλετ'}\n",
      "Εισερχόμενο για session my_test_session_123: Επιβεβαιώνω\n",
      "Τρέχον ιστορικό για session my_test_session_123 (πριν την κλήση): [HumanMessage(content='Θέλω να κλείσω ένα εισιτήριο', additional_kwargs={}, response_metadata={}), AIMessage(content='Για ποια παράσταση θα θέλατε να κλείσετε εισιτήριο;', additional_kwargs={}, response_metadata={'prompt_feedback': {'block_reason': 0, 'safety_ratings': []}, 'finish_reason': 'STOP', 'model_name': 'gemini-2.0-flash', 'safety_ratings': []}, id='run--85fe0360-7343-4bc1-9289-82b9fe6b3cf0-0', usage_metadata={'input_tokens': 4641, 'output_tokens': 18, 'total_tokens': 4659, 'input_token_details': {'cache_read': 0}}), HumanMessage(content='Για τον Άμλετ', additional_kwargs={}, response_metadata={}), AIMessage(content='Πότε θα θέλατε να κλείσετε το εισιτήριο για τον Άμλετ;', additional_kwargs={}, response_metadata={'prompt_feedback': {'block_reason': 0, 'safety_ratings': []}, 'finish_reason': 'STOP', 'model_name': 'gemini-2.0-flash', 'safety_ratings': []}, id='run--b274267e-7408-4fa9-8ffb-e809676e623f-0', usage_metadata={'input_tokens': 4641, 'output_tokens': 22, 'total_tokens': 4663, 'input_token_details': {'cache_read': 0}}), HumanMessage(content='Για παρασκευή 15/11', additional_kwargs={}, response_metadata={}), AIMessage(content='Δεν υπάρχει Παρασκευή 15/11 για την παράσταση Άμλετ. Υπάρχει Σάββατο 15/11 στις 18:00. Θα θέλατε να κλείσετε για αυτή την ημερομηνία;', additional_kwargs={}, response_metadata={'prompt_feedback': {'block_reason': 0, 'safety_ratings': []}, 'finish_reason': 'STOP', 'model_name': 'gemini-2.0-flash', 'safety_ratings': []}, id='run--27d34f70-5b0b-4f1f-9cfb-7b921623eed8-0', usage_metadata={'input_tokens': 4654, 'output_tokens': 63, 'total_tokens': 4717, 'input_token_details': {'cache_read': 0}}), HumanMessage(content='Ναι', additional_kwargs={}, response_metadata={}), AIMessage(content='Πόσα εισιτήρια θα θέλατε να κλείσετε για το Σάββατο 15/11 στις 18:00;', additional_kwargs={}, response_metadata={'prompt_feedback': {'block_reason': 0, 'safety_ratings': []}, 'finish_reason': 'STOP', 'model_name': 'gemini-2.0-flash', 'safety_ratings': []}, id='run--dbe62a96-ffa0-4700-94f7-cd2182224df8-0', usage_metadata={'input_tokens': 4510, 'output_tokens': 37, 'total_tokens': 4547, 'input_token_details': {'cache_read': 0}}), HumanMessage(content='1', additional_kwargs={}, response_metadata={}), AIMessage(content='Ένα.', additional_kwargs={}, response_metadata={'prompt_feedback': {'block_reason': 0, 'safety_ratings': []}, 'finish_reason': 'STOP', 'model_name': 'gemini-2.0-flash', 'safety_ratings': []}, id='run--daa82673-580a-4260-9fd6-94dc3104407f-0', usage_metadata={'input_tokens': 4314, 'output_tokens': 3, 'total_tokens': 4317, 'input_token_details': {'cache_read': 0}}), HumanMessage(content='Τι άλλο χρειάζεται;', additional_kwargs={}, response_metadata={}), AIMessage(content='Θα χρειαστώ το όνομα και το επώνυμό σας για την κράτηση.', additional_kwargs={}, response_metadata={'prompt_feedback': {'block_reason': 0, 'safety_ratings': []}, 'finish_reason': 'STOP', 'model_name': 'gemini-2.0-flash', 'safety_ratings': []}, id='run--a72e62db-7e94-4624-b531-eca5ecc38177-0', usage_metadata={'input_tokens': 4087, 'output_tokens': 22, 'total_tokens': 4109, 'input_token_details': {'cache_read': 0}}), HumanMessage(content='Χάρης Ταράτσας', additional_kwargs={}, response_metadata={}), AIMessage(content='', additional_kwargs={'function_call': {'name': 'BookTicketParameters', 'arguments': '{\"last_name\": \"\\\\u03a4\\\\u03b1\\\\u03c1\\\\u03ac\\\\u03c4\\\\u03c3\\\\u03b1\\\\u03c2\", \"first_name\": \"\\\\u03a7\\\\u03ac\\\\u03c1\\\\u03b7\\\\u03c2\", \"time\": \"18:00\", \"date\": \"2025-11-15\", \"num_tickets\": 1.0, \"show_name\": \"\\\\u0386\\\\u03bc\\\\u03bb\\\\u03b5\\\\u03c4\"}'}}, response_metadata={'prompt_feedback': {'block_reason': 0, 'safety_ratings': []}, 'finish_reason': 'STOP', 'model_name': 'gemini-2.0-flash', 'safety_ratings': []}, id='run--d2e414b5-c0e5-4c66-9130-a7ebf7fa21a0-0', tool_calls=[{'name': 'BookTicketParameters', 'args': {'last_name': 'Ταράτσας', 'first_name': 'Χάρης', 'time': '18:00', 'date': '2025-11-15', 'num_tickets': 1.0, 'show_name': 'Άμλετ'}, 'id': 'ef63276a-61bd-4725-8f58-002b9d85a692', 'type': 'tool_call'}], usage_metadata={'input_tokens': 4089, 'output_tokens': 44, 'total_tokens': 4133, 'input_token_details': {'cache_read': 0}})]\n"
     ]
    },
    {
     "name": "stderr",
     "output_type": "stream",
     "text": [
      "/usr/local/lib/python3.11/dist-packages/langchain_google_genai/chat_models.py:424: UserWarning: Convert_system_message_to_human will be deprecated!\n",
      "  warnings.warn(\"Convert_system_message_to_human will be deprecated!\")\n"
     ]
    }
   ],
   "source": [
    "# --- Αρχικοποίηση Μεταβλητών ---\n",
    "llm_chat_model = None\n",
    "llm_with_tools = None\n",
    "chain = None # Η κύρια LangChain chain\n",
    "tool_names_str = \", \".join([t.__name__ for t in tools]) # tools από Κελί 5\n",
    "model_name_to_use = \"gemini-2.0-flash\" \n",
    "flask_app_port = 4000 # Η πόρτα που θα ακούει το Flask app\n",
    "\n",
    "# --- Φόρτωση Δεδομένων ---\n",
    "theater_full_data = load_theater_data() # load_theater_data από Κελί 5\n",
    "if not theater_full_data or (not theater_full_data.get(\"shows\") and not theater_full_data.get(\"theater_general_info\")):\n",
    "    print(\"ΠΡΟΕΙΔΟΠΟΙΗΣΗ NOTEBOOK: Δεν φορτώθηκαν ή είναι ελλιπή τα δεδομένα θεάτρου.\")\n",
    "    theater_full_data = {\"theater_general_info\": {}, \"shows\": []}\n",
    "\n",
    "raw_theater_general_info_string = json.dumps(theater_full_data.get(\"theater_general_info\", {}), indent=2, ensure_ascii=False)\n",
    "theater_general_info_string_for_prompt = raw_theater_general_info_string.replace(\"{\", \"{{\").replace(\"}\", \"}}\")\n",
    "raw_shows_data_string = json.dumps(theater_full_data.get(\"shows\", []), indent=2, ensure_ascii=False)\n",
    "shows_data_string_for_prompt = raw_shows_data_string.replace(\"{\", \"{{\").replace(\"}\", \"}}\")\n",
    "\n",
    "# --- Αρχικοποίηση Chatbot (LLM και Chain) ---\n",
    "if google_api_key: # google_api_key από Κελί 3\n",
    "    try:\n",
    "        print(f\"Αρχικοποίηση ChatGoogleGenerativeAI με μοντέλο {model_name_to_use}...\")\n",
    "        llm_chat_model = ChatGoogleGenerativeAI(\n",
    "            model=model_name_to_use,\n",
    "            google_api_key=google_api_key,\n",
    "            temperature=0.1,\n",
    "            convert_system_message_to_human=True\n",
    "        )\n",
    "        print(f\"Το ChatGoogleGenerativeAI ({model_name_to_use}) αρχικοποιήθηκε επιτυχώς.\")\n",
    "\n",
    "        print(f\"Σύνδεση εργαλείων με το μοντέλο ChatGoogleGenerativeAI ({model_name_to_use})...\")\n",
    "        llm_with_tools = llm_chat_model.bind_tools(tools)\n",
    "        print(\"Η σύνδεση των εργαλείων ολοκληρώθηκε.\")\n",
    "\n",
    "        system_message_content_gemini = f\"\"\"Είσαι ένα εξυπηρετικό και ακριβές AI chatbot για το θέατρο '{theater_full_data.get(\"theater_general_info\", {}).get(\"name\", \"Το Θέατρό μας\")}'.\n",
    "        Ο στόχος σου είναι να βοηθάς τους χρήστες με πληροφορίες για τις παραστάσεις, να τους βοηθάς να κλείνουν εισιτήρια και να απαντάς σε γενικές ερωτήσεις για το θέατρο.\n",
    "        Μιλάς άπταιστα Ελληνικά και ΠΡΕΠΕΙ πάντα να απαντάς στα Ελληνικά.\n",
    "        ΠΑΝΤΑ να χρησιμοποιείς τα παρεχόμενα δεδομένα για να απαντάς στις ερωτήσεις.\n",
    "        ΜΗΝ επινοείς πληροφορίες αν δεν υπάρχουν στα παρεχόμενα δεδομένα.\n",
    "\n",
    "        Γενικές Πληροφορίες Θεάτρου:\n",
    "        {theater_general_info_string_for_prompt}\n",
    "        Διαθέσιμα Δεδομένα Παραστάσεων:\n",
    "        {shows_data_string_for_prompt}\n",
    "        Διαθέσιμα Εργαλεία/Προθέσεις: {{tool_names}}\n",
    "\n",
    "        Οδηγίες για τη χρήση εργαλείων:\n",
    "        Όταν το ερώτημα του χρήστη ταιριάζει με μία από τις παρακάτω προθέσεις, ΠΡΕΠΕΙ να καλέσεις το αντίστοιχο εργαλείο και να παρέχεις τις παραμέτρους όπως περιγράφονται στις περιγραφές των εργαλείων (οι οποίες είναι στα Ελληνικά).\n",
    "        Αν καλέσεις ένα εργαλείο, η τελική σου απάντηση προς τον χρήστη πρέπει να βασίζεται στα αποτελέσματα του εργαλείου ή στις πληροφορίες που σχετίζονται με αυτό.\n",
    "        Αν ο χρήστης ζητήσει κάτι που ταιριάζει σε εργαλείο, κάλεσε το εργαλείο. Μην απαντάς απευθείας αν μπορείς να χρησιμοποιήσεις εργαλείο.\n",
    "        1. GetShowInfoParameters: Αν ο χρήστης ρωτά για παραστάσεις.\n",
    "        2. BookTicketParameters: Αν ο χρήστης θέλει να κλείσει εισιτήρια.\n",
    "        3. GetTheaterInfoParameters: Για γενικές πληροφορίες θεάτρου.\n",
    "        Αν το ερώτημα του χρήστη είναι απλός χαιρετισμός, ψιλοκουβέντα ή ευχαριστίες, απάντησε φυσικά χωρίς να καλέσεις κάποιο εργαλείο.\n",
    "        Ιστορικό Διαλόγου: {{chat_history}}\n",
    "        \"\"\"\n",
    "        \n",
    "        prompt_template = ChatPromptTemplate.from_messages([\n",
    "            (\"system\", system_message_content_gemini),\n",
    "            (\"human\", \"{user_input}\")\n",
    "        ])\n",
    "\n",
    "        chain = prompt_template | llm_with_tools\n",
    "        print(f\"Η αλυσίδα (chain) με ChatGoogleGenerativeAI ({model_name_to_use}) δημιουργήθηκε.\")\n",
    "    except Exception as e:\n",
    "        print(f\"ΣΦΑΛΜΑ NOTEBOOK κατά την αρχικοποίηση του ChatGoogleGenerativeAI ή τη σύνδεση εργαλείων: {e}\")\n",
    "        traceback.print_exc()\n",
    "else:\n",
    "    print(\"Το Google API Key δεν είναι διαθέσιμο. Η αρχικοποίηση του LLM παραλείπεται.\")\n",
    "\n",
    "# --- Διαχείριση Ιστορικού Συνομιλίας (Global για το Flask App) ---\n",
    "# Για μια εργασία, μπορούμε να χρησιμοποιήσουμε ένα απλό global dictionary για τα session histories.\n",
    "# Κλειδί: session_id (αυθαίρετο string), Τιμή: λίστα από μηνύματα (HumanMessage, AIMessage)\n",
    "session_chat_histories: Dict[str, List[Any]] = {}\n",
    "session_collected_booking_info: Dict[str, Dict[str, Any]] = {}\n",
    "MAX_HISTORY_TURNS = 7 # Μέγιστος αριθμός ζευγών user-AI μηνυμάτων στο ιστορικό\n",
    "\n",
    "# --- Flask App ---\n",
    "from flask_cors import CORS\n",
    "app = Flask(__name__)\n",
    "CORS(app, origins=[\"http://localhost:8081\"])\n",
    "CORS(app)\n",
    "\n",
    "\n",
    "\n",
    "@app.route('/chat', methods=['POST'])\n",
    "def chat_endpoint():\n",
    "    global chain, theater_full_data, tool_names_str # Δήλωση ότι χρησιμοποιούμε τις global μεταβλητές\n",
    "\n",
    "    if not chain:\n",
    "        return jsonify({\"error\": \"Το Chatbot (chain) δεν έχει αρχικοποιηθεί σωστά.\"}), 500\n",
    "\n",
    "    try:\n",
    "        data = request.json\n",
    "        user_input_text = data.get('message')\n",
    "        session_id = data.get('session_id', 'default_session') # Χρήση session_id για ιστορικό\n",
    "\n",
    "        if not user_input_text:\n",
    "            return jsonify({\"error\": \"Το μήνυμα (message) είναι κενό.\"}), 400\n",
    "\n",
    "        # Ανάκτηση ή δημιουργία ιστορικού για το session\n",
    "        current_dialog_history = session_chat_histories.get(session_id, [])\n",
    "        current_booking_info = session_collected_booking_info.get(session_id, {})\n",
    "        \n",
    "        print(f\"Εισερχόμενο για session {session_id}: {user_input_text}\")\n",
    "        print(f\"Τρέχον ιστορικό για session {session_id} (πριν την κλήση): {current_dialog_history}\")\n",
    "\n",
    "\n",
    "        chain_input = {\n",
    "            \"user_input\": user_input_text,\n",
    "            \"chat_history\": current_dialog_history,\n",
    "            \"tool_names\": tool_names_str\n",
    "        }\n",
    "        ai_response_message = chain.invoke(chain_input)\n",
    "\n",
    "        final_user_facing_response = \"\"\n",
    "        extracted_info_for_ticket_json = None # Για επιστροφή JSON αν ολοκληρωθεί κράτηση\n",
    "\n",
    "        if hasattr(ai_response_message, 'tool_calls') and ai_response_message.tool_calls and len(ai_response_message.tool_calls) > 0:\n",
    "            print(f\"  LLM Response ({model_name_to_use}): Εντοπίστηκε κλήση εργαλείου\")\n",
    "            tool_call = ai_response_message.tool_calls[0]\n",
    "            recognized_intent = tool_call.get('name', 'άγνωστο_εργαλείο')\n",
    "            extracted_parameters = tool_call.get('args', {})\n",
    "            print(f\"    -> Πρόθεση: {recognized_intent}, Παράμετροι: {extracted_parameters}\")\n",
    "\n",
    "            if ai_response_message.content and isinstance(ai_response_message.content, str) and ai_response_message.content.strip():\n",
    "                final_user_facing_response = ai_response_message.content\n",
    "            else:\n",
    "                if recognized_intent == \"GetShowInfoParameters\":\n",
    "                    final_user_facing_response = format_show_info_response(extracted_parameters, theater_full_data.get(\"shows\", []))\n",
    "                elif recognized_intent == \"GetTheaterInfoParameters\":\n",
    "                    final_user_facing_response = format_theater_info_response(extracted_parameters, theater_full_data.get(\"theater_general_info\", {}))\n",
    "                elif recognized_intent == \"BookTicketParameters\":\n",
    "                    for key, value in extracted_parameters.items():\n",
    "                        if value is not None: current_booking_info[key] = value\n",
    "                    \n",
    "                    required_fields = ['first_name', 'last_name', 'show_name', 'num_tickets', 'date']\n",
    "                    missing_fields = [f for f in required_fields if f not in current_booking_info or current_booking_info[f] is None]\n",
    "\n",
    "                    if not missing_fields:\n",
    "                        final_user_facing_response = (\n",
    "                            f\"Επιβεβαίωση για πιθανή κράτηση για τον/την {current_booking_info.get('first_name')} {current_booking_info.get('last_name')}:\\n\"\n",
    "                            f\"Παράσταση: {current_booking_info.get('show_name')}\\nΑριθμός Εισιτηρίων: {current_booking_info.get('num_tickets')}\\n\"\n",
    "                            f\"Ημερομηνία: {current_booking_info.get('date')}\\nΏρα: {current_booking_info.get('time', 'Δεν έχει οριστεί')}\\n\"\n",
    "                            \"Η κράτηση έχει προσομοιωθεί. Τα στοιχεία είναι έτοιμα.\"\n",
    "                        )\n",
    "                        extracted_info_for_ticket_json = current_booking_info.copy()\n",
    "                        current_booking_info = {} # Καθαρισμός για επόμενη κράτηση στο ίδιο session\n",
    "                    else:\n",
    "                        final_user_facing_response = f\"Για την κράτηση, παρακαλώ δώστε μου: {', '.join(missing_fields)}.\"\n",
    "                else:\n",
    "                    final_user_facing_response = f\"Κατανόησα ότι πρέπει να γίνει η ενέργεια '{recognized_intent}'.\"\n",
    "        \n",
    "        elif hasattr(ai_response_message, 'content') and isinstance(ai_response_message.content, str):\n",
    "            final_user_facing_response = ai_response_message.content\n",
    "        else:\n",
    "            final_user_facing_response = \"Συγγνώμη, δεν μπόρεσα να επεξεργαστώ την απάντηση.\"\n",
    "\n",
    "        # Ενημέρωση ιστορικού για το session\n",
    "        current_dialog_history.append(HumanMessage(content=user_input_text))\n",
    "        if isinstance(ai_response_message, AIMessage):\n",
    "            current_dialog_history.append(ai_response_message)\n",
    "        else:\n",
    "            current_dialog_history.append(AIMessage(content=final_user_facing_response, tool_calls=getattr(ai_response_message, 'tool_calls', [])))\n",
    "        \n",
    "        # Περιορισμός μεγέθους ιστορικού\n",
    "        if len(current_dialog_history) > MAX_HISTORY_TURNS * 2:\n",
    "            current_dialog_history = current_dialog_history[-(MAX_HISTORY_TURNS * 2):]\n",
    "        \n",
    "        session_chat_histories[session_id] = current_dialog_history\n",
    "        session_collected_booking_info[session_id] = current_booking_info # Αποθήκευση των (ενδεχομένως ενημερωμένων) στοιχείων κράτησης\n",
    "\n",
    "        response_data = {\"reply\": final_user_facing_response}\n",
    "        if extracted_info_for_ticket_json: # Το extracted_info_for_ticket_json ορίζεται στο Κελί 7 (στην πραγματικότητα στο Κελί 6 πλέον)\n",
    "            response_data[\"booking_details\"] = extracted_info_for_ticket_json\n",
    "            # session_collected_booking_info[session_id] = {} # Καθαρισμός μετά την αποστολή\n",
    "\n",
    "        \n",
    "        json_response = json.dumps(response_data, ensure_ascii=False, indent=2) # indent=2 για όμορφη εκτύπωση αν το δείτε στο browser/postman\n",
    "        return app.response_class(\n",
    "            response=json_response,\n",
    "            status=200,\n",
    "            mimetype='application/json; charset=utf-8'\n",
    "        )\n",
    "\n",
    "    except Exception as e:\n",
    "        print(f\"Σφάλμα στο /chat endpoint: {e}\")\n",
    "        traceback.print_exc()\n",
    "        return jsonify({\"error\": \"Προέκυψε ένα εσωτερικό σφάλμα στον server.\"}), 500\n",
    "\n",
    "# --- Εκκίνηση Ngrok και Flask App ---\n",
    "def start_flask_app():\n",
    "    # Η εκκίνηση του Flask app πρέπει να γίνει σε διαφορετικό thread αν το ngrok.connect() είναι blocking\n",
    "    # ή αν το run του flask είναι blocking. Στο Kaggle, το app.run() θα μπλοκάρει το κελί.\n",
    "    # Το ngrok.connect() από μόνο του συνήθως δεν μπλοκάρει αν το monitor_thread είναι False.\n",
    "    print(f\"Εκκίνηση Flask app στην πόρτα {flask_app_port}...\")\n",
    "    app.run(host='0.0.0.0', port=flask_app_port, debug=False, use_reloader=False)\n",
    "\n",
    "\n",
    "if google_api_key and ngrok_authtoken and chain:\n",
    "    print(\"Προσπάθεια εκκίνησης ngrok...\")\n",
    "    try:\n",
    "        # Κλείσιμο τυχόν προηγούμενων tunnels για καθαρή εκκίνηση\n",
    "        for t in ngrok.get_tunnels():\n",
    "            ngrok.disconnect(t.public_url)\n",
    "            ngrok.kill() # Διασφαλίζει ότι η διαδικασία του ngrok τερματίζεται\n",
    "            print(f\"Κλειστό προηγούμενο tunnel: {t.public_url}\")\n",
    "        \n",
    "        public_url = ngrok.connect(flask_app_port).public_url # Χρήση της global μεταβλητής flask_app_port\n",
    "        print(f\"Το Ngrok tunnel είναι ενεργό! Public URL: {public_url}\")\n",
    "        print(f\"Το Flask app θα ξεκινήσει σε λίγο στην πόρτα {flask_app_port}. Το API endpoint θα είναι: {public_url}/chat\")\n",
    "\n",
    "        # Για να τρέξει το Flask στο background στο Kaggle, χρειαζόμαστε threading\n",
    "        # Ωστόσο, η διαχείριση threads και η εκτύπωση output στο Kaggle μπορεί να είναι περίπλοκη.\n",
    "        # Μια πιο απλή προσέγγιση για demo είναι να τρέξουμε το Flask και να ξέρουμε ότι το κελί θα \"κολλήσει\" εδώ.\n",
    "        # Η React Native εφαρμογή θα πρέπει να καλέσει το public_url που τυπώθηκε.\n",
    "        \n",
    "        # ΣΗΜΑΝΤΙΚΟ: Το app.run() θα μπλοκάρει την περαιτέρω εκτέλεση αυτού του κελιού.\n",
    "        # Η επικοινωνία θα γίνεται μέσω του public_url από την React Native εφαρμογή.\n",
    "        start_flask_app() # Αυτό θα μπλοκάρει το κελί.\n",
    "\n",
    "    except Exception as e:\n",
    "        print(f\"Σφάλμα κατά την εκκίνηση του ngrok ή του Flask app: {e}\")\n",
    "        traceback.print_exc()\n",
    "        print(\"Βεβαιωθείτε ότι το ngrok authtoken είναι σωστό και δεν υπάρχει άλλη παρουσία ngrok να τρέχει με τον ίδιο λογαριασμό και περιορισμούς.\")\n",
    "else:\n",
    "    if not google_api_key: print(\"Το Google API Key λείπει, το Flask app δεν θα ξεκινήσει.\")\n",
    "    if not ngrok_authtoken: print(\"Το Ngrok Authtoken λείπει, το Flask app δεν θα ξεκινήσει.\")\n",
    "    if not chain: print(\"Η αλυσίδα LangChain (chain) δεν αρχικοποιήθηκε, το Flask app δεν θα ξεκινήσει.\")"
   ]
  }
 ],
 "metadata": {
  "kaggle": {
   "accelerator": "nvidiaTeslaT4",
   "dataSources": [],
   "dockerImageVersionId": 31041,
   "isGpuEnabled": true,
   "isInternetEnabled": true,
   "language": "python",
   "sourceType": "notebook"
  },
  "kernelspec": {
   "display_name": "Python 3",
   "language": "python",
   "name": "python3"
  },
  "language_info": {
   "codemirror_mode": {
    "name": "ipython",
    "version": 3
   },
   "file_extension": ".py",
   "mimetype": "text/x-python",
   "name": "python",
   "nbconvert_exporter": "python",
   "pygments_lexer": "ipython3",
   "version": "3.13.3"
  }
 },
 "nbformat": 4,
 "nbformat_minor": 4
}
